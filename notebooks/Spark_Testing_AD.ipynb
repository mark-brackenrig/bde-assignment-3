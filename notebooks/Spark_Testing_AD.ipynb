{
 "cells": [
  {
   "cell_type": "markdown",
   "id": "f16c4104",
   "metadata": {},
   "source": [
    "# Code Starting Point"
   ]
  },
  {
   "cell_type": "code",
   "execution_count": 2,
   "id": "15d9ffcd",
   "metadata": {},
   "outputs": [],
   "source": [
    "# Import all required function to generate streams, queries and views\n",
    "from pyspark.sql import SparkSession\n",
    "from IPython.display import display, clear_output\n",
    "import time\n",
    "from pyspark.sql import functions as F\n",
    "from pyspark.sql.types import StructType,StringType, StructField, IntegerType, FloatType, BinaryType, LongType, DoubleType"
   ]
  },
  {
   "cell_type": "code",
   "execution_count": 3,
   "id": "6919c2d1",
   "metadata": {},
   "outputs": [],
   "source": [
    "# Initiate a local spark session\n",
    "spark = SparkSession.builder \\\n",
    "        .appName('kafka') \\\n",
    "        .getOrCreate()"
   ]
  },
  {
   "cell_type": "code",
   "execution_count": 4,
   "id": "e39ad0f1",
   "metadata": {},
   "outputs": [],
   "source": [
    "# Create a function to generate the first stream (all data columns with no filtering)\n",
    "\n",
    "def generate_stocktrades_stream():\n",
    "    \n",
    "    # Define the raw Spark Stream\n",
    "    stream_df = spark \\\n",
    "      .readStream \\\n",
    "      .format(\"kafka\") \\\n",
    "      .option(\"kafka.bootstrap.servers\", \"broker:29092\") \\\n",
    "      .option(\"startingOffsets\", \"latest\") \\\n",
    "      .option(\"subscribe\", \"STOCKTRADES_JSON\") \\\n",
    "      .load()\n",
    "    \n",
    "    # Convert to string types for JSON conversion\n",
    "    string_stream_df = stream_df \\\n",
    "        .withColumn(\"key\", stream_df[\"key\"].cast(StringType())) \\\n",
    "        .withColumn('value', stream_df[\"value\"].cast(StringType()))\n",
    "    \n",
    "    # Define the Schema for the end JSON format\n",
    "    schema_stocktrades =  StructType([\n",
    "        StructField(\"SIDE\", StringType(),  True),\n",
    "        StructField(\"QUANTITY\", IntegerType(),  True),\n",
    "        StructField(\"PRICE\", IntegerType(),  True),\n",
    "        StructField(\"SYMBOL\", StringType(),  True),\n",
    "        StructField(\"ACCOUNT\", StringType(), True),\n",
    "        StructField(\"USERID\", StringType(), True)\n",
    "])\n",
    "    # Convert the string type to json format stream\n",
    "    json_stream_df = string_stream_df\\\n",
    "    .withColumn(\"value\", F.from_json(\"value\", schema_stocktrades))\n",
    "    stocktrades_stream_df = json_stream_df \\\n",
    "    .select( \\\n",
    "        F.col(\"key\").alias(\"event_key\"), \\\n",
    "        F.col(\"topic\").alias(\"event_topic\"), \\\n",
    "        F.col(\"timestamp\").alias(\"event_timestamp\"), \\\n",
    "        \"value.side\", \\\n",
    "        \"value.quantity\", \\\n",
    "        \"value.price\", \\\n",
    "        \"value.symbol\", \\\n",
    "        \"value.account\", \\\n",
    "        \"value.userid\"\n",
    "    )\n",
    "    \n",
    "    # Export a queryable view od the stream\n",
    "    return stocktrades_stream_df \\\n",
    "    .writeStream \\\n",
    "    .format(\"memory\") \\\n",
    "    .queryName(\"stocktrades_view\") \\\n",
    "    .start()"
   ]
  },
  {
   "cell_type": "code",
   "execution_count": null,
   "id": "143080df",
   "metadata": {},
   "outputs": [],
   "source": [
    "# Run function to generate raw stocktrades stream\n",
    "stocktrades_stream = generate_stocktrades_stream()"
   ]
  },
  {
   "cell_type": "code",
   "execution_count": null,
   "id": "fdb06f06",
   "metadata": {},
   "outputs": [],
   "source": [
    "# Show results (limit 20) of stream\n",
    "clear_output(wait=True)\n",
    "display(spark.sql('SELECT * FROM stocktrades_view').show(20))\n",
    "time.sleep(1)"
   ]
  },
  {
   "cell_type": "code",
   "execution_count": null,
   "id": "5cd66f6a",
   "metadata": {},
   "outputs": [],
   "source": [
    "# Stop the stream as it is no longer used\n",
    "stocktrades_stream.stop()"
   ]
  },
  {
   "cell_type": "code",
   "execution_count": null,
   "id": "1751a131",
   "metadata": {},
   "outputs": [],
   "source": [
    "# Create function to stream filtered streams from Kafka as streaming dataframes\n",
    "def generate_side_stream(SIDE):\n",
    "    \n",
    "    # Create string for source\n",
    "    source_stream = SIDE + \"_TRADES\"\n",
    "    # Define the raw Spark Stream\n",
    "    \n",
    "    stream_df = spark \\\n",
    "      .readStream \\\n",
    "      .format(\"kafka\") \\\n",
    "      .option(\"kafka.bootstrap.servers\", \"broker:29092\") \\\n",
    "      .option(\"startingOffsets\", \"latest\") \\\n",
    "      .option(\"subscribe\", source_stream) \\\n",
    "      .load()\n",
    "    \n",
    "    # Convert to string types for JSON conversion\n",
    "    string_stream_df = stream_df \\\n",
    "        .withColumn(\"key\", stream_df[\"key\"].cast(StringType())) \\\n",
    "        .withColumn('value', stream_df[\"value\"].cast(StringType()))\n",
    "    \n",
    "    # Define the Schema for the end JSON format\n",
    "    schema_stocktrades =  StructType([\n",
    "        StructField(\"QUANTITY\", IntegerType(),  True),\n",
    "        StructField(\"PRICE\", IntegerType(),  True),\n",
    "        StructField(\"SYMBOL\", StringType(),  True),\n",
    "        StructField(\"ACCOUNT\", StringType(), True),\n",
    "        StructField(\"USERID\", StringType(), True)\n",
    "])\n",
    "    # Convert the string type to json format stream\n",
    "    json_stream_df = string_stream_df\\\n",
    "    .withColumn(\"value\", F.from_json(\"value\", schema_stocktrades))\n",
    "    stocktrades_stream_df = json_stream_df \\\n",
    "    .select( \\\n",
    "        F.col(\"key\").alias(\"event_key\"), \\\n",
    "        F.col(\"topic\").alias(\"event_topic\"), \\\n",
    "        F.col(\"timestamp\").alias(\"event_timestamp\"), \\\n",
    "        \"value.quantity\", \\\n",
    "        \"value.price\", \\\n",
    "        \"value.symbol\", \\\n",
    "        \"value.account\", \\\n",
    "        \"value.userid\"\n",
    "    )\n",
    "    \n",
    "    # Export a queryable view od the stream\n",
    "    return stocktrades_stream_df \\\n",
    "    .writeStream \\\n",
    "    .format(\"memory\") \\\n",
    "    .queryName(SIDE + '_view') \\\n",
    "    .start()"
   ]
  },
  {
   "cell_type": "code",
   "execution_count": null,
   "id": "73fd7688",
   "metadata": {},
   "outputs": [],
   "source": [
    "# Create views of the buy and sell streams\n",
    "BUY_stream = generate_side_stream('BUY')\n",
    "SELL_stream = generate_side_stream('SELL')"
   ]
  },
  {
   "cell_type": "code",
   "execution_count": null,
   "id": "a14b7740",
   "metadata": {},
   "outputs": [],
   "source": [
    "# Show results (limit 20) of stream\n",
    "clear_output(wait=True)\n",
    "display(spark.sql('SELECT * FROM BUY_view').show(20))\n",
    "time.sleep(1)"
   ]
  },
  {
   "cell_type": "code",
   "execution_count": null,
   "id": "bc60b547",
   "metadata": {},
   "outputs": [],
   "source": [
    "# Show results (limit 20) of stream\n",
    "clear_output(wait=True)\n",
    "display(spark.sql('SELECT * FROM SELL_view').show(20))\n",
    "time.sleep(1)"
   ]
  },
  {
   "cell_type": "code",
   "execution_count": null,
   "id": "56461538",
   "metadata": {},
   "outputs": [],
   "source": [
    "# Stop the two streams\n",
    "BUY_stream.stop()\n",
    "SELL_stream.stop()"
   ]
  },
  {
   "cell_type": "code",
   "execution_count": 7,
   "id": "221c09ce",
   "metadata": {},
   "outputs": [],
   "source": [
    "### Create windowed dataframe\n",
    "\n",
    "# Restart the raw data data frame\n",
    "raw_stream_df = generate_stocktrades_stream()\n",
    "\n",
    "# Create parameters for the window stream\n",
    "window_duration = '60 seconds'\n",
    "slide_duration = '10 seconds'"
   ]
  },
  {
   "cell_type": "code",
   "execution_count": 9,
   "id": "f185536b",
   "metadata": {},
   "outputs": [
    {
     "ename": "AttributeError",
     "evalue": "'StreamingQuery' object has no attribute 'withWatermark'",
     "output_type": "error",
     "traceback": [
      "\u001b[0;31m---------------------------------------------------------------------------\u001b[0m",
      "\u001b[0;31mAttributeError\u001b[0m                            Traceback (most recent call last)",
      "\u001b[0;32m<ipython-input-9-7d9ee60e4a5c>\u001b[0m in \u001b[0;36m<module>\u001b[0;34m\u001b[0m\n\u001b[1;32m      1\u001b[0m \u001b[0;31m# Create the windowed stream\u001b[0m\u001b[0;34m\u001b[0m\u001b[0;34m\u001b[0m\u001b[0;34m\u001b[0m\u001b[0m\n\u001b[0;32m----> 2\u001b[0;31m \u001b[0mwindowed_agg_df\u001b[0m \u001b[0;34m=\u001b[0m \u001b[0mraw_stream_df\u001b[0m\u001b[0;31m \u001b[0m\u001b[0;31m\\\u001b[0m\u001b[0;34m\u001b[0m\u001b[0;34m\u001b[0m\u001b[0m\n\u001b[0m\u001b[1;32m      3\u001b[0m     \u001b[0;34m.\u001b[0m\u001b[0mwithWatermark\u001b[0m\u001b[0;34m(\u001b[0m\u001b[0;34m'event_timestamp'\u001b[0m\u001b[0;34m,\u001b[0m \u001b[0;34m'60 seconds'\u001b[0m\u001b[0;34m)\u001b[0m\u001b[0;31m \u001b[0m\u001b[0;31m\\\u001b[0m\u001b[0;34m\u001b[0m\u001b[0;34m\u001b[0m\u001b[0m\n\u001b[1;32m      4\u001b[0m     \u001b[0;34m.\u001b[0m\u001b[0mgrounBy\u001b[0m\u001b[0;34m(\u001b[0m\u001b[0mF\u001b[0m\u001b[0;34m.\u001b[0m\u001b[0mwindow\u001b[0m\u001b[0;34m(\u001b[0m\u001b[0mraw_stream_df\u001b[0m\u001b[0;34m.\u001b[0m\u001b[0meven_timestamp\u001b[0m\u001b[0;34m,\u001b[0m \u001b[0mwindor_duration\u001b[0m\u001b[0;34m,\u001b[0m \u001b[0mslide_duration\u001b[0m\u001b[0;34m)\u001b[0m\u001b[0;34m,\u001b[0m \u001b[0mraw_stream_df\u001b[0m\u001b[0;34m.\u001b[0m\u001b[0msymbol\u001b[0m\u001b[0;34m)\u001b[0m\u001b[0;31m \u001b[0m\u001b[0;31m\\\u001b[0m\u001b[0;34m\u001b[0m\u001b[0;34m\u001b[0m\u001b[0m\n\u001b[1;32m      5\u001b[0m     \u001b[0;34m.\u001b[0m\u001b[0mcount\u001b[0m\u001b[0;34m(\u001b[0m\u001b[0;34m)\u001b[0m\u001b[0;31m \u001b[0m\u001b[0;31m\\\u001b[0m\u001b[0;34m\u001b[0m\u001b[0;34m\u001b[0m\u001b[0m\n",
      "\u001b[0;31mAttributeError\u001b[0m: 'StreamingQuery' object has no attribute 'withWatermark'"
     ]
    }
   ],
   "source": [
    "# Create the windowed stream\n",
    "windowed_agg_df = raw_stream_df \\\n",
    "    .withWatermark('event_timestamp', '60 seconds') \\\n",
    "    .grounBy(F.window(raw_stream_df.even_timestamp, windor_duration, slide_duration), raw_stream_df.symbol) \\\n",
    "    .count() \\\n",
    "    .sum('QUANTITY') \\\n",
    "    .avg('PRICE')"
   ]
  },
  {
   "cell_type": "code",
   "execution_count": null,
   "id": "680f7a62",
   "metadata": {},
   "outputs": [],
   "source": [
    "# Export the stream as a qeuryable view\n",
    "windowed_agg_stream = windowed_agg_df \\\n",
    "                        .writeStream \\\n",
    "                        .format(\"memory\") \\\n",
    "                        .outputMode(\"Complete\") \\\n",
    "                        .queryName(\"windowed_view\") \\\n",
    "                        .start()"
   ]
  },
  {
   "cell_type": "code",
   "execution_count": null,
   "id": "c943dab9",
   "metadata": {},
   "outputs": [],
   "source": [
    "# Show output from view\n",
    "while True:\n",
    "    clear_output(wait=True)\n",
    "    display(spark.sql('SELECT * FROM windowed_view').show())\n",
    "    time.sleep(1)"
   ]
  },
  {
   "cell_type": "code",
   "execution_count": null,
   "id": "666dab27",
   "metadata": {},
   "outputs": [],
   "source": [
    "windowed_agg_stream.stop()"
   ]
  },
  {
   "cell_type": "code",
   "execution_count": null,
   "id": "0a615cce",
   "metadata": {},
   "outputs": [],
   "source": [
    "spark.stop()"
   ]
  }
 ],
 "metadata": {
  "kernelspec": {
   "display_name": "Python 3",
   "language": "python",
   "name": "python3"
  },
  "language_info": {
   "codemirror_mode": {
    "name": "ipython",
    "version": 3
   },
   "file_extension": ".py",
   "mimetype": "text/x-python",
   "name": "python",
   "nbconvert_exporter": "python",
   "pygments_lexer": "ipython3",
   "version": "3.8.8"
  }
 },
 "nbformat": 4,
 "nbformat_minor": 5
}
