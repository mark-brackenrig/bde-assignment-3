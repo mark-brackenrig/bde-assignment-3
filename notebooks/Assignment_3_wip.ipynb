{
 "cells": [
  {
   "cell_type": "markdown",
   "id": "4be234d2",
   "metadata": {},
   "source": [
    "## Part 1 - Produce Data\n",
    "We elected to use the datagen connector to generate fake data for this assignment. The topic we used was 'stocktrades. The steps were as follows:\n",
    "*  Open a browser and go to http://localhost:9021/\n",
    "*  Select the available cluster\n",
    "*  On the menu bar, select Connect\n",
    "*  Click on the connect-default cluster in the Connect Clusters list.\n",
    "*  Click on Add connector\n",
    "*  Select DatagenConnector\n",
    "*  Enter connector_stock_trades in the Name field\n",
    "\n",
    "Then:\n",
    "Generate a data stream with following configurations:\n",
    "```\n",
    "Key converter class: org.apache.kafka.connect.storage.StringConverter\n",
    "kafka.topic: stocktrades\n",
    "max.interval: 100\n",
    "quickstart: Stock_Trades\n",
    "```\n"
   ]
  },
  {
   "cell_type": "markdown",
   "id": "71da3a1d",
   "metadata": {},
   "source": [
    "## Part 2 - Using Ksql to create at least 2 streams with filtering from topics\n",
    "\n",
    "To begin, you need to create a stream called stocktrades with no filtering in place."
   ]
  },
  {
   "cell_type": "code",
   "execution_count": null,
   "id": "faed2428",
   "metadata": {},
   "outputs": [],
   "source": [
    "CREATE STREAM STOCKTRADES\n",
    "   (SIDE STRING, QUANTITY INTEGER, SYMBOL STRING, PRICE INTEGER, ACCOUNT STRING, USERID STRING)\n",
    "       WITH (KAFKA_TOPIC='stocktrades', VALUE_FORMAT='AVRO');"
   ]
  },
  {
   "cell_type": "markdown",
   "id": "3fe96936",
   "metadata": {},
   "source": [
    "### Stream 1 - Sell Stream\n",
    "It may be in the interest of the business to view only streams where the stock was sold and not bought. This would be useful in identifying which shares should be taken as a 'short' position"
   ]
  },
  {
   "cell_type": "code",
   "execution_count": null,
   "id": "8939b973",
   "metadata": {},
   "outputs": [],
   "source": [
    "CREATE STREAM SELL_TRADES WITH (KAFKA_TOPIC='SELL_TRADES', PARTITIONS=1, REPLICAS=1) AS SELECT\n",
    "  STOCKTRADES.QUANTITY QUANTITY,\n",
    "  STOCKTRADES.SYMBOL SYMBOL,\n",
    "  STOCKTRADES.PRICE PRICE,\n",
    "  STOCKTRADES.ACCOUNT ACCOUNT,\n",
    "  STOCKTRADES.USERID USERID\n",
    "FROM STOCKTRADES STOCKTRADES\n",
    "WHERE (STOCKTRADES.SIDE = 'SELL')\n",
    "EMIT CHANGES;\n"
   ]
  },
  {
   "cell_type": "markdown",
   "id": "982d8719",
   "metadata": {},
   "source": [
    "### Stream 2 - Buy Stream\n",
    "It may also be interesting to the business to see trades that were large buys."
   ]
  },
  {
   "cell_type": "code",
   "execution_count": null,
   "id": "1321d17a",
   "metadata": {},
   "outputs": [],
   "source": [
    "CREATE STREAM BUY_TRADES WITH (KAFKA_TOPIC='BUY_TRADES', PARTITIONS=1, REPLICAS=1) AS SELECT\n",
    "  STOCKTRADES.QUANTITY QUANTITY,\n",
    "  STOCKTRADES.SYMBOL SYMBOL,\n",
    "  STOCKTRADES.PRICE PRICE,\n",
    "  STOCKTRADES.ACCOUNT ACCOUNT,\n",
    "  STOCKTRADES.USERID USERID\n",
    "FROM STOCKTRADES STOCKTRADES\n",
    "WHERE (STOCKTRADES.SIDE = 'BUY')\n",
    "EMIT CHANGES;"
   ]
  },
  {
   "cell_type": "markdown",
   "id": "00df7f26",
   "metadata": {},
   "source": [
    "### Table 1 - Aggregated Buy Trades\n"
   ]
  },
  {
   "cell_type": "code",
   "execution_count": null,
   "id": "94768276",
   "metadata": {},
   "outputs": [],
   "source": [
    "CREATE TABLE AGG_BUY_ORDERS WITH (KAFKA_TOPIC='AGG_BUY_ORDERS', PARTITIONS=1, REPLICAS=1) AS SELECT\n",
    "  BUY_TRADES.SYMBOL SYMBOL,\n",
    "  SUM(BUY_TRADES.QUANTITY) QUANTITY_AGG,\n",
    "  AVG(BUY_TRADES.PRICE) PRICE_AVG,\n",
    "  SUM((BUY_TRADES.QUANTITY * BUY_TRADES.PRICE)) VALUE_TRADED\n",
    "FROM BUY_TRADES BUY_TRADES\n",
    "WINDOW TUMBLING ( SIZE 60 SECONDS )\n",
    "GROUP BY BUY_TRADES.SYMBOL\n",
    "EMIT CHANGES;\n"
   ]
  },
  {
   "cell_type": "markdown",
   "id": "78dc90d1",
   "metadata": {},
   "source": [
    "### Table 2 - Aggregated Sell Trades"
   ]
  },
  {
   "cell_type": "code",
   "execution_count": null,
   "id": "5a3d6d07",
   "metadata": {},
   "outputs": [],
   "source": [
    "CREATE TABLE AGG_SELL_ORDERS WITH (KAFKA_TOPIC='AGG_SELL_ORDERS', PARTITIONS=1, REPLICAS=1) AS SELECT\n",
    "  SELL_TRADES.SYMBOL SYMBOL,\n",
    "  SUM(SELL_TRADES.QUANTITY) QUANTITY_AGG,\n",
    "  AVG(SELL_TRADES.PRICE) PRICE_AVG,\n",
    "  SUM((SELL_TRADES.QUANTITY * SELL_TRADES.PRICE)) VALUE_TRADED\n",
    "FROM SELL_TRADES SELL_TRADES\n",
    "WINDOW TUMBLING ( SIZE 60 SECONDS )\n",
    "GROUP BY SELL_TRADES.SYMBOL\n",
    "EMIT CHANGES;"
   ]
  },
  {
   "cell_type": "markdown",
   "id": "d3016424",
   "metadata": {},
   "source": [
    "## Part 3 - Consume/Transform data with Spark Streaming"
   ]
  },
  {
   "cell_type": "code",
   "execution_count": 50,
   "id": "898ccf69",
   "metadata": {},
   "outputs": [],
   "source": [
    "from pyspark.sql import SparkSession\n",
    "from IPython.display import display, clear_output\n",
    "import time\n",
    "from pyspark.sql import functions as F\n",
    "from pyspark.sql.types import StructType,StringType, StructField, IntegerType, FloatType, BinaryType"
   ]
  },
  {
   "cell_type": "code",
   "execution_count": 66,
   "id": "a1529d98",
   "metadata": {},
   "outputs": [],
   "source": [
    "spark = SparkSession.builder \\\n",
    "        .appName('kafka') \\\n",
    "        .getOrCreate()"
   ]
  },
  {
   "cell_type": "code",
   "execution_count": 67,
   "id": "211af988",
   "metadata": {},
   "outputs": [
    {
     "data": {
      "text/plain": [
       "'3.1.1'"
      ]
     },
     "execution_count": 67,
     "metadata": {},
     "output_type": "execute_result"
    }
   ],
   "source": [
    "spark.version"
   ]
  },
  {
   "cell_type": "code",
   "execution_count": 68,
   "id": "bf562be5",
   "metadata": {},
   "outputs": [
    {
     "data": {
      "text/plain": [
       "'3.2.0'"
      ]
     },
     "execution_count": 68,
     "metadata": {},
     "output_type": "execute_result"
    }
   ],
   "source": [
    "spark._jvm.org.apache.hadoop.util.VersionInfo.getVersion()"
   ]
  },
  {
   "cell_type": "markdown",
   "id": "7cda48e2",
   "metadata": {},
   "source": [
    "## Raw Data Streams"
   ]
  },
  {
   "cell_type": "code",
   "execution_count": 69,
   "id": "5d1fa10b",
   "metadata": {},
   "outputs": [],
   "source": [
    "stream_df = spark \\\n",
    "  .readStream \\\n",
    "  .format(\"kafka\") \\\n",
    "  .option(\"kafka.bootstrap.servers\", \"broker:29092\") \\\n",
    "  .option(\"startingOffsets\", \"earliest\") \\\n",
    "  .option(\"subscribe\", \"BUY_TRADES\") \\\n",
    "  .load()"
   ]
  },
  {
   "cell_type": "code",
   "execution_count": 70,
   "id": "14a602b6",
   "metadata": {},
   "outputs": [
    {
     "name": "stdout",
     "output_type": "stream",
     "text": [
      "root\n",
      " |-- key: binary (nullable = true)\n",
      " |-- value: binary (nullable = true)\n",
      " |-- topic: string (nullable = true)\n",
      " |-- partition: integer (nullable = true)\n",
      " |-- offset: long (nullable = true)\n",
      " |-- timestamp: timestamp (nullable = true)\n",
      " |-- timestampType: integer (nullable = true)\n",
      "\n"
     ]
    }
   ],
   "source": [
    "stream_df.printSchema()"
   ]
  },
  {
   "cell_type": "code",
   "execution_count": 71,
   "id": "4a659362",
   "metadata": {},
   "outputs": [],
   "source": [
    "raw_stream = stream_df \\\n",
    "    .writeStream \\\n",
    "    .format(\"memory\") \\\n",
    "    .queryName(\"raw_stocktrades_view\") \\\n",
    "    .start()"
   ]
  },
  {
   "cell_type": "code",
   "execution_count": 72,
   "id": "70aa839c",
   "metadata": {},
   "outputs": [
    {
     "name": "stdout",
     "output_type": "stream",
     "text": [
      "+----+-------------------------------------------------------------------------------------------------------+\n",
      "|key |value                                                                                                  |\n",
      "+----+-------------------------------------------------------------------------------------------------------+\n",
      "|null|[00 00 00 00 03 02 8E 43 02 0A 5A 57 5A 5A 54 02 FC 0A 02 0C 58 59 5A 37 38 39 02 0C 55 73 65 72 5F 37]|\n",
      "|null|[00 00 00 00 03 02 BC 01 02 0A 5A 57 5A 5A 54 02 8C 0D 02 0C 58 59 5A 37 38 39 02 0C 55 73 65 72 5F 37]|\n",
      "|null|[00 00 00 00 03 02 F2 03 02 0A 5A 4A 5A 5A 54 02 C0 07 02 0C 4C 4D 4E 34 35 36 02 0C 55 73 65 72 5F 35]|\n",
      "|null|[00 00 00 00 03 02 A8 10 02 0A 5A 4A 5A 5A 54 02 EA 0C 02 0C 4C 4D 4E 34 35 36 02 0C 55 73 65 72 5F 32]|\n",
      "|null|[00 00 00 00 03 02 D2 2A 02 06 5A 56 56 02 C0 02 02 0C 4C 4D 4E 34 35 36 02 0C 55 73 65 72 5F 34]      |\n",
      "|null|[00 00 00 00 03 02 D2 0F 02 0A 5A 54 45 53 54 02 96 04 02 0C 4C 4D 4E 34 35 36 02 0C 55 73 65 72 5F 37]|\n",
      "|null|[00 00 00 00 03 02 8E 49 02 0A 5A 4A 5A 5A 54 02 18 02 0C 41 42 43 31 32 33 02 0C 55 73 65 72 5F 37]   |\n",
      "|null|[00 00 00 00 03 02 E0 17 02 0A 5A 56 5A 5A 54 02 8A 08 02 0C 4C 4D 4E 34 35 36 02 0C 55 73 65 72 5F 39]|\n",
      "|null|[00 00 00 00 03 02 FA 3E 02 0A 5A 4A 5A 5A 54 02 C6 0E 02 0C 4C 4D 4E 34 35 36 02 0C 55 73 65 72 5F 33]|\n",
      "|null|[00 00 00 00 03 02 A4 2C 02 0A 5A 58 5A 5A 54 02 80 0A 02 0C 4C 4D 4E 34 35 36 02 0C 55 73 65 72 5F 35]|\n",
      "|null|[00 00 00 00 03 02 96 32 02 0A 5A 56 5A 5A 54 02 28 02 0C 58 59 5A 37 38 39 02 0C 55 73 65 72 5F 39]   |\n",
      "|null|[00 00 00 00 03 02 C4 4C 02 0A 5A 54 45 53 54 02 A2 08 02 0C 41 42 43 31 32 33 02 0C 55 73 65 72 5F 35]|\n",
      "|null|[00 00 00 00 03 02 9E 22 02 0A 5A 57 5A 5A 54 02 0E 02 0C 41 42 43 31 32 33 02 0C 55 73 65 72 5F 33]   |\n",
      "|null|[00 00 00 00 03 02 DC 20 02 08 5A 42 5A 58 02 A4 01 02 0C 58 59 5A 37 38 39 02 0C 55 73 65 72 5F 32]   |\n",
      "|null|[00 00 00 00 03 02 C8 1C 02 0A 5A 54 45 53 54 02 EC 0A 02 0C 58 59 5A 37 38 39 02 0C 55 73 65 72 5F 37]|\n",
      "|null|[00 00 00 00 03 02 D2 2B 02 0A 5A 56 5A 5A 54 02 96 02 02 0C 4C 4D 4E 34 35 36 02 0C 55 73 65 72 5F 34]|\n",
      "|null|[00 00 00 00 03 02 BA 33 02 0A 5A 58 5A 5A 54 02 B8 04 02 0C 4C 4D 4E 34 35 36 02 0C 55 73 65 72 5F 39]|\n",
      "|null|[00 00 00 00 03 02 DA 34 02 08 5A 42 5A 58 02 9C 01 02 0C 58 59 5A 37 38 39 02 0C 55 73 65 72 5F 33]   |\n",
      "|null|[00 00 00 00 03 02 AA 44 02 0A 5A 57 5A 5A 54 02 42 02 0C 41 42 43 31 32 33 02 0C 55 73 65 72 5F 36]   |\n",
      "|null|[00 00 00 00 03 02 EA 23 02 0A 5A 56 5A 5A 54 02 DA 08 02 0C 41 42 43 31 32 33 02 0C 55 73 65 72 5F 38]|\n",
      "+----+-------------------------------------------------------------------------------------------------------+\n",
      "only showing top 20 rows\n",
      "\n"
     ]
    },
    {
     "data": {
      "text/plain": [
       "None"
      ]
     },
     "metadata": {},
     "output_type": "display_data"
    }
   ],
   "source": [
    "clear_output(wait=True)\n",
    "display(spark.sql('SELECT key, value FROM raw_stocktrades_view').show(20,False))\n",
    "time.sleep(1)"
   ]
  },
  {
   "cell_type": "code",
   "execution_count": 73,
   "id": "9ddde8b3",
   "metadata": {},
   "outputs": [],
   "source": [
    "raw_stream.stop()"
   ]
  },
  {
   "cell_type": "markdown",
   "id": "7dbbfb34",
   "metadata": {},
   "source": [
    "### Convert Key Value pairs to strings"
   ]
  },
  {
   "cell_type": "code",
   "execution_count": 74,
   "id": "3824e933",
   "metadata": {},
   "outputs": [],
   "source": [
    "binary_to_string = F.udf(lambda x: str(int.from_bytes(x, byteorder='big')), StringType())"
   ]
  },
  {
   "cell_type": "code",
   "execution_count": 75,
   "id": "0cf34d30",
   "metadata": {},
   "outputs": [],
   "source": [
    "string_stream_df = stream_df \\\n",
    "    .withColumn(\"key\", stream_df[\"key\"].cast(StringType())) \\\n",
    "      .withColumn('value', stream_df[\"value\"].cast(BinaryType()).cast(StringType()))"
   ]
  },
  {
   "cell_type": "code",
   "execution_count": 76,
   "id": "bbf2a701",
   "metadata": {},
   "outputs": [],
   "source": [
    "string_stream = string_stream_df \\\n",
    "    .writeStream \\\n",
    "    .format(\"memory\") \\\n",
    "    .queryName(\"string_stocktrades_view\") \\\n",
    "    .start()"
   ]
  },
  {
   "cell_type": "code",
   "execution_count": 77,
   "id": "1567aa88",
   "metadata": {},
   "outputs": [
    {
     "name": "stdout",
     "output_type": "stream",
     "text": [
      "+----+----------------------------------+\n",
      "|key |value                             |\n",
      "+----+----------------------------------+\n",
      "|null|\u0000\u0000\u0000\u0000\u0003\u0002�C\u0002\n",
      "ZWZZT\u0002�\n",
      "\u0002\f",
      "XYZ789\u0002\f",
      "User_7|\n",
      "|null|\u0000\u0000\u0000\u0000\u0003\u0002�\u0001\u0002\n",
      "\u0002\f",
      "XYZ789\u0002\f",
      "User_7|\n",
      "|null|\u0000\u0000\u0000\u0000\u0003\u0002�\u0003\u0002\n",
      "ZJZZT\u0002�\u0007\u0002\f",
      "LMN456\u0002\f",
      "User_5|\n",
      "|null|\u0000\u0000\u0000\u0000\u0003\u0002�\u0010\u0002\n",
      "ZJZZT\u0002�\f",
      "\u0002\f",
      "LMN456\u0002\f",
      "User_2|\n",
      "|null|\u0000\u0000\u0000\u0000\u0003\u0002�*\u0002\u0006ZVV\u0002�\u0002\u0002\f",
      "LMN456\u0002\f",
      "User_4  |\n",
      "|null|\u0000\u0000\u0000\u0000\u0003\u0002�\u000f\u0002\n",
      "ZTEST\u0002�\u0004\u0002\f",
      "LMN456\u0002\f",
      "User_7|\n",
      "|null|\u0000\u0000\u0000\u0000\u0003\u0002�I\u0002\n",
      "ZJZZT\u0002\u0018\u0002\f",
      "ABC123\u0002\f",
      "User_7 |\n",
      "|null|\u0000\u0000\u0000\u0000\u0003\u0002�\u0017\u0002\n",
      "ZVZZT\u0002\u0002\f",
      "LMN456\u0002\f",
      "User_9|\n",
      "|null|\u0000\u0000\u0000\u0000\u0003\u0002�>\u0002\n",
      "ZJZZT\u0002�\u000e\u0002\f",
      "LMN456\u0002\f",
      "User_3|\n",
      "|null|\u0000\u0000\u0000\u0000\u0003\u0002�,\u0002\n",
      "ZXZZT\u0002�\n",
      "\u0002\f",
      "LMN456\u0002\f",
      "User_5|\n",
      "|null|\u0000\u0000\u0000\u0000\u0003\u0002�2\u0002\n",
      "ZVZZT\u0002(\u0002\f",
      "XYZ789\u0002\f",
      "User_9 |\n",
      "|null|\u0000\u0000\u0000\u0000\u0003\u0002�L\u0002\n",
      "ZTEST\u0002\u0002\f",
      "ABC123\u0002\f",
      "User_5|\n",
      "|null|\u0000\u0000\u0000\u0000\u0003\u0002�\"\u0002\n",
      "ZWZZT\u0002\u000e\u0002\f",
      "ABC123\u0002\f",
      "User_3 |\n",
      "|null|\u0000\u0000\u0000\u0000\u0003\u0002� ZBZX\u0002�\u0001\u0002\f",
      "XYZ789\u0002\f",
      "User_2 |\n",
      "|null|\u0000\u0000\u0000\u0000\u0003\u0002�\u001c",
      "\u0002\n",
      "ZTEST\u0002�\n",
      "\u0002\f",
      "XYZ789\u0002\f",
      "User_7|\n",
      "|null|\u0000\u0000\u0000\u0000\u0003\u0002�+\u0002\n",
      "ZVZZT\u0002�\u0002\u0002\f",
      "LMN456\u0002\f",
      "User_4|\n",
      "|null|\u0000\u0000\u0000\u0000\u0003\u0002�3\u0002\n",
      "ZXZZT\u0002�\u0004\u0002\f",
      "LMN456\u0002\f",
      "User_9|\n",
      "|null|\u0000\u0000\u0000\u0000\u0003\u0002�4ZBZX\u0002�\u0001\u0002\f",
      "XYZ789\u0002\f",
      "User_3 |\n",
      "|null|\u0000\u0000\u0000\u0000\u0003\u0002�D\u0002\n",
      "ZWZZT\u0002B\u0002\f",
      "ABC123\u0002\f",
      "User_6 |\n",
      "|null|\u0000\u0000\u0000\u0000\u0003\u0002�#\u0002\n",
      "ZVZZT\u0002\u0002\f",
      "ABC123\u0002\f",
      "User_8|\n",
      "+----+----------------------------------+\n",
      "only showing top 20 rows\n",
      "\n"
     ]
    },
    {
     "data": {
      "text/plain": [
       "None"
      ]
     },
     "metadata": {},
     "output_type": "display_data"
    }
   ],
   "source": [
    "clear_output(wait=True)\n",
    "display(spark.sql('SELECT key, value FROM string_stocktrades_view').show(20, False))\n",
    "time.sleep(1)"
   ]
  },
  {
   "cell_type": "code",
   "execution_count": 51,
   "id": "b54ab006",
   "metadata": {},
   "outputs": [],
   "source": [
    "string_stream.stop()"
   ]
  },
  {
   "cell_type": "markdown",
   "id": "b42d9530",
   "metadata": {},
   "source": [
    "## Transformation"
   ]
  },
  {
   "cell_type": "code",
   "execution_count": 73,
   "id": "9528e0bf",
   "metadata": {},
   "outputs": [],
   "source": [
    "schema_stocktrades = StructType([\n",
    "        StructField(\"side\", StringType(),  True),\n",
    "        StructField(\"quantity\", IntegerType(),  True),\n",
    "        StructField(\"price\", IntegerType(),  True),\n",
    "        StructField(\"symbol\", StringType(),  True),\n",
    "        StructField(\"account\", StringType(), True),\n",
    "         StructField(\"\", StringType(), True)\n",
    "    \n",
    "])"
   ]
  },
  {
   "cell_type": "code",
   "execution_count": 74,
   "id": "7b2df8d5",
   "metadata": {},
   "outputs": [],
   "source": [
    "json_stream_df = string_stream_df\\\n",
    "    .withColumn(\"value\", F.from_json(\"value\", schema_stocktrades))"
   ]
  },
  {
   "cell_type": "code",
   "execution_count": 75,
   "id": "135fa103",
   "metadata": {},
   "outputs": [
    {
     "name": "stdout",
     "output_type": "stream",
     "text": [
      "root\n",
      " |-- key: string (nullable = true)\n",
      " |-- value: struct (nullable = true)\n",
      " |    |-- side: string (nullable = true)\n",
      " |    |-- quantity: integer (nullable = true)\n",
      " |    |-- price: integer (nullable = true)\n",
      " |    |-- symbol: string (nullable = true)\n",
      " |    |-- account: string (nullable = true)\n",
      " |    |-- userid: string (nullable = true)\n",
      " |-- topic: string (nullable = true)\n",
      " |-- partition: integer (nullable = true)\n",
      " |-- offset: long (nullable = true)\n",
      " |-- timestamp: timestamp (nullable = true)\n",
      " |-- timestampType: integer (nullable = true)\n",
      "\n"
     ]
    }
   ],
   "source": [
    "json_stream_df.printSchema()"
   ]
  },
  {
   "cell_type": "code",
   "execution_count": 68,
   "id": "cb10ae68",
   "metadata": {},
   "outputs": [],
   "source": [
    "json_stream = json_stream_df \\\n",
    "    .writeStream \\\n",
    "    .format(\"memory\") \\\n",
    "    .queryName(\"extract_stocktrades_view\") \\\n",
    "    .start()"
   ]
  },
  {
   "cell_type": "code",
   "execution_count": 71,
   "id": "dd140593",
   "metadata": {},
   "outputs": [
    {
     "name": "stdout",
     "output_type": "stream",
     "text": [
      "+-----+--------------------+-----------+---------+------+--------------------+-------------+\n",
      "|  key|               value|      topic|partition|offset|           timestamp|timestampType|\n",
      "+-----+--------------------+-----------+---------+------+--------------------+-------------+\n",
      "|ZVZZT|{null, null, null...|stocktrades|        0|     0|2021-06-05 05:39:...|            0|\n",
      "|ZVZZT|{null, null, null...|stocktrades|        0|     1|2021-06-05 05:39:...|            0|\n",
      "|ZWZZT|{null, null, null...|stocktrades|        0|     2|2021-06-05 05:39:...|            0|\n",
      "|ZJZZT|{null, null, null...|stocktrades|        0|     3|2021-06-05 05:39:...|            0|\n",
      "|ZVZZT|{null, null, null...|stocktrades|        0|     4|2021-06-05 05:39:...|            0|\n",
      "|ZXZZT|{null, null, null...|stocktrades|        0|     5|2021-06-05 05:39:...|            0|\n",
      "|ZVZZT|{null, null, null...|stocktrades|        0|     6|2021-06-05 05:39:...|            0|\n",
      "| ZBZX|{null, null, null...|stocktrades|        0|     7|2021-06-05 05:39:...|            0|\n",
      "|ZVZZT|{null, null, null...|stocktrades|        0|     8|2021-06-05 05:39:...|            0|\n",
      "|ZTEST|{null, null, null...|stocktrades|        0|     9|2021-06-05 05:39:...|            0|\n",
      "| ZBZX|{null, null, null...|stocktrades|        0|    10|2021-06-05 05:39:...|            0|\n",
      "|ZJZZT|{null, null, null...|stocktrades|        0|    11|2021-06-05 05:39:...|            0|\n",
      "|ZJZZT|{null, null, null...|stocktrades|        0|    12|2021-06-05 05:39:...|            0|\n",
      "|ZTEST|{null, null, null...|stocktrades|        0|    13|2021-06-05 05:39:...|            0|\n",
      "|  ZVV|{null, null, null...|stocktrades|        0|    14|2021-06-05 05:39:...|            0|\n",
      "| ZBZX|{null, null, null...|stocktrades|        0|    15|2021-06-05 05:39:...|            0|\n",
      "|ZTEST|{null, null, null...|stocktrades|        0|    16|2021-06-05 05:39:...|            0|\n",
      "|ZWZZT|{null, null, null...|stocktrades|        0|    17|2021-06-05 05:39:...|            0|\n",
      "|ZXZZT|{null, null, null...|stocktrades|        0|    18|2021-06-05 05:39:...|            0|\n",
      "|ZXZZT|{null, null, null...|stocktrades|        0|    19|2021-06-05 05:39:...|            0|\n",
      "+-----+--------------------+-----------+---------+------+--------------------+-------------+\n",
      "only showing top 20 rows\n",
      "\n"
     ]
    },
    {
     "data": {
      "text/plain": [
       "None"
      ]
     },
     "metadata": {},
     "output_type": "display_data"
    }
   ],
   "source": [
    "clear_output(wait=True)\n",
    "display(spark.sql('SELECT * FROM extract_stocktrades_view').show(20))\n",
    "time.sleep(1)"
   ]
  },
  {
   "cell_type": "code",
   "execution_count": 72,
   "id": "4f29a154",
   "metadata": {},
   "outputs": [],
   "source": [
    "json_stream.stop()"
   ]
  },
  {
   "cell_type": "code",
   "execution_count": 65,
   "id": "cae4a22f",
   "metadata": {},
   "outputs": [],
   "source": [
    "spark.stop()"
   ]
  },
  {
   "cell_type": "code",
   "execution_count": null,
   "id": "bcff220d",
   "metadata": {},
   "outputs": [],
   "source": []
  },
  {
   "cell_type": "code",
   "execution_count": 14,
   "id": "8b8fe5b3",
   "metadata": {},
   "outputs": [],
   "source": [
    "hex_string = '00 00 00 00 01 08 53 45 4C 4C AE 12 0A 5A 56 5A 5A 54 D8 03 0C 4C 4D 4E 34 35 36 0C 55 73 65 72 5F 39'"
   ]
  },
  {
   "cell_type": "code",
   "execution_count": 15,
   "id": "38df41e0",
   "metadata": {},
   "outputs": [],
   "source": [
    "bytes_object = bytes.fromhex(hex_string)"
   ]
  },
  {
   "cell_type": "code",
   "execution_count": 18,
   "id": "ea23e9bf",
   "metadata": {},
   "outputs": [
    {
     "name": "stdout",
     "output_type": "stream",
     "text": [
      "b'\\x00\\x00\\x00\\x00\\x01\\x08SELL\\xae\\x12\\nZVZZT\\xd8\\x03\\x0cLMN456\\x0cUser_9'\n"
     ]
    }
   ],
   "source": [
    "print(bytes_object)"
   ]
  },
  {
   "cell_type": "code",
   "execution_count": 20,
   "id": "8b378c20",
   "metadata": {},
   "outputs": [
    {
     "data": {
      "text/plain": [
       "'\\x00\\x00\\x00\\x00\\x01'"
      ]
     },
     "execution_count": 20,
     "metadata": {},
     "output_type": "execute_result"
    }
   ],
   "source": [
    "b'\\x00\\x00\\x00\\x00\\x01'.decode(\"ASCII\")"
   ]
  },
  {
   "cell_type": "code",
   "execution_count": null,
   "id": "3432eeee",
   "metadata": {},
   "outputs": [],
   "source": []
  }
 ],
 "metadata": {
  "kernelspec": {
   "display_name": "Python 3",
   "language": "python",
   "name": "python3"
  },
  "language_info": {
   "codemirror_mode": {
    "name": "ipython",
    "version": 3
   },
   "file_extension": ".py",
   "mimetype": "text/x-python",
   "name": "python",
   "nbconvert_exporter": "python",
   "pygments_lexer": "ipython3",
   "version": "3.8.8"
  }
 },
 "nbformat": 4,
 "nbformat_minor": 5
}
