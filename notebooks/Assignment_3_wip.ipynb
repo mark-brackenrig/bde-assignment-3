{
 "cells": [
  {
   "cell_type": "markdown",
   "id": "f5666f4c",
   "metadata": {},
   "source": [
    "## Part 1 - Produce Data\n",
    "We elected to use the datagen connector to generate fake data for this assignment. The topic we used was 'stocktrades. The steps were as follows:\n",
    "*  Open a browser and go to http://localhost:9021/\n",
    "*  Select the available cluster\n",
    "*  On the menu bar, select Connect\n",
    "*  Click on the connect-default cluster in the Connect Clusters list.\n",
    "*  Click on Add connector\n",
    "*  Select DatagenConnector\n",
    "*  Enter connector_stock_trades in the Name field\n",
    "\n",
    "Then:\n",
    "Generate a data stream with following configurations:\n",
    "```\n",
    "{\n",
    "  \"name\": \"connector_stock_trades\",\n",
    "  \"connector.class\": \"io.confluent.kafka.connect.datagen.DatagenConnector\",\n",
    "  \"key.converter\": \"org.apache.kafka.connect.storage.StringConverter\",\n",
    "  \"kafka.topic\": \"stocktrades\",\n",
    "  \"max.interval\": \"100\",\n",
    "  \"quickstart\": \"Stock_Trades\"\n",
    "}\n",
    "```\n"
   ]
  },
  {
   "cell_type": "markdown",
   "id": "459fbbc3",
   "metadata": {},
   "source": [
    "## Part 2 - Using Ksql to create at least 2 streams with filtering from topics\n",
    "\n",
    "To begin, you need to create a stream called stocktrades with no filtering in place."
   ]
  },
  {
   "cell_type": "raw",
   "id": "4e460886",
   "metadata": {},
   "source": [
    "CREATE STREAM STOCKTRADES\n",
    "   (SIDE STRING, QUANTITY INTEGER, SYMBOL STRING, PRICE INTEGER, ACCOUNT STRING, USERID STRING)\n",
    "       WITH (KAFKA_TOPIC='stocktrades', VALUE_FORMAT='AVRO');"
   ]
  },
  {
   "cell_type": "markdown",
   "id": "d2191f74",
   "metadata": {},
   "source": [
    "### Create JSON Stream\n",
    "In order for this to play nicely with spark, we need to mimic the raw stream as a json formatted stream."
   ]
  },
  {
   "cell_type": "raw",
   "id": "338cf30f",
   "metadata": {},
   "source": [
    "CREATE STREAM STOCKTRADES_JSON WITH (KAFKA_TOPIC='STOCKTRADES_JSON', VALUE_FORMAT='JSON') AS SELECT\n",
    "* FROM STOCKTRADES STOCKTRADES\n",
    "EMIT CHANGES;"
   ]
  },
  {
   "cell_type": "markdown",
   "id": "fe632668",
   "metadata": {},
   "source": [
    "### Stream 1 - Sell Stream\n",
    "It may be in the interest of the business to view only streams where the stock was sold and not bought. This would be useful in identifying which shares should be taken as a 'short' position"
   ]
  },
  {
   "cell_type": "raw",
   "id": "2b7d7ece",
   "metadata": {},
   "source": [
    "CREATE STREAM SELL_TRADES WITH (KAFKA_TOPIC='SELL_TRADES', VALUE_FORMAT='JSON') AS SELECT\n",
    "  STOCKTRADES.QUANTITY QUANTITY,\n",
    "  STOCKTRADES.SYMBOL SYMBOL,\n",
    "  STOCKTRADES.PRICE PRICE,\n",
    "  STOCKTRADES.ACCOUNT ACCOUNT,\n",
    "  STOCKTRADES.USERID USERID\n",
    "FROM STOCKTRADES STOCKTRADES\n",
    "WHERE (STOCKTRADES.SIDE = 'SELL')\n",
    "EMIT CHANGES;\n"
   ]
  },
  {
   "cell_type": "markdown",
   "id": "22dc3b8b",
   "metadata": {},
   "source": [
    "### Stream 2 - Buy Stream\n",
    "It may also be interesting to the business to see trades that were large buys."
   ]
  },
  {
   "cell_type": "raw",
   "id": "bcfd30ce",
   "metadata": {},
   "source": [
    "CREATE STREAM BUY_TRADES WITH (KAFKA_TOPIC='BUY_TRADES', VALUE_FORMAT='JSON') AS SELECT\n",
    "  STOCKTRADES.QUANTITY QUANTITY,\n",
    "  STOCKTRADES.SYMBOL SYMBOL,\n",
    "  STOCKTRADES.PRICE PRICE,\n",
    "  STOCKTRADES.ACCOUNT ACCOUNT,\n",
    "  STOCKTRADES.USERID USERID\n",
    "FROM STOCKTRADES STOCKTRADES\n",
    "WHERE (STOCKTRADES.SIDE = 'BUY')\n",
    "EMIT CHANGES;"
   ]
  },
  {
   "cell_type": "markdown",
   "id": "183e450f",
   "metadata": {},
   "source": [
    "### Table 1 - Aggregated Buy Trades\n"
   ]
  },
  {
   "cell_type": "raw",
   "id": "e0488439",
   "metadata": {},
   "source": [
    "CREATE TABLE AGG_BUY_ORDERS WITH (KAFKA_TOPIC='AGG_BUY_ORDERS', VALUE_FORMAT='JSON') AS SELECT\n",
    "  BUY_TRADES.SYMBOL SYMBOL,\n",
    "  SUM(BUY_TRADES.QUANTITY) QUANTITY_AGG,\n",
    "  AVG(BUY_TRADES.PRICE) PRICE_AVG,\n",
    "  SUM((BUY_TRADES.QUANTITY * BUY_TRADES.PRICE)) VALUE_TRADED\n",
    "FROM BUY_TRADES BUY_TRADES\n",
    "WINDOW TUMBLING ( SIZE 60 SECONDS )\n",
    "GROUP BY BUY_TRADES.SYMBOL\n",
    "EMIT CHANGES;\n"
   ]
  },
  {
   "cell_type": "markdown",
   "id": "b12578df",
   "metadata": {},
   "source": [
    "### Table 2 - Aggregated Sell Trades"
   ]
  },
  {
   "cell_type": "raw",
   "id": "8ba32616",
   "metadata": {},
   "source": [
    "CREATE TABLE AGG_SELL_ORDERS WITH (KAFKA_TOPIC='AGG_SELL_ORDERS', VALUE_FORMAT='JSON') AS SELECT\n",
    "  SELL_TRADES.SYMBOL SYMBOL,\n",
    "  SUM(SELL_TRADES.QUANTITY) QUANTITY_AGG,\n",
    "  AVG(SELL_TRADES.PRICE) PRICE_AVG,\n",
    "  SUM((SELL_TRADES.QUANTITY * SELL_TRADES.PRICE)) VALUE_TRADED\n",
    "FROM SELL_TRADES SELL_TRADES\n",
    "WINDOW TUMBLING ( SIZE 60 SECONDS )\n",
    "GROUP BY SELL_TRADES.SYMBOL\n",
    "EMIT CHANGES;"
   ]
  },
  {
   "cell_type": "markdown",
   "id": "6082e0b2",
   "metadata": {},
   "source": [
    "## Part 3 - Consume/Transform data with Spark Streaming"
   ]
  },
  {
   "cell_type": "code",
   "execution_count": 1,
   "id": "9d5454e6",
   "metadata": {},
   "outputs": [],
   "source": [
    "from pyspark.sql import SparkSession\n",
    "from IPython.display import display, clear_output\n",
    "import time\n",
    "from pyspark.sql import functions as F\n",
    "from pyspark.sql.types import StructType,StringType, StructField, IntegerType, FloatType, BinaryType"
   ]
  },
  {
   "cell_type": "code",
   "execution_count": 2,
   "id": "c755a64b",
   "metadata": {},
   "outputs": [],
   "source": [
    "spark = SparkSession.builder \\\n",
    "        .appName('kafka') \\\n",
    "        .getOrCreate()"
   ]
  },
  {
   "cell_type": "code",
   "execution_count": 3,
   "id": "13ee4b1c",
   "metadata": {},
   "outputs": [
    {
     "data": {
      "text/plain": [
       "'3.1.1'"
      ]
     },
     "execution_count": 3,
     "metadata": {},
     "output_type": "execute_result"
    }
   ],
   "source": [
    "spark.version"
   ]
  },
  {
   "cell_type": "code",
   "execution_count": 4,
   "id": "e7c4bcc5",
   "metadata": {},
   "outputs": [
    {
     "data": {
      "text/plain": [
       "'3.2.0'"
      ]
     },
     "execution_count": 4,
     "metadata": {},
     "output_type": "execute_result"
    }
   ],
   "source": [
    "spark._jvm.org.apache.hadoop.util.VersionInfo.getVersion()"
   ]
  },
  {
   "cell_type": "markdown",
   "id": "0d1c7c07",
   "metadata": {},
   "source": [
    "## Raw Data Streams"
   ]
  },
  {
   "cell_type": "code",
   "execution_count": 34,
   "id": "14b2576a",
   "metadata": {},
   "outputs": [],
   "source": [
    "stream_df = spark \\\n",
    "  .readStream \\\n",
    "  .format(\"kafka\") \\\n",
    "  .option(\"kafka.bootstrap.servers\", \"broker:29092\") \\\n",
    "  .option(\"startingOffsets\", \"earliest\") \\\n",
    "  .option(\"subscribe\", \"STOCKTRADES_JSON\") \\\n",
    "  .load()"
   ]
  },
  {
   "cell_type": "code",
   "execution_count": 35,
   "id": "6af6f7c5",
   "metadata": {},
   "outputs": [
    {
     "name": "stdout",
     "output_type": "stream",
     "text": [
      "root\n",
      " |-- key: binary (nullable = true)\n",
      " |-- value: binary (nullable = true)\n",
      " |-- topic: string (nullable = true)\n",
      " |-- partition: integer (nullable = true)\n",
      " |-- offset: long (nullable = true)\n",
      " |-- timestamp: timestamp (nullable = true)\n",
      " |-- timestampType: integer (nullable = true)\n",
      "\n"
     ]
    }
   ],
   "source": [
    "stream_df.printSchema()"
   ]
  },
  {
   "cell_type": "code",
   "execution_count": 36,
   "id": "44d6441c",
   "metadata": {},
   "outputs": [],
   "source": [
    "raw_stream = stream_df \\\n",
    "    .writeStream \\\n",
    "    .format(\"memory\") \\\n",
    "    .queryName(\"raw_stocktrades_view\") \\\n",
    "    .start()"
   ]
  },
  {
   "cell_type": "code",
   "execution_count": 37,
   "id": "5648bf56",
   "metadata": {},
   "outputs": [
    {
     "name": "stdout",
     "output_type": "stream",
     "text": [
      "+----+--------------------+\n",
      "| key|               value|\n",
      "+----+--------------------+\n",
      "|null|[7B 22 53 49 44 4...|\n",
      "|null|[7B 22 53 49 44 4...|\n",
      "|null|[7B 22 53 49 44 4...|\n",
      "|null|[7B 22 53 49 44 4...|\n",
      "|null|[7B 22 53 49 44 4...|\n",
      "|null|[7B 22 53 49 44 4...|\n",
      "|null|[7B 22 53 49 44 4...|\n",
      "|null|[7B 22 53 49 44 4...|\n",
      "|null|[7B 22 53 49 44 4...|\n",
      "|null|[7B 22 53 49 44 4...|\n",
      "|null|[7B 22 53 49 44 4...|\n",
      "|null|[7B 22 53 49 44 4...|\n",
      "|null|[7B 22 53 49 44 4...|\n",
      "|null|[7B 22 53 49 44 4...|\n",
      "|null|[7B 22 53 49 44 4...|\n",
      "|null|[7B 22 53 49 44 4...|\n",
      "|null|[7B 22 53 49 44 4...|\n",
      "|null|[7B 22 53 49 44 4...|\n",
      "|null|[7B 22 53 49 44 4...|\n",
      "|null|[7B 22 53 49 44 4...|\n",
      "+----+--------------------+\n",
      "only showing top 20 rows\n",
      "\n"
     ]
    },
    {
     "data": {
      "text/plain": [
       "None"
      ]
     },
     "metadata": {},
     "output_type": "display_data"
    }
   ],
   "source": [
    "clear_output(wait=True)\n",
    "display(spark.sql('SELECT key, value FROM raw_stocktrades_view').show(20))\n",
    "time.sleep(1)"
   ]
  },
  {
   "cell_type": "code",
   "execution_count": 38,
   "id": "48ff83d4",
   "metadata": {},
   "outputs": [],
   "source": [
    "raw_stream.stop()"
   ]
  },
  {
   "cell_type": "markdown",
   "id": "50575a44",
   "metadata": {},
   "source": [
    "### Convert Key Value pairs to strings"
   ]
  },
  {
   "cell_type": "code",
   "execution_count": 39,
   "id": "682650d3",
   "metadata": {},
   "outputs": [],
   "source": [
    "string_stream_df = stream_df \\\n",
    "    .withColumn(\"key\", stream_df[\"key\"].cast(StringType())) \\\n",
    "      .withColumn('value', stream_df[\"value\"].cast(StringType()))"
   ]
  },
  {
   "cell_type": "code",
   "execution_count": 40,
   "id": "c19bcc89",
   "metadata": {},
   "outputs": [],
   "source": [
    "string_stream = string_stream_df \\\n",
    "    .writeStream \\\n",
    "    .format(\"memory\") \\\n",
    "    .queryName(\"string_stocktrades_view\") \\\n",
    "    .start()"
   ]
  },
  {
   "cell_type": "code",
   "execution_count": 41,
   "id": "29a34ce0",
   "metadata": {},
   "outputs": [
    {
     "name": "stdout",
     "output_type": "stream",
     "text": [
      "+----+--------------------+\n",
      "| key|               value|\n",
      "+----+--------------------+\n",
      "|null|{\"SIDE\":\"SELL\",\"Q...|\n",
      "|null|{\"SIDE\":\"BUY\",\"QU...|\n",
      "|null|{\"SIDE\":\"BUY\",\"QU...|\n",
      "|null|{\"SIDE\":\"BUY\",\"QU...|\n",
      "|null|{\"SIDE\":\"SELL\",\"Q...|\n",
      "|null|{\"SIDE\":\"SELL\",\"Q...|\n",
      "|null|{\"SIDE\":\"BUY\",\"QU...|\n",
      "|null|{\"SIDE\":\"BUY\",\"QU...|\n",
      "|null|{\"SIDE\":\"BUY\",\"QU...|\n",
      "|null|{\"SIDE\":\"BUY\",\"QU...|\n",
      "|null|{\"SIDE\":\"BUY\",\"QU...|\n",
      "|null|{\"SIDE\":\"SELL\",\"Q...|\n",
      "|null|{\"SIDE\":\"SELL\",\"Q...|\n",
      "|null|{\"SIDE\":\"SELL\",\"Q...|\n",
      "|null|{\"SIDE\":\"BUY\",\"QU...|\n",
      "|null|{\"SIDE\":\"SELL\",\"Q...|\n",
      "|null|{\"SIDE\":\"SELL\",\"Q...|\n",
      "|null|{\"SIDE\":\"SELL\",\"Q...|\n",
      "|null|{\"SIDE\":\"SELL\",\"Q...|\n",
      "|null|{\"SIDE\":\"BUY\",\"QU...|\n",
      "+----+--------------------+\n",
      "only showing top 20 rows\n",
      "\n"
     ]
    },
    {
     "data": {
      "text/plain": [
       "None"
      ]
     },
     "metadata": {},
     "output_type": "display_data"
    }
   ],
   "source": [
    "clear_output(wait=True)\n",
    "display(spark.sql('SELECT key, value FROM string_stocktrades_view').show(20))\n",
    "time.sleep(1)"
   ]
  },
  {
   "cell_type": "code",
   "execution_count": 42,
   "id": "1891102c",
   "metadata": {},
   "outputs": [],
   "source": [
    "string_stream.stop()"
   ]
  },
  {
   "cell_type": "markdown",
   "id": "c05ba55e",
   "metadata": {},
   "source": [
    "## Transformation"
   ]
  },
  {
   "cell_type": "code",
   "execution_count": 43,
   "id": "60bda878",
   "metadata": {},
   "outputs": [],
   "source": [
    "schema_stocktrades =  StructType([\n",
    "        StructField(\"SIDE\", StringType(),  True),\n",
    "        StructField(\"QUANTITY\", IntegerType(),  True),\n",
    "        StructField(\"PRICE\", IntegerType(),  True),\n",
    "        StructField(\"SYMBOL\", StringType(),  True),\n",
    "        StructField(\"ACCOUNT\", StringType(), True),\n",
    "         StructField(\"USERID\", StringType(), True)\n",
    "])"
   ]
  },
  {
   "cell_type": "code",
   "execution_count": 44,
   "id": "a7e81351",
   "metadata": {},
   "outputs": [],
   "source": [
    "json_stream_df = string_stream_df\\\n",
    "    .withColumn(\"value\", F.from_json(\"value\", schema_stocktrades))"
   ]
  },
  {
   "cell_type": "code",
   "execution_count": 45,
   "id": "2da0f545",
   "metadata": {},
   "outputs": [
    {
     "name": "stdout",
     "output_type": "stream",
     "text": [
      "root\n",
      " |-- key: string (nullable = true)\n",
      " |-- value: struct (nullable = true)\n",
      " |    |-- SIDE: string (nullable = true)\n",
      " |    |-- QUANTITY: integer (nullable = true)\n",
      " |    |-- PRICE: integer (nullable = true)\n",
      " |    |-- SYMBOL: string (nullable = true)\n",
      " |    |-- ACCOUNT: string (nullable = true)\n",
      " |    |-- USERID: string (nullable = true)\n",
      " |-- topic: string (nullable = true)\n",
      " |-- partition: integer (nullable = true)\n",
      " |-- offset: long (nullable = true)\n",
      " |-- timestamp: timestamp (nullable = true)\n",
      " |-- timestampType: integer (nullable = true)\n",
      "\n"
     ]
    }
   ],
   "source": [
    "json_stream_df.printSchema()"
   ]
  },
  {
   "cell_type": "code",
   "execution_count": 48,
   "id": "8ebf2cfd",
   "metadata": {},
   "outputs": [],
   "source": [
    "json_stream = json_stream_df \\\n",
    "    .writeStream \\\n",
    "    .format(\"memory\") \\\n",
    "    .queryName(\"extract_stocktrades_view\") \\\n",
    "    .start()"
   ]
  },
  {
   "cell_type": "code",
   "execution_count": 49,
   "id": "5135fd45",
   "metadata": {},
   "outputs": [
    {
     "name": "stdout",
     "output_type": "stream",
     "text": [
      "+----+----------------------------------------+----------------+---------+------+-----------------------+-------------+\n",
      "|key |value                                   |topic           |partition|offset|timestamp              |timestampType|\n",
      "+----+----------------------------------------+----------------+---------+------+-----------------------+-------------+\n",
      "|null|{SELL, 3679, 432, ZXZZT, XYZ789, User_2}|STOCKTRADES_JSON|0        |0     |2021-06-06 07:37:35.324|0            |\n",
      "|null|{BUY, 4955, 73, ZTEST, ABC123, User_9}  |STOCKTRADES_JSON|0        |1     |2021-06-06 07:37:35.382|0            |\n",
      "|null|{BUY, 4014, 821, ZJZZT, XYZ789, User_8} |STOCKTRADES_JSON|0        |2     |2021-06-06 07:37:35.417|0            |\n",
      "|null|{BUY, 161, 928, ZVV, XYZ789, User_1}    |STOCKTRADES_JSON|0        |3     |2021-06-06 07:37:35.458|0            |\n",
      "|null|{SELL, 2099, 947, ZTEST, ABC123, User_4}|STOCKTRADES_JSON|0        |4     |2021-06-06 07:37:35.503|0            |\n",
      "|null|{SELL, 3337, 731, ZVV, XYZ789, User_1}  |STOCKTRADES_JSON|0        |5     |2021-06-06 07:37:35.555|0            |\n",
      "|null|{BUY, 1030, 773, ZBZX, LMN456, User_7}  |STOCKTRADES_JSON|0        |6     |2021-06-06 07:37:35.626|0            |\n",
      "|null|{BUY, 2928, 136, ZTEST, ABC123, User_8} |STOCKTRADES_JSON|0        |7     |2021-06-06 07:37:35.635|0            |\n",
      "|null|{BUY, 1710, 528, ZJZZT, ABC123, User_8} |STOCKTRADES_JSON|0        |8     |2021-06-06 07:37:35.669|0            |\n",
      "|null|{BUY, 1133, 614, ZTEST, ABC123, User_3} |STOCKTRADES_JSON|0        |9     |2021-06-06 07:37:35.691|0            |\n",
      "|null|{BUY, 1008, 203, ZVV, ABC123, User_6}   |STOCKTRADES_JSON|0        |10    |2021-06-06 07:37:35.731|0            |\n",
      "|null|{SELL, 2732, 974, ZJZZT, ABC123, User_6}|STOCKTRADES_JSON|0        |11    |2021-06-06 07:37:35.768|0            |\n",
      "|null|{SELL, 1116, 355, ZVV, ABC123, User_4}  |STOCKTRADES_JSON|0        |12    |2021-06-06 07:37:35.77 |0            |\n",
      "|null|{SELL, 290, 730, ZJZZT, XYZ789, User_8} |STOCKTRADES_JSON|0        |13    |2021-06-06 07:37:35.859|0            |\n",
      "|null|{BUY, 832, 129, ZXZZT, LMN456, User_7}  |STOCKTRADES_JSON|0        |14    |2021-06-06 07:37:35.952|0            |\n",
      "|null|{SELL, 2711, 793, ZTEST, LMN456, User_8}|STOCKTRADES_JSON|0        |15    |2021-06-06 07:37:36.02 |0            |\n",
      "|null|{SELL, 388, 839, ZTEST, LMN456, User_9} |STOCKTRADES_JSON|0        |16    |2021-06-06 07:37:36.054|0            |\n",
      "|null|{SELL, 1907, 768, ZVZZT, XYZ789, User_2}|STOCKTRADES_JSON|0        |17    |2021-06-06 07:37:36.13 |0            |\n",
      "|null|{SELL, 2814, 685, ZJZZT, ABC123, User_8}|STOCKTRADES_JSON|0        |18    |2021-06-06 07:37:36.226|0            |\n",
      "|null|{BUY, 2678, 743, ZBZX, LMN456, User_1}  |STOCKTRADES_JSON|0        |19    |2021-06-06 07:37:36.311|0            |\n",
      "+----+----------------------------------------+----------------+---------+------+-----------------------+-------------+\n",
      "only showing top 20 rows\n",
      "\n"
     ]
    },
    {
     "data": {
      "text/plain": [
       "None"
      ]
     },
     "metadata": {},
     "output_type": "display_data"
    }
   ],
   "source": [
    "clear_output(wait=True)\n",
    "display(spark.sql('SELECT * FROM extract_stocktrades_view').show(20, False))\n",
    "time.sleep(1)"
   ]
  },
  {
   "cell_type": "code",
   "execution_count": 50,
   "id": "b440589c",
   "metadata": {},
   "outputs": [],
   "source": [
    "json_stream.stop()"
   ]
  },
  {
   "cell_type": "markdown",
   "id": "364acd13",
   "metadata": {},
   "source": [
    "### Flatten Data"
   ]
  },
  {
   "cell_type": "code",
   "execution_count": 53,
   "id": "c8c3d25c",
   "metadata": {},
   "outputs": [],
   "source": [
    "stocktrades_stream_df = json_stream_df \\\n",
    "    .select( \\\n",
    "        F.col(\"key\").alias(\"event_key\"), \\\n",
    "        F.col(\"topic\").alias(\"event_topic\"), \\\n",
    "        F.col(\"timestamp\").alias(\"event_timestamp\"), \\\n",
    "        \"value.side\", \\\n",
    "        \"value.quantity\", \\\n",
    "        \"value.price\", \\\n",
    "        \"value.symbol\", \\\n",
    "        \"value.account\", \\\n",
    "        \"value.userid\"\n",
    "    )"
   ]
  },
  {
   "cell_type": "code",
   "execution_count": 54,
   "id": "f8dc5e74",
   "metadata": {},
   "outputs": [
    {
     "name": "stdout",
     "output_type": "stream",
     "text": [
      "root\n",
      " |-- event_key: string (nullable = true)\n",
      " |-- event_topic: string (nullable = true)\n",
      " |-- event_timestamp: timestamp (nullable = true)\n",
      " |-- SIDE: string (nullable = true)\n",
      " |-- QUANTITY: integer (nullable = true)\n",
      " |-- price: integer (nullable = true)\n",
      " |-- symbol: string (nullable = true)\n",
      " |-- account: string (nullable = true)\n",
      " |-- userid: string (nullable = true)\n",
      "\n"
     ]
    }
   ],
   "source": [
    "stocktrades_stream_df.printSchema()"
   ]
  },
  {
   "cell_type": "code",
   "execution_count": 55,
   "id": "19886c7e",
   "metadata": {},
   "outputs": [],
   "source": [
    "stocktrades_stream = stocktrades_stream_df \\\n",
    "    .writeStream \\\n",
    "    .format(\"memory\") \\\n",
    "    .queryName(\"stocktrades_view\") \\\n",
    "    .start()"
   ]
  },
  {
   "cell_type": "code",
   "execution_count": 56,
   "id": "ffba4d6b",
   "metadata": {},
   "outputs": [
    {
     "name": "stdout",
     "output_type": "stream",
     "text": [
      "+---------+----------------+--------------------+----+--------+-----+------+-------+------+\n",
      "|event_key|     event_topic|     event_timestamp|SIDE|QUANTITY|price|symbol|account|userid|\n",
      "+---------+----------------+--------------------+----+--------+-----+------+-------+------+\n",
      "|     null|STOCKTRADES_JSON|2021-06-06 07:37:...|SELL|    3679|  432| ZXZZT| XYZ789|User_2|\n",
      "|     null|STOCKTRADES_JSON|2021-06-06 07:37:...| BUY|    4955|   73| ZTEST| ABC123|User_9|\n",
      "|     null|STOCKTRADES_JSON|2021-06-06 07:37:...| BUY|    4014|  821| ZJZZT| XYZ789|User_8|\n",
      "|     null|STOCKTRADES_JSON|2021-06-06 07:37:...| BUY|     161|  928|   ZVV| XYZ789|User_1|\n",
      "|     null|STOCKTRADES_JSON|2021-06-06 07:37:...|SELL|    2099|  947| ZTEST| ABC123|User_4|\n",
      "|     null|STOCKTRADES_JSON|2021-06-06 07:37:...|SELL|    3337|  731|   ZVV| XYZ789|User_1|\n",
      "|     null|STOCKTRADES_JSON|2021-06-06 07:37:...| BUY|    1030|  773|  ZBZX| LMN456|User_7|\n",
      "|     null|STOCKTRADES_JSON|2021-06-06 07:37:...| BUY|    2928|  136| ZTEST| ABC123|User_8|\n",
      "|     null|STOCKTRADES_JSON|2021-06-06 07:37:...| BUY|    1710|  528| ZJZZT| ABC123|User_8|\n",
      "|     null|STOCKTRADES_JSON|2021-06-06 07:37:...| BUY|    1133|  614| ZTEST| ABC123|User_3|\n",
      "|     null|STOCKTRADES_JSON|2021-06-06 07:37:...| BUY|    1008|  203|   ZVV| ABC123|User_6|\n",
      "|     null|STOCKTRADES_JSON|2021-06-06 07:37:...|SELL|    2732|  974| ZJZZT| ABC123|User_6|\n",
      "|     null|STOCKTRADES_JSON|2021-06-06 07:37:...|SELL|    1116|  355|   ZVV| ABC123|User_4|\n",
      "|     null|STOCKTRADES_JSON|2021-06-06 07:37:...|SELL|     290|  730| ZJZZT| XYZ789|User_8|\n",
      "|     null|STOCKTRADES_JSON|2021-06-06 07:37:...| BUY|     832|  129| ZXZZT| LMN456|User_7|\n",
      "|     null|STOCKTRADES_JSON|2021-06-06 07:37:...|SELL|    2711|  793| ZTEST| LMN456|User_8|\n",
      "|     null|STOCKTRADES_JSON|2021-06-06 07:37:...|SELL|     388|  839| ZTEST| LMN456|User_9|\n",
      "|     null|STOCKTRADES_JSON|2021-06-06 07:37:...|SELL|    1907|  768| ZVZZT| XYZ789|User_2|\n",
      "|     null|STOCKTRADES_JSON|2021-06-06 07:37:...|SELL|    2814|  685| ZJZZT| ABC123|User_8|\n",
      "|     null|STOCKTRADES_JSON|2021-06-06 07:37:...| BUY|    2678|  743|  ZBZX| LMN456|User_1|\n",
      "+---------+----------------+--------------------+----+--------+-----+------+-------+------+\n",
      "only showing top 20 rows\n",
      "\n"
     ]
    },
    {
     "data": {
      "text/plain": [
       "None"
      ]
     },
     "metadata": {},
     "output_type": "display_data"
    }
   ],
   "source": [
    "clear_output(wait=True)\n",
    "display(spark.sql('SELECT * FROM stocktrades_view').show(20))\n",
    "time.sleep(1)"
   ]
  },
  {
   "cell_type": "code",
   "execution_count": 57,
   "id": "7ba99918",
   "metadata": {},
   "outputs": [],
   "source": [
    "stocktrades_stream.stop()"
   ]
  },
  {
   "cell_type": "markdown",
   "id": "0e03fc73",
   "metadata": {},
   "source": [
    "## Create neater function to generate stream\n",
    "This function generates a stream from stocktrades with one line of code so its easier to call in later components"
   ]
  },
  {
   "cell_type": "code",
   "execution_count": 68,
   "id": "7782f540",
   "metadata": {},
   "outputs": [],
   "source": [
    "def generate_stocktrades_stream():\n",
    "    # Define the Spark Stream\n",
    "    stream_df = spark \\\n",
    "  .readStream \\\n",
    "  .format(\"kafka\") \\\n",
    "  .option(\"kafka.bootstrap.servers\", \"broker:29092\") \\\n",
    "  .option(\"startingOffsets\", \"earliest\") \\\n",
    "  .option(\"subscribe\", \"STOCKTRADES_JSON\") \\\n",
    "  .load()\n",
    "    # Convert to string types\n",
    "    string_stream_df = stream_df \\\n",
    "    .withColumn(\"key\", stream_df[\"key\"].cast(StringType())) \\\n",
    "      .withColumn('value', stream_df[\"value\"].cast(StringType()))\n",
    "    \n",
    "    # Define the Schema\n",
    "    schema_stocktrades =  StructType([\n",
    "        StructField(\"SIDE\", StringType(),  True),\n",
    "        StructField(\"QUANTITY\", IntegerType(),  True),\n",
    "        StructField(\"PRICE\", IntegerType(),  True),\n",
    "        StructField(\"SYMBOL\", StringType(),  True),\n",
    "        StructField(\"ACCOUNT\", StringType(), True),\n",
    "         StructField(\"USERID\", StringType(), True)\n",
    "])\n",
    "    # Convert the string type to json\n",
    "    json_stream_df = string_stream_df\\\n",
    "    .withColumn(\"value\", F.from_json(\"value\", schema_stocktrades))\n",
    "    stocktrades_stream_df = json_stream_df \\\n",
    "    .select( \\\n",
    "        F.col(\"key\").alias(\"event_key\"), \\\n",
    "        F.col(\"topic\").alias(\"event_topic\"), \\\n",
    "        F.col(\"timestamp\").alias(\"event_timestamp\"), \\\n",
    "        \"value.side\", \\\n",
    "        \"value.quantity\", \\\n",
    "        \"value.price\", \\\n",
    "        \"value.symbol\", \\\n",
    "        \"value.account\", \\\n",
    "        \"value.userid\"\n",
    "    )\n",
    "    return stocktrades_stream_df \\\n",
    "    .writeStream \\\n",
    "    .format(\"memory\") \\\n",
    "    .queryName(\"stocktrades_view\") \\\n",
    "    .start()"
   ]
  },
  {
   "cell_type": "code",
   "execution_count": 65,
   "id": "181500eb",
   "metadata": {},
   "outputs": [],
   "source": [
    "stocktrades_stream = generate_stocktrades_stream()"
   ]
  },
  {
   "cell_type": "code",
   "execution_count": 66,
   "id": "6078316a",
   "metadata": {},
   "outputs": [
    {
     "name": "stdout",
     "output_type": "stream",
     "text": [
      "+---------+----------------+--------------------+----+--------+-----+------+-------+------+\n",
      "|event_key|     event_topic|     event_timestamp|side|quantity|price|symbol|account|userid|\n",
      "+---------+----------------+--------------------+----+--------+-----+------+-------+------+\n",
      "|     null|STOCKTRADES_JSON|2021-06-06 07:37:...|SELL|    3679|  432| ZXZZT| XYZ789|User_2|\n",
      "|     null|STOCKTRADES_JSON|2021-06-06 07:37:...| BUY|    4955|   73| ZTEST| ABC123|User_9|\n",
      "|     null|STOCKTRADES_JSON|2021-06-06 07:37:...| BUY|    4014|  821| ZJZZT| XYZ789|User_8|\n",
      "|     null|STOCKTRADES_JSON|2021-06-06 07:37:...| BUY|     161|  928|   ZVV| XYZ789|User_1|\n",
      "|     null|STOCKTRADES_JSON|2021-06-06 07:37:...|SELL|    2099|  947| ZTEST| ABC123|User_4|\n",
      "|     null|STOCKTRADES_JSON|2021-06-06 07:37:...|SELL|    3337|  731|   ZVV| XYZ789|User_1|\n",
      "|     null|STOCKTRADES_JSON|2021-06-06 07:37:...| BUY|    1030|  773|  ZBZX| LMN456|User_7|\n",
      "|     null|STOCKTRADES_JSON|2021-06-06 07:37:...| BUY|    2928|  136| ZTEST| ABC123|User_8|\n",
      "|     null|STOCKTRADES_JSON|2021-06-06 07:37:...| BUY|    1710|  528| ZJZZT| ABC123|User_8|\n",
      "|     null|STOCKTRADES_JSON|2021-06-06 07:37:...| BUY|    1133|  614| ZTEST| ABC123|User_3|\n",
      "|     null|STOCKTRADES_JSON|2021-06-06 07:37:...| BUY|    1008|  203|   ZVV| ABC123|User_6|\n",
      "|     null|STOCKTRADES_JSON|2021-06-06 07:37:...|SELL|    2732|  974| ZJZZT| ABC123|User_6|\n",
      "|     null|STOCKTRADES_JSON|2021-06-06 07:37:...|SELL|    1116|  355|   ZVV| ABC123|User_4|\n",
      "|     null|STOCKTRADES_JSON|2021-06-06 07:37:...|SELL|     290|  730| ZJZZT| XYZ789|User_8|\n",
      "|     null|STOCKTRADES_JSON|2021-06-06 07:37:...| BUY|     832|  129| ZXZZT| LMN456|User_7|\n",
      "|     null|STOCKTRADES_JSON|2021-06-06 07:37:...|SELL|    2711|  793| ZTEST| LMN456|User_8|\n",
      "|     null|STOCKTRADES_JSON|2021-06-06 07:37:...|SELL|     388|  839| ZTEST| LMN456|User_9|\n",
      "|     null|STOCKTRADES_JSON|2021-06-06 07:37:...|SELL|    1907|  768| ZVZZT| XYZ789|User_2|\n",
      "|     null|STOCKTRADES_JSON|2021-06-06 07:37:...|SELL|    2814|  685| ZJZZT| ABC123|User_8|\n",
      "|     null|STOCKTRADES_JSON|2021-06-06 07:37:...| BUY|    2678|  743|  ZBZX| LMN456|User_1|\n",
      "+---------+----------------+--------------------+----+--------+-----+------+-------+------+\n",
      "only showing top 20 rows\n",
      "\n"
     ]
    },
    {
     "data": {
      "text/plain": [
       "None"
      ]
     },
     "metadata": {},
     "output_type": "display_data"
    }
   ],
   "source": [
    "clear_output(wait=True)\n",
    "display(spark.sql('SELECT * FROM stocktrades_view').show(20))\n",
    "time.sleep(1)"
   ]
  },
  {
   "cell_type": "code",
   "execution_count": 67,
   "id": "9cdcdcf2",
   "metadata": {},
   "outputs": [],
   "source": [
    "stocktrades_stream.stop()"
   ]
  },
  {
   "cell_type": "code",
   "execution_count": null,
   "id": "30228646",
   "metadata": {},
   "outputs": [],
   "source": []
  }
 ],
 "metadata": {
  "kernelspec": {
   "display_name": "Python 3",
   "language": "python",
   "name": "python3"
  },
  "language_info": {
   "codemirror_mode": {
    "name": "ipython",
    "version": 3
   },
   "file_extension": ".py",
   "mimetype": "text/x-python",
   "name": "python",
   "nbconvert_exporter": "python",
   "pygments_lexer": "ipython3",
   "version": "3.8.8"
  }
 },
 "nbformat": 4,
 "nbformat_minor": 5
}
