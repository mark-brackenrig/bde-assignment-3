{
 "cells": [
  {
   "cell_type": "markdown",
   "id": "30bf74d7",
   "metadata": {},
   "source": [
    "## Part 1 - Produce Data\n",
    "We elected to use the datagen connector to generate fake data for this assignment. The topic we used was 'stocktrades. The steps were as follows:\n",
    "*  Open a browser and go to http://localhost:9021/\n",
    "*  Select the available cluster\n",
    "*  On the menu bar, select Connect\n",
    "*  Click on the connect-default cluster in the Connect Clusters list.\n",
    "*  Click on Add connector\n",
    "*  Select DatagenConnector\n",
    "*  Enter connector_stock_trades in the Name field\n",
    "\n",
    "Then:\n",
    "Generate a data stream with following configurations:\n",
    "```\n",
    "{\n",
    "  \"name\": \"connector_stock_trades\",\n",
    "  \"connector.class\": \"io.confluent.kafka.connect.datagen.DatagenConnector\",\n",
    "  \"key.converter\": \"org.apache.kafka.connect.storage.StringConverter\",\n",
    "  \"value.converter\": \"org.apache.kafka.connect.json.JsonConverter\",\n",
    "  \"kafka.topic\": \"stocktrades\",\n",
    "  \"max.interval\": \"100\",\n",
    "  \"quickstart\": \"Stock_Trades\"\n",
    "}\n",
    "```\n"
   ]
  },
  {
   "cell_type": "markdown",
   "id": "77b002f4",
   "metadata": {},
   "source": [
    "## Part 2 - Using Ksql to create at least 2 streams with filtering from topics\n",
    "\n",
    "To begin, you need to create a stream called stocktrades with no filtering in place."
   ]
  },
  {
   "cell_type": "raw",
   "id": "cf76eab0",
   "metadata": {},
   "source": [
    "CREATE STREAM STOCKTRADES\n",
    "   (SIDE STRING, QUANTITY INTEGER, SYMBOL STRING, PRICE INTEGER, ACCOUNT STRING, USERID STRING)\n",
    "       WITH (KAFKA_TOPIC='stocktrades', VALUE_FORMAT='AVRO');"
   ]
  },
  {
   "cell_type": "markdown",
   "id": "1e8d1599",
   "metadata": {},
   "source": [
    "### Stream 1 - Sell Stream\n",
    "It may be in the interest of the business to view only streams where the stock was sold and not bought. This would be useful in identifying which shares should be taken as a 'short' position"
   ]
  },
  {
   "cell_type": "raw",
   "id": "80338d66",
   "metadata": {},
   "source": [
    "CREATE STREAM SELL_TRADES WITH (KAFKA_TOPIC='SELL_TRADES', PARTITIONS=1, REPLICAS=1) AS SELECT\n",
    "  STOCKTRADES.QUANTITY QUANTITY,\n",
    "  STOCKTRADES.SYMBOL SYMBOL,\n",
    "  STOCKTRADES.PRICE PRICE,\n",
    "  STOCKTRADES.ACCOUNT ACCOUNT,\n",
    "  STOCKTRADES.USERID USERID\n",
    "FROM STOCKTRADES STOCKTRADES\n",
    "WHERE (STOCKTRADES.SIDE = 'SELL')\n",
    "EMIT CHANGES;\n"
   ]
  },
  {
   "cell_type": "markdown",
   "id": "81cdf898",
   "metadata": {},
   "source": [
    "### Stream 2 - Buy Stream\n",
    "It may also be interesting to the business to see trades that were large buys."
   ]
  },
  {
   "cell_type": "raw",
   "id": "799a105f",
   "metadata": {},
   "source": [
    "CREATE STREAM BUY_TRADES WITH (KAFKA_TOPIC='BUY_TRADES', PARTITIONS=1, REPLICAS=1) AS SELECT\n",
    "  STOCKTRADES.QUANTITY QUANTITY,\n",
    "  STOCKTRADES.SYMBOL SYMBOL,\n",
    "  STOCKTRADES.PRICE PRICE,\n",
    "  STOCKTRADES.ACCOUNT ACCOUNT,\n",
    "  STOCKTRADES.USERID USERID\n",
    "FROM STOCKTRADES STOCKTRADES\n",
    "WHERE (STOCKTRADES.SIDE = 'BUY')\n",
    "EMIT CHANGES;"
   ]
  },
  {
   "cell_type": "markdown",
   "id": "4296d2c8",
   "metadata": {},
   "source": [
    "### Table 1 - Aggregated Buy Trades\n"
   ]
  },
  {
   "cell_type": "raw",
   "id": "3a949deb",
   "metadata": {},
   "source": [
    "CREATE TABLE AGG_BUY_ORDERS WITH (KAFKA_TOPIC='AGG_BUY_ORDERS', PARTITIONS=1, REPLICAS=1) AS SELECT\n",
    "  BUY_TRADES.SYMBOL SYMBOL,\n",
    "  SUM(BUY_TRADES.QUANTITY) QUANTITY_AGG,\n",
    "  AVG(BUY_TRADES.PRICE) PRICE_AVG,\n",
    "  SUM((BUY_TRADES.QUANTITY * BUY_TRADES.PRICE)) VALUE_TRADED\n",
    "FROM BUY_TRADES BUY_TRADES\n",
    "WINDOW TUMBLING ( SIZE 60 SECONDS )\n",
    "GROUP BY BUY_TRADES.SYMBOL\n",
    "EMIT CHANGES;\n"
   ]
  },
  {
   "cell_type": "markdown",
   "id": "a8e8c917",
   "metadata": {},
   "source": [
    "### Table 2 - Aggregated Sell Trades"
   ]
  },
  {
   "cell_type": "raw",
   "id": "ac148e7e",
   "metadata": {},
   "source": [
    "CREATE TABLE AGG_SELL_ORDERS WITH (KAFKA_TOPIC='AGG_SELL_ORDERS', PARTITIONS=1, REPLICAS=1) AS SELECT\n",
    "  SELL_TRADES.SYMBOL SYMBOL,\n",
    "  SUM(SELL_TRADES.QUANTITY) QUANTITY_AGG,\n",
    "  AVG(SELL_TRADES.PRICE) PRICE_AVG,\n",
    "  SUM((SELL_TRADES.QUANTITY * SELL_TRADES.PRICE)) VALUE_TRADED\n",
    "FROM SELL_TRADES SELL_TRADES\n",
    "WINDOW TUMBLING ( SIZE 60 SECONDS )\n",
    "GROUP BY SELL_TRADES.SYMBOL\n",
    "EMIT CHANGES;"
   ]
  },
  {
   "cell_type": "markdown",
   "id": "6f722685",
   "metadata": {},
   "source": [
    "## Part 3 - Consume/Transform data with Spark Streaming"
   ]
  },
  {
   "cell_type": "code",
   "execution_count": 1,
   "id": "af90aef6",
   "metadata": {},
   "outputs": [],
   "source": [
    "from pyspark.sql import SparkSession\n",
    "from IPython.display import display, clear_output\n",
    "import time\n",
    "from pyspark.sql import functions as F\n",
    "from pyspark.sql.types import StructType,StringType, StructField, IntegerType, FloatType, BinaryType"
   ]
  },
  {
   "cell_type": "code",
   "execution_count": 2,
   "id": "1f34c0c5",
   "metadata": {},
   "outputs": [],
   "source": [
    "spark = SparkSession.builder \\\n",
    "        .appName('kafka') \\\n",
    "        .getOrCreate()"
   ]
  },
  {
   "cell_type": "code",
   "execution_count": 3,
   "id": "ab829410",
   "metadata": {},
   "outputs": [
    {
     "data": {
      "text/plain": [
       "'3.1.1'"
      ]
     },
     "execution_count": 3,
     "metadata": {},
     "output_type": "execute_result"
    }
   ],
   "source": [
    "spark.version"
   ]
  },
  {
   "cell_type": "code",
   "execution_count": 4,
   "id": "018aa0c0",
   "metadata": {},
   "outputs": [
    {
     "data": {
      "text/plain": [
       "'3.2.0'"
      ]
     },
     "execution_count": 4,
     "metadata": {},
     "output_type": "execute_result"
    }
   ],
   "source": [
    "spark._jvm.org.apache.hadoop.util.VersionInfo.getVersion()"
   ]
  },
  {
   "cell_type": "markdown",
   "id": "2d972991",
   "metadata": {},
   "source": [
    "## Raw Data Streams"
   ]
  },
  {
   "cell_type": "code",
   "execution_count": 5,
   "id": "2d5073f1",
   "metadata": {},
   "outputs": [],
   "source": [
    "stream_df = spark \\\n",
    "  .readStream \\\n",
    "  .format(\"kafka\") \\\n",
    "  .option(\"kafka.bootstrap.servers\", \"broker:29092\") \\\n",
    "  .option(\"startingOffsets\", \"earliest\") \\\n",
    "  .option(\"subscribe\", \"stocktrades\") \\\n",
    "  .load()"
   ]
  },
  {
   "cell_type": "code",
   "execution_count": 6,
   "id": "6e4e50d4",
   "metadata": {},
   "outputs": [
    {
     "name": "stdout",
     "output_type": "stream",
     "text": [
      "root\n",
      " |-- key: binary (nullable = true)\n",
      " |-- value: binary (nullable = true)\n",
      " |-- topic: string (nullable = true)\n",
      " |-- partition: integer (nullable = true)\n",
      " |-- offset: long (nullable = true)\n",
      " |-- timestamp: timestamp (nullable = true)\n",
      " |-- timestampType: integer (nullable = true)\n",
      "\n"
     ]
    }
   ],
   "source": [
    "stream_df.printSchema()"
   ]
  },
  {
   "cell_type": "code",
   "execution_count": 7,
   "id": "09cf7420",
   "metadata": {},
   "outputs": [],
   "source": [
    "raw_stream = stream_df \\\n",
    "    .writeStream \\\n",
    "    .format(\"memory\") \\\n",
    "    .queryName(\"raw_stocktrades_view\") \\\n",
    "    .start()"
   ]
  },
  {
   "cell_type": "code",
   "execution_count": 10,
   "id": "69904fdb",
   "metadata": {},
   "outputs": [
    {
     "name": "stdout",
     "output_type": "stream",
     "text": [
      "+----------------+--------------------+\n",
      "|             key|               value|\n",
      "+----------------+--------------------+\n",
      "|[5A 58 5A 5A 54]|[7B 22 73 63 68 6...|\n",
      "|[5A 54 45 53 54]|[7B 22 73 63 68 6...|\n",
      "|      [5A 56 56]|[7B 22 73 63 68 6...|\n",
      "|   [5A 42 5A 58]|[7B 22 73 63 68 6...|\n",
      "|   [5A 42 5A 58]|[7B 22 73 63 68 6...|\n",
      "|[5A 54 45 53 54]|[7B 22 73 63 68 6...|\n",
      "|[5A 58 5A 5A 54]|[7B 22 73 63 68 6...|\n",
      "|[5A 54 45 53 54]|[7B 22 73 63 68 6...|\n",
      "|[5A 58 5A 5A 54]|[7B 22 73 63 68 6...|\n",
      "|[5A 56 5A 5A 54]|[7B 22 73 63 68 6...|\n",
      "|   [5A 42 5A 58]|[7B 22 73 63 68 6...|\n",
      "|      [5A 56 56]|[7B 22 73 63 68 6...|\n",
      "|[5A 4A 5A 5A 54]|[7B 22 73 63 68 6...|\n",
      "|[5A 57 5A 5A 54]|[7B 22 73 63 68 6...|\n",
      "|      [5A 56 56]|[7B 22 73 63 68 6...|\n",
      "|      [5A 56 56]|[7B 22 73 63 68 6...|\n",
      "|[5A 54 45 53 54]|[7B 22 73 63 68 6...|\n",
      "|[5A 4A 5A 5A 54]|[7B 22 73 63 68 6...|\n",
      "|[5A 58 5A 5A 54]|[7B 22 73 63 68 6...|\n",
      "|[5A 4A 5A 5A 54]|[7B 22 73 63 68 6...|\n",
      "+----------------+--------------------+\n",
      "only showing top 20 rows\n",
      "\n"
     ]
    },
    {
     "data": {
      "text/plain": [
       "None"
      ]
     },
     "metadata": {},
     "output_type": "display_data"
    }
   ],
   "source": [
    "clear_output(wait=True)\n",
    "display(spark.sql('SELECT key, value FROM raw_stocktrades_view').show(20))\n",
    "time.sleep(1)"
   ]
  },
  {
   "cell_type": "code",
   "execution_count": 11,
   "id": "fcfc6a47",
   "metadata": {},
   "outputs": [],
   "source": [
    "raw_stream.stop()"
   ]
  },
  {
   "cell_type": "markdown",
   "id": "75d3816b",
   "metadata": {},
   "source": [
    "### Convert Key Value pairs to strings"
   ]
  },
  {
   "cell_type": "code",
   "execution_count": 13,
   "id": "caafbe0f",
   "metadata": {},
   "outputs": [],
   "source": [
    "string_stream_df = stream_df \\\n",
    "    .withColumn(\"key\", stream_df[\"key\"].cast(StringType())) \\\n",
    "      .withColumn('value', stream_df[\"value\"].cast(StringType()))"
   ]
  },
  {
   "cell_type": "code",
   "execution_count": 14,
   "id": "c407f6f0",
   "metadata": {},
   "outputs": [],
   "source": [
    "string_stream = string_stream_df \\\n",
    "    .writeStream \\\n",
    "    .format(\"memory\") \\\n",
    "    .queryName(\"string_stocktrades_view\") \\\n",
    "    .start()"
   ]
  },
  {
   "cell_type": "code",
   "execution_count": 15,
   "id": "1f3b3ef9",
   "metadata": {},
   "outputs": [
    {
     "name": "stdout",
     "output_type": "stream",
     "text": [
      "+-----+--------------------+\n",
      "|  key|               value|\n",
      "+-----+--------------------+\n",
      "|ZXZZT|{\"schema\":{\"type\"...|\n",
      "|ZTEST|{\"schema\":{\"type\"...|\n",
      "|  ZVV|{\"schema\":{\"type\"...|\n",
      "| ZBZX|{\"schema\":{\"type\"...|\n",
      "| ZBZX|{\"schema\":{\"type\"...|\n",
      "|ZTEST|{\"schema\":{\"type\"...|\n",
      "|ZXZZT|{\"schema\":{\"type\"...|\n",
      "|ZTEST|{\"schema\":{\"type\"...|\n",
      "|ZXZZT|{\"schema\":{\"type\"...|\n",
      "|ZVZZT|{\"schema\":{\"type\"...|\n",
      "| ZBZX|{\"schema\":{\"type\"...|\n",
      "|  ZVV|{\"schema\":{\"type\"...|\n",
      "|ZJZZT|{\"schema\":{\"type\"...|\n",
      "|ZWZZT|{\"schema\":{\"type\"...|\n",
      "|  ZVV|{\"schema\":{\"type\"...|\n",
      "|  ZVV|{\"schema\":{\"type\"...|\n",
      "|ZTEST|{\"schema\":{\"type\"...|\n",
      "|ZJZZT|{\"schema\":{\"type\"...|\n",
      "|ZXZZT|{\"schema\":{\"type\"...|\n",
      "|ZJZZT|{\"schema\":{\"type\"...|\n",
      "+-----+--------------------+\n",
      "only showing top 20 rows\n",
      "\n"
     ]
    },
    {
     "data": {
      "text/plain": [
       "None"
      ]
     },
     "metadata": {},
     "output_type": "display_data"
    }
   ],
   "source": [
    "clear_output(wait=True)\n",
    "display(spark.sql('SELECT key, value FROM string_stocktrades_view').show(20))\n",
    "time.sleep(1)"
   ]
  },
  {
   "cell_type": "code",
   "execution_count": 16,
   "id": "b6bd1bd1",
   "metadata": {},
   "outputs": [],
   "source": [
    "string_stream.stop()"
   ]
  },
  {
   "cell_type": "markdown",
   "id": "72be2144",
   "metadata": {},
   "source": [
    "## Transformation"
   ]
  },
  {
   "cell_type": "code",
   "execution_count": 17,
   "id": "a2138cbc",
   "metadata": {},
   "outputs": [],
   "source": [
    "schema_stocktrades =  StructType([\n",
    "    StructField('payload', StructType([\n",
    "        StructField(\"side\", StringType(),  True),\n",
    "        StructField(\"quantity\", IntegerType(),  True),\n",
    "        StructField(\"price\", IntegerType(),  True),\n",
    "        StructField(\"symbol\", StringType(),  True),\n",
    "        StructField(\"account\", StringType(), True),\n",
    "         StructField(\"userid\", StringType(), True)\n",
    "    ]))\n",
    "])"
   ]
  },
  {
   "cell_type": "code",
   "execution_count": 18,
   "id": "b226de3d",
   "metadata": {},
   "outputs": [],
   "source": [
    "json_stream_df = string_stream_df\\\n",
    "    .withColumn(\"value\", F.from_json(\"value\", schema_stocktrades))"
   ]
  },
  {
   "cell_type": "code",
   "execution_count": 19,
   "id": "f0c34cc9",
   "metadata": {},
   "outputs": [
    {
     "name": "stdout",
     "output_type": "stream",
     "text": [
      "root\n",
      " |-- key: string (nullable = true)\n",
      " |-- value: struct (nullable = true)\n",
      " |    |-- payload: struct (nullable = true)\n",
      " |    |    |-- side: string (nullable = true)\n",
      " |    |    |-- quantity: integer (nullable = true)\n",
      " |    |    |-- price: integer (nullable = true)\n",
      " |    |    |-- symbol: string (nullable = true)\n",
      " |    |    |-- account: string (nullable = true)\n",
      " |    |    |-- userid: string (nullable = true)\n",
      " |-- topic: string (nullable = true)\n",
      " |-- partition: integer (nullable = true)\n",
      " |-- offset: long (nullable = true)\n",
      " |-- timestamp: timestamp (nullable = true)\n",
      " |-- timestampType: integer (nullable = true)\n",
      "\n"
     ]
    }
   ],
   "source": [
    "json_stream_df.printSchema()"
   ]
  },
  {
   "cell_type": "code",
   "execution_count": 20,
   "id": "cfc0d952",
   "metadata": {},
   "outputs": [],
   "source": [
    "json_stream = json_stream_df \\\n",
    "    .writeStream \\\n",
    "    .format(\"memory\") \\\n",
    "    .queryName(\"extract_stocktrades_view\") \\\n",
    "    .start()"
   ]
  },
  {
   "cell_type": "code",
   "execution_count": 21,
   "id": "35909ace",
   "metadata": {},
   "outputs": [
    {
     "name": "stdout",
     "output_type": "stream",
     "text": [
      "+---+-----+-----+---------+------+---------+-------------+\n",
      "|key|value|topic|partition|offset|timestamp|timestampType|\n",
      "+---+-----+-----+---------+------+---------+-------------+\n",
      "+---+-----+-----+---------+------+---------+-------------+\n",
      "\n"
     ]
    },
    {
     "data": {
      "text/plain": [
       "None"
      ]
     },
     "metadata": {},
     "output_type": "display_data"
    }
   ],
   "source": [
    "clear_output(wait=True)\n",
    "display(spark.sql('SELECT * FROM extract_stocktrades_view').show(20, False))\n",
    "time.sleep(1)"
   ]
  },
  {
   "cell_type": "code",
   "execution_count": 22,
   "id": "cdc31d73",
   "metadata": {},
   "outputs": [],
   "source": [
    "json_stream.stop()"
   ]
  },
  {
   "cell_type": "markdown",
   "id": "2f516ba5",
   "metadata": {},
   "source": [
    "### Flatten Data"
   ]
  },
  {
   "cell_type": "code",
   "execution_count": 23,
   "id": "c5f0f121",
   "metadata": {},
   "outputs": [],
   "source": [
    "stocktrades_stream_df = json_stream_df \\\n",
    "    .select( \\\n",
    "        F.col(\"key\").alias(\"event_key\"), \\\n",
    "        F.col(\"topic\").alias(\"event_topic\"), \\\n",
    "        F.col(\"timestamp\").alias(\"event_timestamp\"), \\\n",
    "        \"value.payload.side\", \\\n",
    "        \"value.payload.quantity\", \\\n",
    "        \"value.payload.price\", \\\n",
    "        \"value.payload.symbol\", \\\n",
    "        \"value.payload.account\", \\\n",
    "        \"value.payload.userid\"\n",
    "    )"
   ]
  },
  {
   "cell_type": "code",
   "execution_count": 24,
   "id": "314f28fc",
   "metadata": {},
   "outputs": [
    {
     "name": "stdout",
     "output_type": "stream",
     "text": [
      "root\n",
      " |-- event_key: string (nullable = true)\n",
      " |-- event_topic: string (nullable = true)\n",
      " |-- event_timestamp: timestamp (nullable = true)\n",
      " |-- side: string (nullable = true)\n",
      " |-- quantity: integer (nullable = true)\n",
      " |-- price: integer (nullable = true)\n",
      " |-- symbol: string (nullable = true)\n",
      " |-- account: string (nullable = true)\n",
      " |-- userid: string (nullable = true)\n",
      "\n"
     ]
    }
   ],
   "source": [
    "stocktrades_stream_df.printSchema()"
   ]
  },
  {
   "cell_type": "code",
   "execution_count": 25,
   "id": "3853b6f5",
   "metadata": {},
   "outputs": [],
   "source": [
    "stocktrades_stream = stocktrades_stream_df \\\n",
    "    .writeStream \\\n",
    "    .format(\"memory\") \\\n",
    "    .queryName(\"stocktrades_view\") \\\n",
    "    .start()"
   ]
  },
  {
   "cell_type": "code",
   "execution_count": 26,
   "id": "9ec1465c",
   "metadata": {},
   "outputs": [
    {
     "name": "stdout",
     "output_type": "stream",
     "text": [
      "+---------+-----------+--------------------+----+--------+-----+------+-------+------+\n",
      "|event_key|event_topic|     event_timestamp|side|quantity|price|symbol|account|userid|\n",
      "+---------+-----------+--------------------+----+--------+-----+------+-------+------+\n",
      "|    ZXZZT|stocktrades|2021-06-05 08:13:...| BUY|    2057|  979| ZXZZT| XYZ789|User_5|\n",
      "|    ZTEST|stocktrades|2021-06-05 08:13:...| BUY|    4709|  793| ZTEST| ABC123|User_6|\n",
      "|      ZVV|stocktrades|2021-06-05 08:13:...|SELL|    3951|  194|   ZVV| XYZ789|User_4|\n",
      "|     ZBZX|stocktrades|2021-06-05 08:13:...|SELL|    1822|  821|  ZBZX| LMN456|User_2|\n",
      "|     ZBZX|stocktrades|2021-06-05 08:13:...|SELL|    2851|  337|  ZBZX| XYZ789|User_7|\n",
      "|    ZTEST|stocktrades|2021-06-05 08:13:...|SELL|    2874|  980| ZTEST| XYZ789|User_6|\n",
      "|    ZXZZT|stocktrades|2021-06-05 08:13:...| BUY|     785|  216| ZXZZT| ABC123|User_2|\n",
      "|    ZTEST|stocktrades|2021-06-05 08:13:...|SELL|    2617|  867| ZTEST| ABC123|User_7|\n",
      "|    ZXZZT|stocktrades|2021-06-05 08:13:...| BUY|    4031|  252| ZXZZT| LMN456|User_7|\n",
      "|    ZVZZT|stocktrades|2021-06-05 08:13:...| BUY|    3636|  471| ZVZZT| LMN456|User_2|\n",
      "|     ZBZX|stocktrades|2021-06-05 08:13:...| BUY|    3282|  970|  ZBZX| LMN456|User_3|\n",
      "|      ZVV|stocktrades|2021-06-05 08:13:...| BUY|    2671|  997|   ZVV| ABC123|User_1|\n",
      "|    ZJZZT|stocktrades|2021-06-05 08:13:...|SELL|    4413|  688| ZJZZT| XYZ789|User_2|\n",
      "|    ZWZZT|stocktrades|2021-06-05 08:13:...| BUY|    2020|  897| ZWZZT| ABC123|User_5|\n",
      "|      ZVV|stocktrades|2021-06-05 08:13:...| BUY|    3627|  951|   ZVV| ABC123|User_2|\n",
      "|      ZVV|stocktrades|2021-06-05 08:13:...| BUY|    1231|   87|   ZVV| XYZ789|User_3|\n",
      "|    ZTEST|stocktrades|2021-06-05 08:13:...| BUY|    4557|  234| ZTEST| LMN456|User_3|\n",
      "|    ZJZZT|stocktrades|2021-06-05 08:13:...| BUY|    2374|  263| ZJZZT| LMN456|User_5|\n",
      "|    ZXZZT|stocktrades|2021-06-05 08:13:...| BUY|    3606|  322| ZXZZT| LMN456|User_7|\n",
      "|    ZJZZT|stocktrades|2021-06-05 08:13:...|SELL|    3698|  905| ZJZZT| ABC123|User_2|\n",
      "+---------+-----------+--------------------+----+--------+-----+------+-------+------+\n",
      "only showing top 20 rows\n",
      "\n"
     ]
    },
    {
     "data": {
      "text/plain": [
       "None"
      ]
     },
     "metadata": {},
     "output_type": "display_data"
    }
   ],
   "source": [
    "clear_output(wait=True)\n",
    "display(spark.sql('SELECT * FROM stocktrades_view').show(20))\n",
    "time.sleep(1)"
   ]
  },
  {
   "cell_type": "code",
   "execution_count": 32,
   "id": "b0a1cebb",
   "metadata": {},
   "outputs": [],
   "source": [
    "stocktrades_stream.stop()"
   ]
  },
  {
   "cell_type": "markdown",
   "id": "c1dfbf13",
   "metadata": {},
   "source": [
    "## Create neater function to generate stream\n",
    "This function generates a stream from stocktrades with one line of code so its easier to call in later components"
   ]
  },
  {
   "cell_type": "code",
   "execution_count": 44,
   "id": "890ff9aa",
   "metadata": {},
   "outputs": [],
   "source": [
    "def generate_stocktrades_stream():\n",
    "    stream_df = spark \\\n",
    "  .readStream \\\n",
    "  .format(\"kafka\") \\\n",
    "  .option(\"kafka.bootstrap.servers\", \"broker:29092\") \\\n",
    "  .option(\"startingOffsets\", \"earliest\") \\\n",
    "  .option(\"subscribe\", \"stocktrades\") \\\n",
    "  .load()\n",
    "    string_stream_df = stream_df \\\n",
    "    .withColumn(\"key\", stream_df[\"key\"].cast(StringType())) \\\n",
    "      .withColumn('value', stream_df[\"value\"].cast(StringType()))\n",
    "    schema_stocktrades =  StructType([\n",
    "    StructField('payload', StructType([\n",
    "        StructField(\"side\", StringType(),  True),\n",
    "        StructField(\"quantity\", IntegerType(),  True),\n",
    "        StructField(\"price\", IntegerType(),  True),\n",
    "        StructField(\"symbol\", StringType(),  True),\n",
    "        StructField(\"account\", StringType(), True),\n",
    "         StructField(\"userid\", StringType(), True)\n",
    "    ]))\n",
    "])\n",
    "    json_stream_df = string_stream_df\\\n",
    "    .withColumn(\"value\", F.from_json(\"value\", schema_stocktrades))\n",
    "    stocktrades_stream_df = json_stream_df \\\n",
    "    .select( \\\n",
    "        F.col(\"key\").alias(\"event_key\"), \\\n",
    "        F.col(\"topic\").alias(\"event_topic\"), \\\n",
    "        F.col(\"timestamp\").alias(\"event_timestamp\"), \\\n",
    "        \"value.payload.side\", \\\n",
    "        \"value.payload.quantity\", \\\n",
    "        \"value.payload.price\", \\\n",
    "        \"value.payload.symbol\", \\\n",
    "        \"value.payload.account\", \\\n",
    "        \"value.payload.userid\"\n",
    "    )\n",
    "    return stocktrades_stream_df \\\n",
    "    .writeStream \\\n",
    "    .format(\"memory\") \\\n",
    "    .queryName(\"stocktrades_view\") \\\n",
    "    .start()"
   ]
  },
  {
   "cell_type": "code",
   "execution_count": 46,
   "id": "283bd9ac",
   "metadata": {},
   "outputs": [],
   "source": [
    "stocktrades_stream = generate_clean_stream(stream_df,schema_stocktrades)"
   ]
  },
  {
   "cell_type": "code",
   "execution_count": 47,
   "id": "4414dd1f",
   "metadata": {},
   "outputs": [
    {
     "name": "stdout",
     "output_type": "stream",
     "text": [
      "+---------+-----------+--------------------+----+--------+-----+------+-------+------+\n",
      "|event_key|event_topic|     event_timestamp|side|quantity|price|symbol|account|userid|\n",
      "+---------+-----------+--------------------+----+--------+-----+------+-------+------+\n",
      "|    ZXZZT|stocktrades|2021-06-05 08:13:...| BUY|    2057|  979| ZXZZT| XYZ789|User_5|\n",
      "|    ZTEST|stocktrades|2021-06-05 08:13:...| BUY|    4709|  793| ZTEST| ABC123|User_6|\n",
      "|      ZVV|stocktrades|2021-06-05 08:13:...|SELL|    3951|  194|   ZVV| XYZ789|User_4|\n",
      "|     ZBZX|stocktrades|2021-06-05 08:13:...|SELL|    1822|  821|  ZBZX| LMN456|User_2|\n",
      "|     ZBZX|stocktrades|2021-06-05 08:13:...|SELL|    2851|  337|  ZBZX| XYZ789|User_7|\n",
      "|    ZTEST|stocktrades|2021-06-05 08:13:...|SELL|    2874|  980| ZTEST| XYZ789|User_6|\n",
      "|    ZXZZT|stocktrades|2021-06-05 08:13:...| BUY|     785|  216| ZXZZT| ABC123|User_2|\n",
      "|    ZTEST|stocktrades|2021-06-05 08:13:...|SELL|    2617|  867| ZTEST| ABC123|User_7|\n",
      "|    ZXZZT|stocktrades|2021-06-05 08:13:...| BUY|    4031|  252| ZXZZT| LMN456|User_7|\n",
      "|    ZVZZT|stocktrades|2021-06-05 08:13:...| BUY|    3636|  471| ZVZZT| LMN456|User_2|\n",
      "|     ZBZX|stocktrades|2021-06-05 08:13:...| BUY|    3282|  970|  ZBZX| LMN456|User_3|\n",
      "|      ZVV|stocktrades|2021-06-05 08:13:...| BUY|    2671|  997|   ZVV| ABC123|User_1|\n",
      "|    ZJZZT|stocktrades|2021-06-05 08:13:...|SELL|    4413|  688| ZJZZT| XYZ789|User_2|\n",
      "|    ZWZZT|stocktrades|2021-06-05 08:13:...| BUY|    2020|  897| ZWZZT| ABC123|User_5|\n",
      "|      ZVV|stocktrades|2021-06-05 08:13:...| BUY|    3627|  951|   ZVV| ABC123|User_2|\n",
      "|      ZVV|stocktrades|2021-06-05 08:13:...| BUY|    1231|   87|   ZVV| XYZ789|User_3|\n",
      "|    ZTEST|stocktrades|2021-06-05 08:13:...| BUY|    4557|  234| ZTEST| LMN456|User_3|\n",
      "|    ZJZZT|stocktrades|2021-06-05 08:13:...| BUY|    2374|  263| ZJZZT| LMN456|User_5|\n",
      "|    ZXZZT|stocktrades|2021-06-05 08:13:...| BUY|    3606|  322| ZXZZT| LMN456|User_7|\n",
      "|    ZJZZT|stocktrades|2021-06-05 08:13:...|SELL|    3698|  905| ZJZZT| ABC123|User_2|\n",
      "+---------+-----------+--------------------+----+--------+-----+------+-------+------+\n",
      "only showing top 20 rows\n",
      "\n"
     ]
    },
    {
     "data": {
      "text/plain": [
       "None"
      ]
     },
     "metadata": {},
     "output_type": "display_data"
    }
   ],
   "source": [
    "clear_output(wait=True)\n",
    "display(spark.sql('SELECT * FROM stocktrades_view').show(20))\n",
    "time.sleep(1)"
   ]
  },
  {
   "cell_type": "code",
   "execution_count": 48,
   "id": "d3d875c7",
   "metadata": {},
   "outputs": [],
   "source": [
    "stocktrades_stream.stop()"
   ]
  },
  {
   "cell_type": "code",
   "execution_count": null,
   "id": "31c322f4",
   "metadata": {},
   "outputs": [],
   "source": []
  }
 ],
 "metadata": {
  "kernelspec": {
   "display_name": "Python 3",
   "language": "python",
   "name": "python3"
  },
  "language_info": {
   "codemirror_mode": {
    "name": "ipython",
    "version": 3
   },
   "file_extension": ".py",
   "mimetype": "text/x-python",
   "name": "python",
   "nbconvert_exporter": "python",
   "pygments_lexer": "ipython3",
   "version": "3.8.8"
  }
 },
 "nbformat": 4,
 "nbformat_minor": 5
}
