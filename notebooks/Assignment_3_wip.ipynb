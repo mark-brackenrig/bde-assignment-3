{
 "cells": [
  {
   "cell_type": "markdown",
   "id": "a05caa53",
   "metadata": {},
   "source": [
    "## Part 1 - Produce Data\n",
    "We elected to use the datagen connector to generate fake data for this assignment. The topic we used was 'stocktrades. The steps were as follows:\n",
    "*  Open a browser and go to http://localhost:9021/\n",
    "*  Select the available cluster\n",
    "*  On the menu bar, select Connect\n",
    "*  Click on the connect-default cluster in the Connect Clusters list.\n",
    "*  Click on Add connector\n",
    "*  Select DatagenConnector\n",
    "*  Enter connector_stock_trades in the Name field\n",
    "\n",
    "Then:\n",
    "Generate a data stream with following configurations:\n",
    "```\n",
    "{\n",
    "  \"name\": \"connector_stock_trades\",\n",
    "  \"connector.class\": \"io.confluent.kafka.connect.datagen.DatagenConnector\",\n",
    "  \"key.converter\": \"org.apache.kafka.connect.storage.StringConverter\",\n",
    "  \"kafka.topic\": \"stocktrades\",\n",
    "  \"max.interval\": \"100\",\n",
    "  \"quickstart\": \"Stock_Trades\"\n",
    "}\n",
    "```\n"
   ]
  },
  {
   "cell_type": "markdown",
   "id": "8d1de050",
   "metadata": {},
   "source": [
    "## Part 2 - Using Ksql to create at least 2 streams with filtering from topics\n",
    "\n",
    "To begin, you need to create a stream called stocktrades with no filtering in place."
   ]
  },
  {
   "cell_type": "raw",
   "id": "c898fe68",
   "metadata": {},
   "source": [
    "CREATE STREAM STOCKTRADES\n",
    "   (SIDE STRING, QUANTITY INTEGER, SYMBOL STRING, PRICE INTEGER, ACCOUNT STRING, USERID STRING)\n",
    "       WITH (KAFKA_TOPIC='stocktrades', VALUE_FORMAT='AVRO');"
   ]
  },
  {
   "cell_type": "markdown",
   "id": "a3604b63",
   "metadata": {},
   "source": [
    "### Create JSON Stream\n",
    "In order for this to play nicely with spark, we need to mimic the raw stream as a json formatted stream."
   ]
  },
  {
   "cell_type": "raw",
   "id": "87b03be2",
   "metadata": {},
   "source": [
    "CREATE STREAM STOCKTRADES_JSON WITH (KAFKA_TOPIC='STOCKTRADES_JSON', VALUE_FORMAT='JSON') AS SELECT\n",
    "* FROM STOCKTRADES STOCKTRADES\n",
    "EMIT CHANGES;"
   ]
  },
  {
   "cell_type": "markdown",
   "id": "e7d14e13",
   "metadata": {},
   "source": [
    "### Stream 1 - Sell Stream\n",
    "It may be in the interest of the business to view only streams where the stock was sold and not bought. This would be useful in identifying which shares should be taken as a 'short' position"
   ]
  },
  {
   "cell_type": "raw",
   "id": "a7858e25",
   "metadata": {},
   "source": [
    "CREATE STREAM SELL_TRADES WITH (KAFKA_TOPIC='SELL_TRADES', VALUE_FORMAT='JSON') AS SELECT\n",
    "  STOCKTRADES_JSON.QUANTITY QUANTITY,\n",
    "  STOCKTRADES_JSON.SYMBOL SYMBOL,\n",
    "  STOCKTRADES_JSON.PRICE PRICE,\n",
    "  STOCKTRADES_JSON.ACCOUNT ACCOUNT,\n",
    "  STOCKTRADES_JSON.USERID USERID\n",
    "FROM STOCKTRADES_JSON STOCKTRADES_JSON\n",
    "WHERE (STOCKTRADES_JSON.SIDE = 'SELL')\n",
    "EMIT CHANGES;\n"
   ]
  },
  {
   "cell_type": "markdown",
   "id": "17b25513",
   "metadata": {},
   "source": [
    "### Stream 2 - Buy Stream\n",
    "It may also be interesting to the business to see trades that were large buys."
   ]
  },
  {
   "cell_type": "raw",
   "id": "7d90e3f0",
   "metadata": {},
   "source": [
    "CREATE STREAM BUY_TRADES WITH (KAFKA_TOPIC='BUY_TRADES', VALUE_FORMAT='JSON') AS SELECT\n",
    "  STOCKTRADES_JSON.QUANTITY QUANTITY,\n",
    "  STOCKTRADES_JSON.SYMBOL SYMBOL,\n",
    "  STOCKTRADES_JSON.PRICE PRICE,\n",
    "  STOCKTRADES_JSON.ACCOUNT ACCOUNT,\n",
    "  STOCKTRADES_JSON.USERID USERID\n",
    "FROM STOCKTRADES_JSON STOCKTRADES_JSON\n",
    "WHERE (STOCKTRADES_JSON.SIDE = 'BUY')\n",
    "EMIT CHANGES;"
   ]
  },
  {
   "cell_type": "markdown",
   "id": "56e11910",
   "metadata": {},
   "source": [
    "### Table 1 - Aggregated Buy Trades\n"
   ]
  },
  {
   "cell_type": "raw",
   "id": "7aaa05ab",
   "metadata": {},
   "source": [
    "CREATE TABLE AGG_BUY_ORDERS WITH (KAFKA_TOPIC='AGG_BUY_ORDERS', VALUE_FORMAT='JSON') AS SELECT\n",
    "  BUY_TRADES.SYMBOL SYMBOL,\n",
    "  SUM(BUY_TRADES.QUANTITY) QUANTITY_AGG,\n",
    "  AVG(BUY_TRADES.PRICE) PRICE_AVG,\n",
    "  SUM((BUY_TRADES.QUANTITY * BUY_TRADES.PRICE)) VALUE_TRADED\n",
    "FROM BUY_TRADES BUY_TRADES\n",
    "WINDOW TUMBLING ( SIZE 60 SECONDS )\n",
    "GROUP BY BUY_TRADES.SYMBOL\n",
    "EMIT CHANGES;\n"
   ]
  },
  {
   "cell_type": "markdown",
   "id": "c87df041",
   "metadata": {},
   "source": [
    "### Table 2 - Aggregated Sell Trades"
   ]
  },
  {
   "cell_type": "raw",
   "id": "7ab2e600",
   "metadata": {
    "pycharm": {
     "name": "#%% raw\n"
    }
   },
   "source": [
    "CREATE TABLE AGG_SELL_ORDERS WITH (KAFKA_TOPIC='AGG_SELL_ORDERS', VALUE_FORMAT='JSON') AS SELECT\n",
    "  SELL_TRADES.SYMBOL SYMBOL,\n",
    "  SUM(SELL_TRADES.QUANTITY) QUANTITY_AGG,\n",
    "  AVG(SELL_TRADES.PRICE) PRICE_AVG,\n",
    "  SUM((SELL_TRADES.QUANTITY * SELL_TRADES.PRICE)) VALUE_TRADED\n",
    "FROM SELL_TRADES SELL_TRADES\n",
    "WINDOW TUMBLING ( SIZE 60 SECONDS )\n",
    "GROUP BY SELL_TRADES.SYMBOL\n",
    "EMIT CHANGES;"
   ]
  },
  {
   "cell_type": "markdown",
   "id": "f502db1f",
   "metadata": {
    "pycharm": {
     "name": "#%% md\n"
    }
   },
   "source": [
    "## Part 3 - Consume/Transform data with Spark Streaming"
   ]
  },
  {
   "cell_type": "code",
   "execution_count": 1,
   "id": "d000f232",
   "metadata": {},
   "outputs": [],
   "source": [
    "from pyspark.sql import SparkSession\n",
    "from IPython.display import display, clear_output\n",
    "import time\n",
    "from pyspark.sql import functions as F\n",
    "from pyspark.sql.types import StructType,StringType, StructField, IntegerType, FloatType, BinaryType"
   ]
  },
  {
   "cell_type": "code",
   "execution_count": 2,
   "id": "7b008f92",
   "metadata": {},
   "outputs": [],
   "source": [
    "spark = SparkSession.builder \\\n",
    "        .appName('kafka') \\\n",
    "        .getOrCreate()"
   ]
  },
  {
   "cell_type": "code",
   "execution_count": 3,
   "id": "d45101c2",
   "metadata": {
    "pycharm": {
     "name": "#%%\n"
    }
   },
   "outputs": [
    {
     "data": {
      "text/plain": [
       "'3.1.1'"
      ]
     },
     "execution_count": 3,
     "metadata": {},
     "output_type": "execute_result"
    }
   ],
   "source": [
    "spark.version"
   ]
  },
  {
   "cell_type": "code",
   "execution_count": 4,
   "id": "bbb87276",
   "metadata": {},
   "outputs": [
    {
     "data": {
      "text/plain": [
       "'3.2.0'"
      ]
     },
     "execution_count": 4,
     "metadata": {},
     "output_type": "execute_result"
    }
   ],
   "source": [
    "spark._jvm.org.apache.hadoop.util.VersionInfo.getVersion()"
   ]
  },
  {
   "cell_type": "markdown",
   "id": "0ffba524",
   "metadata": {
    "pycharm": {
     "name": "#%% md\n"
    }
   },
   "source": [
    "## Building a Stream\n",
    "The code below just walks through how the stream is built. A streamlined function is built for part 3a"
   ]
  },
  {
   "cell_type": "code",
   "execution_count": 5,
   "id": "36ef89ba",
   "metadata": {},
   "outputs": [],
   "source": [
    "stream_df = spark \\\n",
    "  .readStream \\\n",
    "  .format(\"kafka\") \\\n",
    "  .option(\"kafka.bootstrap.servers\", \"broker:29092\") \\\n",
    "  .option(\"startingOffsets\", \"earliest\") \\\n",
    "  .option(\"subscribe\", \"STOCKTRADES_JSON\") \\\n",
    "  .load()"
   ]
  },
  {
   "cell_type": "code",
   "execution_count": 6,
   "id": "b7f0a0f7",
   "metadata": {},
   "outputs": [
    {
     "name": "stdout",
     "output_type": "stream",
     "text": [
      "root\n",
      " |-- key: binary (nullable = true)\n",
      " |-- value: binary (nullable = true)\n",
      " |-- topic: string (nullable = true)\n",
      " |-- partition: integer (nullable = true)\n",
      " |-- offset: long (nullable = true)\n",
      " |-- timestamp: timestamp (nullable = true)\n",
      " |-- timestampType: integer (nullable = true)\n",
      "\n"
     ]
    }
   ],
   "source": [
    "stream_df.printSchema()"
   ]
  },
  {
   "cell_type": "code",
   "execution_count": 7,
   "id": "7c3974c9",
   "metadata": {},
   "outputs": [],
   "source": [
    "raw_stream = stream_df \\\n",
    "    .writeStream \\\n",
    "    .format(\"memory\") \\\n",
    "    .queryName(\"raw_stocktrades_view\") \\\n",
    "    .start()"
   ]
  },
  {
   "cell_type": "code",
   "execution_count": 10,
   "id": "c67ab829",
   "metadata": {
    "pycharm": {
     "name": "#%%\n"
    }
   },
   "outputs": [
    {
     "name": "stdout",
     "output_type": "stream",
     "text": [
      "+----+--------------------+\n",
      "| key|               value|\n",
      "+----+--------------------+\n",
      "|null|[7B 22 53 49 44 4...|\n",
      "|null|[7B 22 53 49 44 4...|\n",
      "|null|[7B 22 53 49 44 4...|\n",
      "|null|[7B 22 53 49 44 4...|\n",
      "|null|[7B 22 53 49 44 4...|\n",
      "|null|[7B 22 53 49 44 4...|\n",
      "|null|[7B 22 53 49 44 4...|\n",
      "|null|[7B 22 53 49 44 4...|\n",
      "|null|[7B 22 53 49 44 4...|\n",
      "|null|[7B 22 53 49 44 4...|\n",
      "|null|[7B 22 53 49 44 4...|\n",
      "|null|[7B 22 53 49 44 4...|\n",
      "|null|[7B 22 53 49 44 4...|\n",
      "|null|[7B 22 53 49 44 4...|\n",
      "|null|[7B 22 53 49 44 4...|\n",
      "|null|[7B 22 53 49 44 4...|\n",
      "|null|[7B 22 53 49 44 4...|\n",
      "|null|[7B 22 53 49 44 4...|\n",
      "|null|[7B 22 53 49 44 4...|\n",
      "|null|[7B 22 53 49 44 4...|\n",
      "+----+--------------------+\n",
      "only showing top 20 rows\n",
      "\n"
     ]
    },
    {
     "data": {
      "text/plain": [
       "None"
      ]
     },
     "metadata": {},
     "output_type": "display_data"
    }
   ],
   "source": [
    "clear_output(wait=True)\n",
    "display(spark.sql('SELECT key, value FROM raw_stocktrades_view').show(20))\n",
    "time.sleep(1)"
   ]
  },
  {
   "cell_type": "code",
   "execution_count": 11,
   "id": "6c4f7634",
   "metadata": {},
   "outputs": [],
   "source": [
    "raw_stream.stop()"
   ]
  },
  {
   "cell_type": "markdown",
   "id": "6b0a8f2f",
   "metadata": {
    "pycharm": {
     "name": "#%% md\n"
    }
   },
   "source": [
    "### Convert Key Value pairs to strings"
   ]
  },
  {
   "cell_type": "code",
   "execution_count": 12,
   "id": "3eeafd20",
   "metadata": {},
   "outputs": [],
   "source": [
    "string_stream_df = stream_df \\\n",
    "    .withColumn(\"key\", stream_df[\"key\"].cast(StringType())) \\\n",
    "      .withColumn('value', stream_df[\"value\"].cast(StringType()))"
   ]
  },
  {
   "cell_type": "code",
   "execution_count": 13,
   "id": "b6ac7931",
   "metadata": {},
   "outputs": [],
   "source": [
    "string_stream = string_stream_df \\\n",
    "    .writeStream \\\n",
    "    .format(\"memory\") \\\n",
    "    .queryName(\"string_stocktrades_view\") \\\n",
    "    .start()"
   ]
  },
  {
   "cell_type": "code",
   "execution_count": 15,
   "id": "8b016e6a",
   "metadata": {
    "pycharm": {
     "name": "#%%\n"
    }
   },
   "outputs": [
    {
     "name": "stdout",
     "output_type": "stream",
     "text": [
      "+----+--------------------+\n",
      "| key|               value|\n",
      "+----+--------------------+\n",
      "|null|{\"SIDE\":\"BUY\",\"QU...|\n",
      "|null|{\"SIDE\":\"SELL\",\"Q...|\n",
      "|null|{\"SIDE\":\"SELL\",\"Q...|\n",
      "|null|{\"SIDE\":\"BUY\",\"QU...|\n",
      "|null|{\"SIDE\":\"BUY\",\"QU...|\n",
      "|null|{\"SIDE\":\"SELL\",\"Q...|\n",
      "|null|{\"SIDE\":\"BUY\",\"QU...|\n",
      "|null|{\"SIDE\":\"BUY\",\"QU...|\n",
      "|null|{\"SIDE\":\"SELL\",\"Q...|\n",
      "|null|{\"SIDE\":\"SELL\",\"Q...|\n",
      "|null|{\"SIDE\":\"SELL\",\"Q...|\n",
      "|null|{\"SIDE\":\"SELL\",\"Q...|\n",
      "|null|{\"SIDE\":\"SELL\",\"Q...|\n",
      "|null|{\"SIDE\":\"SELL\",\"Q...|\n",
      "|null|{\"SIDE\":\"BUY\",\"QU...|\n",
      "|null|{\"SIDE\":\"BUY\",\"QU...|\n",
      "|null|{\"SIDE\":\"SELL\",\"Q...|\n",
      "|null|{\"SIDE\":\"SELL\",\"Q...|\n",
      "|null|{\"SIDE\":\"SELL\",\"Q...|\n",
      "|null|{\"SIDE\":\"BUY\",\"QU...|\n",
      "+----+--------------------+\n",
      "only showing top 20 rows\n",
      "\n"
     ]
    },
    {
     "data": {
      "text/plain": [
       "None"
      ]
     },
     "metadata": {},
     "output_type": "display_data"
    }
   ],
   "source": [
    "clear_output(wait=True)\n",
    "display(spark.sql('SELECT key, value FROM string_stocktrades_view').show(20))\n",
    "time.sleep(1)"
   ]
  },
  {
   "cell_type": "code",
   "execution_count": 16,
   "id": "cbab928b",
   "metadata": {},
   "outputs": [],
   "source": [
    "string_stream.stop()"
   ]
  },
  {
   "cell_type": "markdown",
   "id": "23feb021",
   "metadata": {
    "pycharm": {
     "name": "#%% md\n"
    }
   },
   "source": [
    "## Transformation"
   ]
  },
  {
   "cell_type": "code",
   "execution_count": 17,
   "id": "9af1f27c",
   "metadata": {},
   "outputs": [],
   "source": [
    "schema_stocktrades =  StructType([\n",
    "        StructField(\"SIDE\", StringType(),  True),\n",
    "        StructField(\"QUANTITY\", IntegerType(),  True),\n",
    "        StructField(\"PRICE\", IntegerType(),  True),\n",
    "        StructField(\"SYMBOL\", StringType(),  True),\n",
    "        StructField(\"ACCOUNT\", StringType(), True),\n",
    "         StructField(\"USERID\", StringType(), True)\n",
    "])"
   ]
  },
  {
   "cell_type": "code",
   "execution_count": 18,
   "id": "0e46c9b3",
   "metadata": {},
   "outputs": [],
   "source": [
    "json_stream_df = string_stream_df\\\n",
    "    .withColumn(\"value\", F.from_json(\"value\", schema_stocktrades))"
   ]
  },
  {
   "cell_type": "code",
   "execution_count": 19,
   "id": "b0f1ad9b",
   "metadata": {},
   "outputs": [
    {
     "name": "stdout",
     "output_type": "stream",
     "text": [
      "root\n",
      " |-- key: string (nullable = true)\n",
      " |-- value: struct (nullable = true)\n",
      " |    |-- SIDE: string (nullable = true)\n",
      " |    |-- QUANTITY: integer (nullable = true)\n",
      " |    |-- PRICE: integer (nullable = true)\n",
      " |    |-- SYMBOL: string (nullable = true)\n",
      " |    |-- ACCOUNT: string (nullable = true)\n",
      " |    |-- USERID: string (nullable = true)\n",
      " |-- topic: string (nullable = true)\n",
      " |-- partition: integer (nullable = true)\n",
      " |-- offset: long (nullable = true)\n",
      " |-- timestamp: timestamp (nullable = true)\n",
      " |-- timestampType: integer (nullable = true)\n",
      "\n"
     ]
    }
   ],
   "source": [
    "json_stream_df.printSchema()"
   ]
  },
  {
   "cell_type": "code",
   "execution_count": 20,
   "id": "51ec2c5d",
   "metadata": {},
   "outputs": [],
   "source": [
    "json_stream = json_stream_df \\\n",
    "    .writeStream \\\n",
    "    .format(\"memory\") \\\n",
    "    .queryName(\"extract_stocktrades_view\") \\\n",
    "    .start()"
   ]
  },
  {
   "cell_type": "code",
   "execution_count": 24,
   "id": "5953a149",
   "metadata": {
    "pycharm": {
     "name": "#%%\n"
    }
   },
   "outputs": [
    {
     "name": "stdout",
     "output_type": "stream",
     "text": [
      "+----+----------------------------------------+----------------+---------+------+-----------------------+-------------+\n",
      "|key |value                                   |topic           |partition|offset|timestamp              |timestampType|\n",
      "+----+----------------------------------------+----------------+---------+------+-----------------------+-------------+\n",
      "|null|{BUY, 1934, 893, ZTEST, ABC123, User_8} |STOCKTRADES_JSON|0        |0     |2021-06-11 00:40:34.802|0            |\n",
      "|null|{SELL, 1401, 379, ZVV, ABC123, User_4}  |STOCKTRADES_JSON|0        |1     |2021-06-11 00:40:34.837|0            |\n",
      "|null|{SELL, 2310, 848, ZJZZT, LMN456, User_6}|STOCKTRADES_JSON|0        |2     |2021-06-11 00:40:34.897|0            |\n",
      "|null|{BUY, 35, 845, ZWZZT, LMN456, User_2}   |STOCKTRADES_JSON|0        |3     |2021-06-11 00:40:34.989|0            |\n",
      "|null|{BUY, 3883, 503, ZBZX, ABC123, User_8}  |STOCKTRADES_JSON|0        |4     |2021-06-11 00:40:35.077|0            |\n",
      "|null|{SELL, 2137, 88, ZWZZT, ABC123, User_5} |STOCKTRADES_JSON|0        |5     |2021-06-11 00:40:35.108|0            |\n",
      "|null|{BUY, 3459, 21, ZBZX, XYZ789, User_6}   |STOCKTRADES_JSON|0        |6     |2021-06-11 00:40:35.138|0            |\n",
      "|null|{BUY, 828, 253, ZBZX, XYZ789, User_5}   |STOCKTRADES_JSON|0        |7     |2021-06-11 00:40:35.206|0            |\n",
      "|null|{SELL, 3058, 791, ZVV, LMN456, User_7}  |STOCKTRADES_JSON|0        |8     |2021-06-11 00:40:35.293|0            |\n",
      "|null|{SELL, 937, 399, ZXZZT, ABC123, User_6} |STOCKTRADES_JSON|0        |9     |2021-06-11 00:40:35.346|0            |\n",
      "|null|{SELL, 1856, 348, ZBZX, LMN456, User_9} |STOCKTRADES_JSON|0        |10    |2021-06-11 00:40:35.374|0            |\n",
      "|null|{SELL, 3680, 168, ZBZX, XYZ789, User_1} |STOCKTRADES_JSON|0        |11    |2021-06-11 00:40:35.459|0            |\n",
      "|null|{SELL, 3488, 920, ZTEST, LMN456, User_6}|STOCKTRADES_JSON|0        |12    |2021-06-11 00:40:35.473|0            |\n",
      "|null|{SELL, 1134, 690, ZBZX, XYZ789, User_9} |STOCKTRADES_JSON|0        |13    |2021-06-11 00:40:35.495|0            |\n",
      "|null|{BUY, 4767, 657, ZWZZT, ABC123, User_9} |STOCKTRADES_JSON|0        |14    |2021-06-11 00:40:35.565|0            |\n",
      "|null|{BUY, 2685, 662, ZWZZT, XYZ789, User_2} |STOCKTRADES_JSON|0        |15    |2021-06-11 00:40:35.57 |0            |\n",
      "|null|{SELL, 4504, 822, ZVZZT, XYZ789, User_7}|STOCKTRADES_JSON|0        |16    |2021-06-11 00:40:35.617|0            |\n",
      "|null|{SELL, 1806, 194, ZTEST, ABC123, User_3}|STOCKTRADES_JSON|0        |17    |2021-06-11 00:40:35.638|0            |\n",
      "|null|{SELL, 4687, 882, ZJZZT, LMN456, User_9}|STOCKTRADES_JSON|0        |18    |2021-06-11 00:40:35.735|0            |\n",
      "|null|{BUY, 4561, 428, ZJZZT, XYZ789, User_9} |STOCKTRADES_JSON|0        |19    |2021-06-11 00:40:35.789|0            |\n",
      "+----+----------------------------------------+----------------+---------+------+-----------------------+-------------+\n",
      "only showing top 20 rows\n",
      "\n"
     ]
    },
    {
     "data": {
      "text/plain": [
       "None"
      ]
     },
     "metadata": {},
     "output_type": "display_data"
    }
   ],
   "source": [
    "clear_output(wait=True)\n",
    "display(spark.sql('SELECT * FROM extract_stocktrades_view').show(20, False))\n",
    "time.sleep(1)"
   ]
  },
  {
   "cell_type": "code",
   "execution_count": 25,
   "id": "3c3c4065",
   "metadata": {},
   "outputs": [],
   "source": [
    "json_stream.stop()"
   ]
  },
  {
   "cell_type": "markdown",
   "id": "51472ac1",
   "metadata": {
    "pycharm": {
     "name": "#%% md\n"
    }
   },
   "source": [
    "### Flatten Data"
   ]
  },
  {
   "cell_type": "code",
   "execution_count": 26,
   "id": "d6ff7dd6",
   "metadata": {},
   "outputs": [],
   "source": [
    "stocktrades_stream_df = json_stream_df \\\n",
    "    .select( \\\n",
    "        F.col(\"key\").alias(\"event_key\"), \\\n",
    "        F.col(\"topic\").alias(\"event_topic\"), \\\n",
    "        F.col(\"timestamp\").alias(\"event_timestamp\"), \\\n",
    "        \"value.side\", \\\n",
    "        \"value.quantity\", \\\n",
    "        \"value.price\", \\\n",
    "        \"value.symbol\", \\\n",
    "        \"value.account\", \\\n",
    "        \"value.userid\"\n",
    "    )"
   ]
  },
  {
   "cell_type": "code",
   "execution_count": 27,
   "id": "45a688e6",
   "metadata": {},
   "outputs": [
    {
     "name": "stdout",
     "output_type": "stream",
     "text": [
      "root\n",
      " |-- event_key: string (nullable = true)\n",
      " |-- event_topic: string (nullable = true)\n",
      " |-- event_timestamp: timestamp (nullable = true)\n",
      " |-- side: string (nullable = true)\n",
      " |-- quantity: integer (nullable = true)\n",
      " |-- price: integer (nullable = true)\n",
      " |-- symbol: string (nullable = true)\n",
      " |-- account: string (nullable = true)\n",
      " |-- userid: string (nullable = true)\n",
      "\n"
     ]
    }
   ],
   "source": [
    "stocktrades_stream_df.printSchema()"
   ]
  },
  {
   "cell_type": "code",
   "execution_count": 28,
   "id": "b106ad82",
   "metadata": {},
   "outputs": [],
   "source": [
    "stocktrades_stream = stocktrades_stream_df \\\n",
    "    .writeStream \\\n",
    "    .format(\"memory\") \\\n",
    "    .queryName(\"stocktrades_view\") \\\n",
    "    .start()"
   ]
  },
  {
   "cell_type": "code",
   "execution_count": 32,
   "id": "a0b87d9f",
   "metadata": {
    "pycharm": {
     "name": "#%%\n"
    }
   },
   "outputs": [
    {
     "name": "stdout",
     "output_type": "stream",
     "text": [
      "+---------+----------------+--------------------+----+--------+-----+------+-------+------+\n",
      "|event_key|     event_topic|     event_timestamp|side|quantity|price|symbol|account|userid|\n",
      "+---------+----------------+--------------------+----+--------+-----+------+-------+------+\n",
      "|     null|STOCKTRADES_JSON|2021-06-11 00:40:...| BUY|    1934|  893| ZTEST| ABC123|User_8|\n",
      "|     null|STOCKTRADES_JSON|2021-06-11 00:40:...|SELL|    1401|  379|   ZVV| ABC123|User_4|\n",
      "|     null|STOCKTRADES_JSON|2021-06-11 00:40:...|SELL|    2310|  848| ZJZZT| LMN456|User_6|\n",
      "|     null|STOCKTRADES_JSON|2021-06-11 00:40:...| BUY|      35|  845| ZWZZT| LMN456|User_2|\n",
      "|     null|STOCKTRADES_JSON|2021-06-11 00:40:...| BUY|    3883|  503|  ZBZX| ABC123|User_8|\n",
      "|     null|STOCKTRADES_JSON|2021-06-11 00:40:...|SELL|    2137|   88| ZWZZT| ABC123|User_5|\n",
      "|     null|STOCKTRADES_JSON|2021-06-11 00:40:...| BUY|    3459|   21|  ZBZX| XYZ789|User_6|\n",
      "|     null|STOCKTRADES_JSON|2021-06-11 00:40:...| BUY|     828|  253|  ZBZX| XYZ789|User_5|\n",
      "|     null|STOCKTRADES_JSON|2021-06-11 00:40:...|SELL|    3058|  791|   ZVV| LMN456|User_7|\n",
      "|     null|STOCKTRADES_JSON|2021-06-11 00:40:...|SELL|     937|  399| ZXZZT| ABC123|User_6|\n",
      "|     null|STOCKTRADES_JSON|2021-06-11 00:40:...|SELL|    1856|  348|  ZBZX| LMN456|User_9|\n",
      "|     null|STOCKTRADES_JSON|2021-06-11 00:40:...|SELL|    3680|  168|  ZBZX| XYZ789|User_1|\n",
      "|     null|STOCKTRADES_JSON|2021-06-11 00:40:...|SELL|    3488|  920| ZTEST| LMN456|User_6|\n",
      "|     null|STOCKTRADES_JSON|2021-06-11 00:40:...|SELL|    1134|  690|  ZBZX| XYZ789|User_9|\n",
      "|     null|STOCKTRADES_JSON|2021-06-11 00:40:...| BUY|    4767|  657| ZWZZT| ABC123|User_9|\n",
      "|     null|STOCKTRADES_JSON|2021-06-11 00:40:...| BUY|    2685|  662| ZWZZT| XYZ789|User_2|\n",
      "|     null|STOCKTRADES_JSON|2021-06-11 00:40:...|SELL|    4504|  822| ZVZZT| XYZ789|User_7|\n",
      "|     null|STOCKTRADES_JSON|2021-06-11 00:40:...|SELL|    1806|  194| ZTEST| ABC123|User_3|\n",
      "|     null|STOCKTRADES_JSON|2021-06-11 00:40:...|SELL|    4687|  882| ZJZZT| LMN456|User_9|\n",
      "|     null|STOCKTRADES_JSON|2021-06-11 00:40:...| BUY|    4561|  428| ZJZZT| XYZ789|User_9|\n",
      "+---------+----------------+--------------------+----+--------+-----+------+-------+------+\n",
      "only showing top 20 rows\n",
      "\n"
     ]
    },
    {
     "data": {
      "text/plain": [
       "None"
      ]
     },
     "metadata": {},
     "output_type": "display_data"
    }
   ],
   "source": [
    "clear_output(wait=True)\n",
    "display(spark.sql('SELECT * FROM stocktrades_view').show(20))\n",
    "time.sleep(1)"
   ]
  },
  {
   "cell_type": "code",
   "execution_count": 33,
   "id": "2b25c044",
   "metadata": {},
   "outputs": [],
   "source": [
    "stocktrades_stream.stop()"
   ]
  },
  {
   "cell_type": "markdown",
   "id": "b0d90559",
   "metadata": {
    "pycharm": {
     "name": "#%% md\n"
    }
   },
   "source": [
    "## Part 3a - Build at least 2 Spark Streaming dataframes\n",
    "This function generates a stream from stocktrades with one line of code so its easier to call in later components"
   ]
  },
  {
   "cell_type": "code",
   "execution_count": 34,
   "id": "597c1c7c",
   "metadata": {
    "collapsed": false,
    "jupyter": {
     "outputs_hidden": false
    },
    "pycharm": {
     "name": "#%%\n"
    }
   },
   "outputs": [],
   "source": [
    "def generate_stocktrades_stream(keep_stream = False):\n",
    "    \n",
    "    # Define the raw Spark Stream\n",
    "    stream_df = spark \\\n",
    "      .readStream \\\n",
    "      .format(\"kafka\") \\\n",
    "      .option(\"kafka.bootstrap.servers\", \"broker:29092\") \\\n",
    "      .option(\"startingOffsets\", \"latest\") \\\n",
    "      .option(\"subscribe\", \"STOCKTRADES_JSON\") \\\n",
    "      .load()\n",
    "    \n",
    "    # Convert to string types for JSON conversion\n",
    "    string_stream_df = stream_df \\\n",
    "        .withColumn(\"key\", stream_df[\"key\"].cast(StringType())) \\\n",
    "        .withColumn('value', stream_df[\"value\"].cast(StringType()))\n",
    "    \n",
    "    # Define the Schema for the end JSON format\n",
    "    schema_stocktrades =  StructType([\n",
    "        StructField(\"SIDE\", StringType(),  True),\n",
    "        StructField(\"QUANTITY\", IntegerType(),  True),\n",
    "        StructField(\"PRICE\", IntegerType(),  True),\n",
    "        StructField(\"SYMBOL\", StringType(),  True),\n",
    "        StructField(\"ACCOUNT\", StringType(), True),\n",
    "        StructField(\"USERID\", StringType(), True)\n",
    "])\n",
    "    # Convert the string type to json format stream\n",
    "    json_stream_df = string_stream_df\\\n",
    "    .withColumn(\"value\", F.from_json(\"value\", schema_stocktrades))\n",
    "    stocktrades_stream_df = json_stream_df \\\n",
    "    .select( \\\n",
    "        F.col(\"key\").alias(\"event_key\"), \\\n",
    "        F.col(\"topic\").alias(\"event_topic\"), \\\n",
    "        F.col(\"timestamp\").alias(\"event_timestamp\"), \\\n",
    "        \"value.side\", \\\n",
    "        \"value.quantity\", \\\n",
    "        \"value.price\", \\\n",
    "        \"value.symbol\", \\\n",
    "        \"value.account\", \\\n",
    "        \"value.userid\"\n",
    "    )\n",
    "    \n",
    "    # Export a queryable view od the stream\n",
    "    \n",
    "    if not keep_stream:\n",
    "        return stocktrades_stream_df \\\n",
    "        .writeStream \\\n",
    "        .format(\"memory\") \\\n",
    "        .queryName(\"stocktrades_view\") \\\n",
    "        .start()\n",
    "    else:\n",
    "        return stocktrades_stream_df \\\n",
    "        .writeStream \\\n",
    "        .format(\"memory\") \\\n",
    "        .queryName(\"stocktrades_view\") \\\n",
    "        .start(), stocktrades_stream_df"
   ]
  },
  {
   "cell_type": "code",
   "execution_count": 35,
   "id": "4d914961",
   "metadata": {},
   "outputs": [],
   "source": [
    "stocktrades_stream = generate_stocktrades_stream()"
   ]
  },
  {
   "cell_type": "code",
   "execution_count": 36,
   "id": "45748092",
   "metadata": {},
   "outputs": [
    {
     "name": "stdout",
     "output_type": "stream",
     "text": [
      "+---------+----------------+--------------------+----+--------+-----+------+-------+------+\n",
      "|event_key|     event_topic|     event_timestamp|side|quantity|price|symbol|account|userid|\n",
      "+---------+----------------+--------------------+----+--------+-----+------+-------+------+\n",
      "|     null|STOCKTRADES_JSON|2021-06-11 01:53:...|SELL|    3942|  526| ZWZZT| ABC123|User_3|\n",
      "|     null|STOCKTRADES_JSON|2021-06-11 01:53:...| BUY|    1798|  760| ZWZZT| ABC123|User_7|\n",
      "|     null|STOCKTRADES_JSON|2021-06-11 01:53:...|SELL|    2206|  710| ZWZZT| ABC123|User_1|\n",
      "|     null|STOCKTRADES_JSON|2021-06-11 01:53:...| BUY|     853|  837| ZWZZT| ABC123|User_5|\n",
      "|     null|STOCKTRADES_JSON|2021-06-11 01:53:...|SELL|     259|  855| ZXZZT| XYZ789|User_1|\n",
      "|     null|STOCKTRADES_JSON|2021-06-11 01:53:...| BUY|     427|  193| ZJZZT| ABC123|User_4|\n",
      "|     null|STOCKTRADES_JSON|2021-06-11 01:53:...| BUY|    2598|  376| ZJZZT| ABC123|User_3|\n",
      "|     null|STOCKTRADES_JSON|2021-06-11 01:53:...|SELL|    2925|  265|   ZVV| LMN456|User_3|\n",
      "|     null|STOCKTRADES_JSON|2021-06-11 01:53:...| BUY|    2928|  310|   ZVV| XYZ789|User_3|\n",
      "|     null|STOCKTRADES_JSON|2021-06-11 01:53:...|SELL|    4454|  337|   ZVV| ABC123|User_6|\n",
      "|     null|STOCKTRADES_JSON|2021-06-11 01:53:...| BUY|    1808|  178| ZWZZT| XYZ789|User_8|\n",
      "|     null|STOCKTRADES_JSON|2021-06-11 01:53:...| BUY|     354|  373|  ZBZX| LMN456|User_3|\n",
      "|     null|STOCKTRADES_JSON|2021-06-11 01:53:...| BUY|    4757|  483| ZXZZT| XYZ789|User_8|\n",
      "|     null|STOCKTRADES_JSON|2021-06-11 01:53:...| BUY|    4040|  564|   ZVV| ABC123|User_1|\n",
      "|     null|STOCKTRADES_JSON|2021-06-11 01:53:...|SELL|    2272|  277| ZVZZT| ABC123|User_3|\n",
      "|     null|STOCKTRADES_JSON|2021-06-11 01:53:...|SELL|    2362|  400| ZTEST| LMN456|User_1|\n",
      "|     null|STOCKTRADES_JSON|2021-06-11 01:53:...|SELL|    4052|  361| ZWZZT| XYZ789|User_6|\n",
      "|     null|STOCKTRADES_JSON|2021-06-11 01:53:...|SELL|    1998|  915| ZXZZT| XYZ789|User_7|\n",
      "+---------+----------------+--------------------+----+--------+-----+------+-------+------+\n",
      "\n"
     ]
    },
    {
     "data": {
      "text/plain": [
       "None"
      ]
     },
     "metadata": {},
     "output_type": "display_data"
    }
   ],
   "source": [
    "clear_output(wait=True)\n",
    "display(spark.sql('SELECT * FROM stocktrades_view').show(20))\n",
    "time.sleep(1)"
   ]
  },
  {
   "cell_type": "code",
   "execution_count": 37,
   "id": "9b795d3f",
   "metadata": {},
   "outputs": [],
   "source": [
    "stocktrades_stream.stop()"
   ]
  },
  {
   "cell_type": "markdown",
   "id": "e1cd4411",
   "metadata": {},
   "source": [
    "### Second Query"
   ]
  },
  {
   "cell_type": "code",
   "execution_count": 38,
   "id": "426273e3",
   "metadata": {},
   "outputs": [],
   "source": [
    "# Create function to stream filtered streams from Kafka as streaming dataframes\n",
    "def generate_side_stream(SIDE):\n",
    "    \n",
    "    # Create string for source\n",
    "    source_stream = SIDE + \"_TRADES\"\n",
    "    # Define the raw Spark Stream\n",
    "    \n",
    "    stream_df = spark \\\n",
    "      .readStream \\\n",
    "      .format(\"kafka\") \\\n",
    "      .option(\"kafka.bootstrap.servers\", \"broker:29092\") \\\n",
    "      .option(\"startingOffsets\", \"latest\") \\\n",
    "      .option(\"subscribe\", source_stream) \\\n",
    "      .load()\n",
    "    \n",
    "    # Convert to string types for JSON conversion\n",
    "    string_stream_df = stream_df \\\n",
    "        .withColumn(\"key\", stream_df[\"key\"].cast(StringType())) \\\n",
    "        .withColumn('value', stream_df[\"value\"].cast(StringType()))\n",
    "    \n",
    "    # Define the Schema for the end JSON format\n",
    "    schema_stocktrades =  StructType([\n",
    "        StructField(\"QUANTITY\", IntegerType(),  True),\n",
    "        StructField(\"PRICE\", IntegerType(),  True),\n",
    "        StructField(\"SYMBOL\", StringType(),  True),\n",
    "        StructField(\"ACCOUNT\", StringType(), True),\n",
    "        StructField(\"USERID\", StringType(), True)\n",
    "])\n",
    "    # Convert the string type to json format stream\n",
    "    json_stream_df = string_stream_df\\\n",
    "    .withColumn(\"value\", F.from_json(\"value\", schema_stocktrades))\n",
    "    stocktrades_stream_df = json_stream_df \\\n",
    "    .select( \\\n",
    "        F.col(\"key\").alias(\"event_key\"), \\\n",
    "        F.col(\"topic\").alias(\"event_topic\"), \\\n",
    "        F.col(\"timestamp\").alias(\"event_timestamp\"), \\\n",
    "        \"value.quantity\", \\\n",
    "        \"value.price\", \\\n",
    "        \"value.symbol\", \\\n",
    "        \"value.account\", \\\n",
    "        \"value.userid\"\n",
    "    )\n",
    "    \n",
    "    # Export a queryable view od the stream\n",
    "    return stocktrades_stream_df \\\n",
    "    .writeStream \\\n",
    "    .format(\"memory\") \\\n",
    "    .queryName(SIDE + '_view') \\\n",
    "    .start()"
   ]
  },
  {
   "cell_type": "code",
   "execution_count": 39,
   "id": "ede81e9f",
   "metadata": {},
   "outputs": [],
   "source": [
    "# Create views of the buy and sell streams\n",
    "BUY_stream = generate_side_stream('BUY')\n",
    "SELL_stream = generate_side_stream('SELL')"
   ]
  },
  {
   "cell_type": "code",
   "execution_count": 40,
   "id": "bf631448",
   "metadata": {},
   "outputs": [
    {
     "name": "stdout",
     "output_type": "stream",
     "text": [
      "+---------+-----------+--------------------+--------+-----+------+-------+------+\n",
      "|event_key|event_topic|     event_timestamp|quantity|price|symbol|account|userid|\n",
      "+---------+-----------+--------------------+--------+-----+------+-------+------+\n",
      "|     null| BUY_TRADES|2021-06-11 01:53:...|    3940|  150|   ZVV| ABC123|User_5|\n",
      "|     null| BUY_TRADES|2021-06-11 01:53:...|    4306|  258|  ZBZX| ABC123|User_8|\n",
      "+---------+-----------+--------------------+--------+-----+------+-------+------+\n",
      "\n"
     ]
    },
    {
     "data": {
      "text/plain": [
       "None"
      ]
     },
     "metadata": {},
     "output_type": "display_data"
    }
   ],
   "source": [
    "# Show results (limit 20) of stream\n",
    "clear_output(wait=True)\n",
    "display(spark.sql('SELECT * FROM BUY_view').show(20))\n",
    "time.sleep(1)"
   ]
  },
  {
   "cell_type": "code",
   "execution_count": 41,
   "id": "818a4079",
   "metadata": {},
   "outputs": [
    {
     "name": "stdout",
     "output_type": "stream",
     "text": [
      "+---------+-----------+--------------------+--------+-----+------+-------+------+\n",
      "|event_key|event_topic|     event_timestamp|quantity|price|symbol|account|userid|\n",
      "+---------+-----------+--------------------+--------+-----+------+-------+------+\n",
      "|     null|SELL_TRADES|2021-06-11 01:53:...|    2921|  803| ZXZZT| ABC123|User_2|\n",
      "|     null|SELL_TRADES|2021-06-11 01:53:...|    4571|  218| ZVZZT| XYZ789|User_7|\n",
      "|     null|SELL_TRADES|2021-06-11 01:53:...|     403|  584| ZXZZT| LMN456|User_3|\n",
      "|     null|SELL_TRADES|2021-06-11 01:53:...|    4932|  382| ZWZZT| XYZ789|User_1|\n",
      "|     null|SELL_TRADES|2021-06-11 01:53:...|    4435|  877|  ZBZX| ABC123|User_1|\n",
      "|     null|SELL_TRADES|2021-06-11 01:53:...|     328|  401|   ZVV| LMN456|User_8|\n",
      "|     null|SELL_TRADES|2021-06-11 01:53:...|    1982|  645| ZXZZT| LMN456|User_2|\n",
      "|     null|SELL_TRADES|2021-06-11 01:53:...|    4497|  254| ZXZZT| LMN456|User_5|\n",
      "|     null|SELL_TRADES|2021-06-11 01:53:...|    2290|  920|   ZVV| XYZ789|User_7|\n",
      "|     null|SELL_TRADES|2021-06-11 01:53:...|    2447|  132|  ZBZX| ABC123|User_8|\n",
      "|     null|SELL_TRADES|2021-06-11 01:53:...|    2990|   95| ZTEST| LMN456|User_6|\n",
      "|     null|SELL_TRADES|2021-06-11 01:53:...|    4835|  635| ZTEST| LMN456|User_8|\n",
      "|     null|SELL_TRADES|2021-06-11 01:53:...|    1078|  813|  ZBZX| ABC123|User_6|\n",
      "|     null|SELL_TRADES|2021-06-11 01:53:...|    2684|  308| ZWZZT| ABC123|User_2|\n",
      "|     null|SELL_TRADES|2021-06-11 01:53:...|    3901|  809| ZVZZT| LMN456|User_4|\n",
      "+---------+-----------+--------------------+--------+-----+------+-------+------+\n",
      "\n"
     ]
    },
    {
     "data": {
      "text/plain": [
       "None"
      ]
     },
     "metadata": {},
     "output_type": "display_data"
    }
   ],
   "source": [
    "# Show results (limit 20) of stream\n",
    "clear_output(wait=True)\n",
    "display(spark.sql('SELECT * FROM SELL_view').show(20))\n",
    "time.sleep(1)"
   ]
  },
  {
   "cell_type": "code",
   "execution_count": 42,
   "id": "2a8948da",
   "metadata": {},
   "outputs": [],
   "source": [
    "# Stop the two streams\n",
    "BUY_stream.stop()\n",
    "SELL_stream.stop()"
   ]
  },
  {
   "cell_type": "markdown",
   "id": "5b175d0d",
   "metadata": {},
   "source": [
    "## Part 3b - Build 1 window stream with a watermark"
   ]
  },
  {
   "cell_type": "code",
   "execution_count": 43,
   "id": "74bbca5a",
   "metadata": {},
   "outputs": [],
   "source": [
    "# Restart the raw data data frame\n",
    "raw_stream, raw_stream_df = generate_stocktrades_stream(True)\n",
    "\n",
    "# Create parameters for the window stream\n",
    "window_duration = '60 seconds'\n",
    "slide_duration = '10 seconds'\n",
    "time.sleep(10)"
   ]
  },
  {
   "cell_type": "code",
   "execution_count": 44,
   "id": "4e452b09",
   "metadata": {},
   "outputs": [],
   "source": [
    "# Create the windowed stream (this groups by symbol and then counts the numbers of trades in the window, quantity of shares traded and the average price traded)\n",
    "windowed_agg_df = raw_stream_df \\\n",
    "    .withWatermark('event_timestamp', '1 minutes') \\\n",
    "    .groupBy(F.window(raw_stream_df.event_timestamp, window_duration, slide_duration), raw_stream_df.symbol) \\\n",
    "    .agg(F.count('SYMBOL').alias('no_trades'), \\\n",
    "    F.sum('QUANTITY').alias('tot_quantity'), \\\n",
    "    F.avg('PRICE').alias('avg_price') \\\n",
    "     )"
   ]
  },
  {
   "cell_type": "code",
   "execution_count": 45,
   "id": "6655ded3",
   "metadata": {},
   "outputs": [],
   "source": [
    "# Export the stream as a qeuryable view\n",
    "windowed_agg_stream = windowed_agg_df \\\n",
    "                        .writeStream \\\n",
    "                        .format(\"memory\") \\\n",
    "                        .outputMode(\"Complete\") \\\n",
    "                        .queryName(\"windowed_view\") \\\n",
    "                        .start()"
   ]
  },
  {
   "cell_type": "code",
   "execution_count": 47,
   "id": "39096ec8",
   "metadata": {},
   "outputs": [
    {
     "ename": "KeyboardInterrupt",
     "evalue": "",
     "output_type": "error",
     "traceback": [
      "\u001b[0;31m---------------------------------------------------------------------------\u001b[0m",
      "\u001b[0;31mKeyboardInterrupt\u001b[0m                         Traceback (most recent call last)",
      "\u001b[0;32m<ipython-input-47-cd5815aa00a3>\u001b[0m in \u001b[0;36m<module>\u001b[0;34m\u001b[0m\n\u001b[1;32m      1\u001b[0m \u001b[0;32mwhile\u001b[0m \u001b[0;32mTrue\u001b[0m\u001b[0;34m:\u001b[0m\u001b[0;34m\u001b[0m\u001b[0;34m\u001b[0m\u001b[0m\n\u001b[1;32m      2\u001b[0m     \u001b[0mclear_output\u001b[0m\u001b[0;34m(\u001b[0m\u001b[0mwait\u001b[0m\u001b[0;34m=\u001b[0m\u001b[0;32mTrue\u001b[0m\u001b[0;34m)\u001b[0m\u001b[0;34m\u001b[0m\u001b[0;34m\u001b[0m\u001b[0m\n\u001b[0;32m----> 3\u001b[0;31m     \u001b[0mdisplay\u001b[0m\u001b[0;34m(\u001b[0m\u001b[0mspark\u001b[0m\u001b[0;34m.\u001b[0m\u001b[0msql\u001b[0m\u001b[0;34m(\u001b[0m\u001b[0;34m'SELECT * FROM windowed_view'\u001b[0m\u001b[0;34m)\u001b[0m\u001b[0;34m.\u001b[0m\u001b[0mshow\u001b[0m\u001b[0;34m(\u001b[0m\u001b[0;34m)\u001b[0m\u001b[0;34m)\u001b[0m\u001b[0;34m\u001b[0m\u001b[0;34m\u001b[0m\u001b[0m\n\u001b[0m\u001b[1;32m      4\u001b[0m     \u001b[0mtime\u001b[0m\u001b[0;34m.\u001b[0m\u001b[0msleep\u001b[0m\u001b[0;34m(\u001b[0m\u001b[0;36m1\u001b[0m\u001b[0;34m)\u001b[0m\u001b[0;34m\u001b[0m\u001b[0;34m\u001b[0m\u001b[0m\n",
      "\u001b[0;32m/usr/local/spark/python/pyspark/sql/dataframe.py\u001b[0m in \u001b[0;36mshow\u001b[0;34m(self, n, truncate, vertical)\u001b[0m\n\u001b[1;32m    482\u001b[0m         \"\"\"\n\u001b[1;32m    483\u001b[0m         \u001b[0;32mif\u001b[0m \u001b[0misinstance\u001b[0m\u001b[0;34m(\u001b[0m\u001b[0mtruncate\u001b[0m\u001b[0;34m,\u001b[0m \u001b[0mbool\u001b[0m\u001b[0;34m)\u001b[0m \u001b[0;32mand\u001b[0m \u001b[0mtruncate\u001b[0m\u001b[0;34m:\u001b[0m\u001b[0;34m\u001b[0m\u001b[0;34m\u001b[0m\u001b[0m\n\u001b[0;32m--> 484\u001b[0;31m             \u001b[0mprint\u001b[0m\u001b[0;34m(\u001b[0m\u001b[0mself\u001b[0m\u001b[0;34m.\u001b[0m\u001b[0m_jdf\u001b[0m\u001b[0;34m.\u001b[0m\u001b[0mshowString\u001b[0m\u001b[0;34m(\u001b[0m\u001b[0mn\u001b[0m\u001b[0;34m,\u001b[0m \u001b[0;36m20\u001b[0m\u001b[0;34m,\u001b[0m \u001b[0mvertical\u001b[0m\u001b[0;34m)\u001b[0m\u001b[0;34m)\u001b[0m\u001b[0;34m\u001b[0m\u001b[0;34m\u001b[0m\u001b[0m\n\u001b[0m\u001b[1;32m    485\u001b[0m         \u001b[0;32melse\u001b[0m\u001b[0;34m:\u001b[0m\u001b[0;34m\u001b[0m\u001b[0;34m\u001b[0m\u001b[0m\n\u001b[1;32m    486\u001b[0m             \u001b[0mprint\u001b[0m\u001b[0;34m(\u001b[0m\u001b[0mself\u001b[0m\u001b[0;34m.\u001b[0m\u001b[0m_jdf\u001b[0m\u001b[0;34m.\u001b[0m\u001b[0mshowString\u001b[0m\u001b[0;34m(\u001b[0m\u001b[0mn\u001b[0m\u001b[0;34m,\u001b[0m \u001b[0mint\u001b[0m\u001b[0;34m(\u001b[0m\u001b[0mtruncate\u001b[0m\u001b[0;34m)\u001b[0m\u001b[0;34m,\u001b[0m \u001b[0mvertical\u001b[0m\u001b[0;34m)\u001b[0m\u001b[0;34m)\u001b[0m\u001b[0;34m\u001b[0m\u001b[0;34m\u001b[0m\u001b[0m\n",
      "\u001b[0;32m/usr/local/spark/python/lib/py4j-0.10.9-src.zip/py4j/java_gateway.py\u001b[0m in \u001b[0;36m__call__\u001b[0;34m(self, *args)\u001b[0m\n\u001b[1;32m   1301\u001b[0m             \u001b[0mproto\u001b[0m\u001b[0;34m.\u001b[0m\u001b[0mEND_COMMAND_PART\u001b[0m\u001b[0;34m\u001b[0m\u001b[0;34m\u001b[0m\u001b[0m\n\u001b[1;32m   1302\u001b[0m \u001b[0;34m\u001b[0m\u001b[0m\n\u001b[0;32m-> 1303\u001b[0;31m         \u001b[0manswer\u001b[0m \u001b[0;34m=\u001b[0m \u001b[0mself\u001b[0m\u001b[0;34m.\u001b[0m\u001b[0mgateway_client\u001b[0m\u001b[0;34m.\u001b[0m\u001b[0msend_command\u001b[0m\u001b[0;34m(\u001b[0m\u001b[0mcommand\u001b[0m\u001b[0;34m)\u001b[0m\u001b[0;34m\u001b[0m\u001b[0;34m\u001b[0m\u001b[0m\n\u001b[0m\u001b[1;32m   1304\u001b[0m         return_value = get_return_value(\n\u001b[1;32m   1305\u001b[0m             answer, self.gateway_client, self.target_id, self.name)\n",
      "\u001b[0;32m/usr/local/spark/python/lib/py4j-0.10.9-src.zip/py4j/java_gateway.py\u001b[0m in \u001b[0;36msend_command\u001b[0;34m(self, command, retry, binary)\u001b[0m\n\u001b[1;32m   1031\u001b[0m         \u001b[0mconnection\u001b[0m \u001b[0;34m=\u001b[0m \u001b[0mself\u001b[0m\u001b[0;34m.\u001b[0m\u001b[0m_get_connection\u001b[0m\u001b[0;34m(\u001b[0m\u001b[0;34m)\u001b[0m\u001b[0;34m\u001b[0m\u001b[0;34m\u001b[0m\u001b[0m\n\u001b[1;32m   1032\u001b[0m         \u001b[0;32mtry\u001b[0m\u001b[0;34m:\u001b[0m\u001b[0;34m\u001b[0m\u001b[0;34m\u001b[0m\u001b[0m\n\u001b[0;32m-> 1033\u001b[0;31m             \u001b[0mresponse\u001b[0m \u001b[0;34m=\u001b[0m \u001b[0mconnection\u001b[0m\u001b[0;34m.\u001b[0m\u001b[0msend_command\u001b[0m\u001b[0;34m(\u001b[0m\u001b[0mcommand\u001b[0m\u001b[0;34m)\u001b[0m\u001b[0;34m\u001b[0m\u001b[0;34m\u001b[0m\u001b[0m\n\u001b[0m\u001b[1;32m   1034\u001b[0m             \u001b[0;32mif\u001b[0m \u001b[0mbinary\u001b[0m\u001b[0;34m:\u001b[0m\u001b[0;34m\u001b[0m\u001b[0;34m\u001b[0m\u001b[0m\n\u001b[1;32m   1035\u001b[0m                 \u001b[0;32mreturn\u001b[0m \u001b[0mresponse\u001b[0m\u001b[0;34m,\u001b[0m \u001b[0mself\u001b[0m\u001b[0;34m.\u001b[0m\u001b[0m_create_connection_guard\u001b[0m\u001b[0;34m(\u001b[0m\u001b[0mconnection\u001b[0m\u001b[0;34m)\u001b[0m\u001b[0;34m\u001b[0m\u001b[0;34m\u001b[0m\u001b[0m\n",
      "\u001b[0;32m/usr/local/spark/python/lib/py4j-0.10.9-src.zip/py4j/java_gateway.py\u001b[0m in \u001b[0;36msend_command\u001b[0;34m(self, command)\u001b[0m\n\u001b[1;32m   1198\u001b[0m \u001b[0;34m\u001b[0m\u001b[0m\n\u001b[1;32m   1199\u001b[0m         \u001b[0;32mtry\u001b[0m\u001b[0;34m:\u001b[0m\u001b[0;34m\u001b[0m\u001b[0;34m\u001b[0m\u001b[0m\n\u001b[0;32m-> 1200\u001b[0;31m             \u001b[0manswer\u001b[0m \u001b[0;34m=\u001b[0m \u001b[0msmart_decode\u001b[0m\u001b[0;34m(\u001b[0m\u001b[0mself\u001b[0m\u001b[0;34m.\u001b[0m\u001b[0mstream\u001b[0m\u001b[0;34m.\u001b[0m\u001b[0mreadline\u001b[0m\u001b[0;34m(\u001b[0m\u001b[0;34m)\u001b[0m\u001b[0;34m[\u001b[0m\u001b[0;34m:\u001b[0m\u001b[0;34m-\u001b[0m\u001b[0;36m1\u001b[0m\u001b[0;34m]\u001b[0m\u001b[0;34m)\u001b[0m\u001b[0;34m\u001b[0m\u001b[0;34m\u001b[0m\u001b[0m\n\u001b[0m\u001b[1;32m   1201\u001b[0m             \u001b[0mlogger\u001b[0m\u001b[0;34m.\u001b[0m\u001b[0mdebug\u001b[0m\u001b[0;34m(\u001b[0m\u001b[0;34m\"Answer received: {0}\"\u001b[0m\u001b[0;34m.\u001b[0m\u001b[0mformat\u001b[0m\u001b[0;34m(\u001b[0m\u001b[0manswer\u001b[0m\u001b[0;34m)\u001b[0m\u001b[0;34m)\u001b[0m\u001b[0;34m\u001b[0m\u001b[0;34m\u001b[0m\u001b[0m\n\u001b[1;32m   1202\u001b[0m             \u001b[0;32mif\u001b[0m \u001b[0manswer\u001b[0m\u001b[0;34m.\u001b[0m\u001b[0mstartswith\u001b[0m\u001b[0;34m(\u001b[0m\u001b[0mproto\u001b[0m\u001b[0;34m.\u001b[0m\u001b[0mRETURN_MESSAGE\u001b[0m\u001b[0;34m)\u001b[0m\u001b[0;34m:\u001b[0m\u001b[0;34m\u001b[0m\u001b[0;34m\u001b[0m\u001b[0m\n",
      "\u001b[0;32m/opt/conda/lib/python3.8/socket.py\u001b[0m in \u001b[0;36mreadinto\u001b[0;34m(self, b)\u001b[0m\n\u001b[1;32m    667\u001b[0m         \u001b[0;32mwhile\u001b[0m \u001b[0;32mTrue\u001b[0m\u001b[0;34m:\u001b[0m\u001b[0;34m\u001b[0m\u001b[0;34m\u001b[0m\u001b[0m\n\u001b[1;32m    668\u001b[0m             \u001b[0;32mtry\u001b[0m\u001b[0;34m:\u001b[0m\u001b[0;34m\u001b[0m\u001b[0;34m\u001b[0m\u001b[0m\n\u001b[0;32m--> 669\u001b[0;31m                 \u001b[0;32mreturn\u001b[0m \u001b[0mself\u001b[0m\u001b[0;34m.\u001b[0m\u001b[0m_sock\u001b[0m\u001b[0;34m.\u001b[0m\u001b[0mrecv_into\u001b[0m\u001b[0;34m(\u001b[0m\u001b[0mb\u001b[0m\u001b[0;34m)\u001b[0m\u001b[0;34m\u001b[0m\u001b[0;34m\u001b[0m\u001b[0m\n\u001b[0m\u001b[1;32m    670\u001b[0m             \u001b[0;32mexcept\u001b[0m \u001b[0mtimeout\u001b[0m\u001b[0;34m:\u001b[0m\u001b[0;34m\u001b[0m\u001b[0;34m\u001b[0m\u001b[0m\n\u001b[1;32m    671\u001b[0m                 \u001b[0mself\u001b[0m\u001b[0;34m.\u001b[0m\u001b[0m_timeout_occurred\u001b[0m \u001b[0;34m=\u001b[0m \u001b[0;32mTrue\u001b[0m\u001b[0;34m\u001b[0m\u001b[0;34m\u001b[0m\u001b[0m\n",
      "\u001b[0;31mKeyboardInterrupt\u001b[0m: "
     ]
    }
   ],
   "source": [
    "while True:\n",
    "    clear_output(wait=True)\n",
    "    display(spark.sql('SELECT * FROM windowed_view').show())\n",
    "    time.sleep(1)"
   ]
  },
  {
   "cell_type": "code",
   "execution_count": 48,
   "id": "b67bd22b",
   "metadata": {},
   "outputs": [],
   "source": [
    "raw_stream.stop()"
   ]
  },
  {
   "cell_type": "code",
   "execution_count": 65,
   "id": "1ea36b50",
   "metadata": {},
   "outputs": [],
   "source": [
    "windowed_agg_stream.stop()"
   ]
  },
  {
   "cell_type": "markdown",
   "id": "bfee6182",
   "metadata": {},
   "source": [
    "## Part 3c - Build at least 1 spark query"
   ]
  },
  {
   "cell_type": "code",
   "execution_count": null,
   "id": "574dbc3e",
   "metadata": {},
   "outputs": [],
   "source": [
    "stocktrade_stream_df = generate_stocktrades_stream()"
   ]
  },
  {
   "cell_type": "code",
   "execution_count": null,
   "id": "abca590c",
   "metadata": {},
   "outputs": [],
   "source": [
    "query = \"select * from stocktrades_view WHERE price > 800\""
   ]
  },
  {
   "cell_type": "code",
   "execution_count": null,
   "id": "b15e2893",
   "metadata": {},
   "outputs": [],
   "source": [
    "# Show results (limit 20) of stream\n",
    "clear_output(wait=True)\n",
    "= spark.sql('SELECT * FROM BUY_view')\n",
    "time.sleep(1)"
   ]
  },
  {
   "cell_type": "markdown",
   "id": "36197be4",
   "metadata": {},
   "source": [
    "## Part 3d - Export your spark queries into parquetsstocktrade_stream"
   ]
  },
  {
   "cell_type": "code",
   "execution_count": 6,
   "id": "aeceacfc",
   "metadata": {},
   "outputs": [],
   "source": [
    "stocktrade_stream_df = generate_stocktrades_stream()\n"
   ]
  },
  {
   "cell_type": "code",
   "execution_count": 7,
   "id": "0e6de93e",
   "metadata": {},
   "outputs": [
    {
     "ename": "AttributeError",
     "evalue": "'StreamingQuery' object has no attribute 'writeStream'",
     "output_type": "error",
     "traceback": [
      "\u001b[0;31m---------------------------------------------------------------------------\u001b[0m",
      "\u001b[0;31mAttributeError\u001b[0m                            Traceback (most recent call last)",
      "\u001b[0;32m<ipython-input-7-e7ab5c12e503>\u001b[0m in \u001b[0;36m<module>\u001b[0;34m\u001b[0m\n\u001b[0;32m----> 1\u001b[0;31m \u001b[0mstocktrade_stream_df\u001b[0m\u001b[0;34m.\u001b[0m\u001b[0mwriteStream\u001b[0m\u001b[0;31m \u001b[0m\u001b[0;31m\\\u001b[0m\u001b[0;34m\u001b[0m\u001b[0;34m\u001b[0m\u001b[0m\n\u001b[0m\u001b[1;32m      2\u001b[0m     \u001b[0;34m.\u001b[0m\u001b[0mformat\u001b[0m\u001b[0;34m(\u001b[0m\u001b[0;34m\"parquet\"\u001b[0m\u001b[0;34m)\u001b[0m\u001b[0;31m \u001b[0m\u001b[0;31m\\\u001b[0m\u001b[0;34m\u001b[0m\u001b[0;34m\u001b[0m\u001b[0m\n\u001b[1;32m      3\u001b[0m     \u001b[0;34m.\u001b[0m\u001b[0moption\u001b[0m\u001b[0;34m(\u001b[0m\u001b[0;34m\"header\"\u001b[0m\u001b[0;34m,\u001b[0m \u001b[0;32mTrue\u001b[0m\u001b[0;34m)\u001b[0m\u001b[0;31m \u001b[0m\u001b[0;31m\\\u001b[0m\u001b[0;34m\u001b[0m\u001b[0;34m\u001b[0m\u001b[0m\n\u001b[1;32m      4\u001b[0m     \u001b[0;34m.\u001b[0m\u001b[0moption\u001b[0m\u001b[0;34m(\u001b[0m\u001b[0;34m\"path\"\u001b[0m\u001b[0;34m,\u001b[0m \u001b[0;34m\"big_data_eng/bde_lab_8/\"\u001b[0m\u001b[0;34m)\u001b[0m\u001b[0;31m \u001b[0m\u001b[0;31m\\\u001b[0m\u001b[0;34m\u001b[0m\u001b[0;34m\u001b[0m\u001b[0m\n\u001b[1;32m      5\u001b[0m     \u001b[0;34m.\u001b[0m\u001b[0moption\u001b[0m\u001b[0;34m(\u001b[0m\u001b[0;34m\"checkpointLocation\"\u001b[0m\u001b[0;34m,\u001b[0m \u001b[0;34m\"checkpoint/data\"\u001b[0m\u001b[0;34m)\u001b[0m\u001b[0;31m \u001b[0m\u001b[0;31m\\\u001b[0m\u001b[0;34m\u001b[0m\u001b[0;34m\u001b[0m\u001b[0m\n",
      "\u001b[0;31mAttributeError\u001b[0m: 'StreamingQuery' object has no attribute 'writeStream'"
     ]
    }
   ],
   "source": [
    "stocktrade_stream_df.writeStream \\\n",
    "    .format(\"parquet\") \\\n",
    "    .option(\"header\", True) \\\n",
    "    .option(\"path\", \"big_data_eng/bde_lab_8/\") \\\n",
    "    .option(\"checkpointLocation\", \"checkpoint/data\") \\\n",
    "    .outputMode(\"append\") \\\n",
    "    .start()"
   ]
  },
  {
   "cell_type": "code",
   "execution_count": 19,
   "id": "a0046851",
   "metadata": {},
   "outputs": [],
   "source": [
    "stocktrade_stream_df.stop()"
   ]
  },
  {
   "cell_type": "markdown",
   "id": "4411bd01",
   "metadata": {},
   "source": [
    "## Part 3e - build at least 1 visualisation which will be refreshed at regular interval"
   ]
  },
  {
   "cell_type": "code",
   "execution_count": 109,
   "id": "e3be07aa",
   "metadata": {},
   "outputs": [],
   "source": [
    "import matplotlib.pyplot as plt\n"
   ]
  },
  {
   "cell_type": "code",
   "execution_count": 119,
   "id": "f572bb6f",
   "metadata": {},
   "outputs": [],
   "source": [
    "BUY_stream = generate_side_stream('BUY')"
   ]
  },
  {
   "cell_type": "code",
   "execution_count": 120,
   "id": "ab1e8701",
   "metadata": {},
   "outputs": [
    {
     "data": {
      "image/png": "[encoded data removed]",
      "text/plain": [
       "<Figure size 432x288 with 1 Axes>"
      ]
     },
     "metadata": {
      "needs_background": "light"
     },
     "output_type": "display_data"
    },
    {
     "ename": "KeyboardInterrupt",
     "evalue": "",
     "output_type": "error",
     "traceback": [
      "\u001b[0;31m---------------------------------------------------------------------------\u001b[0m",
      "\u001b[0;31mKeyboardInterrupt\u001b[0m                         Traceback (most recent call last)",
      "\u001b[0;32m<ipython-input-120-213c37713b45>\u001b[0m in \u001b[0;36m<module>\u001b[0;34m\u001b[0m\n\u001b[1;32m      3\u001b[0m     \u001b[0mdf\u001b[0m \u001b[0;34m=\u001b[0m \u001b[0mspark\u001b[0m\u001b[0;34m.\u001b[0m\u001b[0msql\u001b[0m\u001b[0;34m(\u001b[0m\u001b[0;34m'SELECT quantity,price, symbol FROM BUY_view WHERE price > 1000'\u001b[0m\u001b[0;34m)\u001b[0m\u001b[0;34m.\u001b[0m\u001b[0mtoPandas\u001b[0m\u001b[0;34m(\u001b[0m\u001b[0;34m)\u001b[0m\u001b[0;34m\u001b[0m\u001b[0;34m\u001b[0m\u001b[0m\n\u001b[1;32m      4\u001b[0m     \u001b[0mplt\u001b[0m\u001b[0;34m.\u001b[0m\u001b[0mhist\u001b[0m\u001b[0;34m(\u001b[0m\u001b[0mdf\u001b[0m\u001b[0;34m[\u001b[0m\u001b[0;34m'quantity'\u001b[0m\u001b[0;34m]\u001b[0m \u001b[0;34m)\u001b[0m\u001b[0;34m\u001b[0m\u001b[0;34m\u001b[0m\u001b[0m\n\u001b[0;32m----> 5\u001b[0;31m     \u001b[0mplt\u001b[0m\u001b[0;34m.\u001b[0m\u001b[0mpause\u001b[0m\u001b[0;34m(\u001b[0m\u001b[0;36m5\u001b[0m\u001b[0;34m)\u001b[0m\u001b[0;34m\u001b[0m\u001b[0;34m\u001b[0m\u001b[0m\n\u001b[0m\u001b[1;32m      6\u001b[0m \u001b[0;34m\u001b[0m\u001b[0m\n",
      "\u001b[0;32m/opt/conda/lib/python3.8/site-packages/matplotlib/pyplot.py\u001b[0m in \u001b[0;36mpause\u001b[0;34m(interval)\u001b[0m\n\u001b[1;32m    527\u001b[0m             \u001b[0mcanvas\u001b[0m\u001b[0;34m.\u001b[0m\u001b[0mdraw_idle\u001b[0m\u001b[0;34m(\u001b[0m\u001b[0;34m)\u001b[0m\u001b[0;34m\u001b[0m\u001b[0;34m\u001b[0m\u001b[0m\n\u001b[1;32m    528\u001b[0m         \u001b[0mshow\u001b[0m\u001b[0;34m(\u001b[0m\u001b[0mblock\u001b[0m\u001b[0;34m=\u001b[0m\u001b[0;32mFalse\u001b[0m\u001b[0;34m)\u001b[0m\u001b[0;34m\u001b[0m\u001b[0;34m\u001b[0m\u001b[0m\n\u001b[0;32m--> 529\u001b[0;31m         \u001b[0mcanvas\u001b[0m\u001b[0;34m.\u001b[0m\u001b[0mstart_event_loop\u001b[0m\u001b[0;34m(\u001b[0m\u001b[0minterval\u001b[0m\u001b[0;34m)\u001b[0m\u001b[0;34m\u001b[0m\u001b[0;34m\u001b[0m\u001b[0m\n\u001b[0m\u001b[1;32m    530\u001b[0m     \u001b[0;32melse\u001b[0m\u001b[0;34m:\u001b[0m\u001b[0;34m\u001b[0m\u001b[0;34m\u001b[0m\u001b[0m\n\u001b[1;32m    531\u001b[0m         \u001b[0mtime\u001b[0m\u001b[0;34m.\u001b[0m\u001b[0msleep\u001b[0m\u001b[0;34m(\u001b[0m\u001b[0minterval\u001b[0m\u001b[0;34m)\u001b[0m\u001b[0;34m\u001b[0m\u001b[0;34m\u001b[0m\u001b[0m\n",
      "\u001b[0;32m/opt/conda/lib/python3.8/site-packages/matplotlib/backend_bases.py\u001b[0m in \u001b[0;36mstart_event_loop\u001b[0;34m(self, timeout)\u001b[0m\n\u001b[1;32m   2457\u001b[0m         \u001b[0;32mwhile\u001b[0m \u001b[0mself\u001b[0m\u001b[0;34m.\u001b[0m\u001b[0m_looping\u001b[0m \u001b[0;32mand\u001b[0m \u001b[0mcounter\u001b[0m \u001b[0;34m*\u001b[0m \u001b[0mtimestep\u001b[0m \u001b[0;34m<\u001b[0m \u001b[0mtimeout\u001b[0m\u001b[0;34m:\u001b[0m\u001b[0;34m\u001b[0m\u001b[0;34m\u001b[0m\u001b[0m\n\u001b[1;32m   2458\u001b[0m             \u001b[0mself\u001b[0m\u001b[0;34m.\u001b[0m\u001b[0mflush_events\u001b[0m\u001b[0;34m(\u001b[0m\u001b[0;34m)\u001b[0m\u001b[0;34m\u001b[0m\u001b[0;34m\u001b[0m\u001b[0m\n\u001b[0;32m-> 2459\u001b[0;31m             \u001b[0mtime\u001b[0m\u001b[0;34m.\u001b[0m\u001b[0msleep\u001b[0m\u001b[0;34m(\u001b[0m\u001b[0mtimestep\u001b[0m\u001b[0;34m)\u001b[0m\u001b[0;34m\u001b[0m\u001b[0;34m\u001b[0m\u001b[0m\n\u001b[0m\u001b[1;32m   2460\u001b[0m             \u001b[0mcounter\u001b[0m \u001b[0;34m+=\u001b[0m \u001b[0;36m1\u001b[0m\u001b[0;34m\u001b[0m\u001b[0;34m\u001b[0m\u001b[0m\n\u001b[1;32m   2461\u001b[0m \u001b[0;34m\u001b[0m\u001b[0m\n",
      "\u001b[0;31mKeyboardInterrupt\u001b[0m: "
     ]
    }
   ],
   "source": [
    "while True:\n",
    "    clear_output(wait=True)\n",
    "    df = spark.sql('SELECT quantity,price, symbol FROM BUY_view WHERE price > 1000').toPandas()\n",
    "    plt.hist(df['quantity'] )\n",
    "    plt.pause(5)\n",
    "   "
   ]
  },
  {
   "cell_type": "code",
   "execution_count": 118,
   "id": "74bdddb3",
   "metadata": {},
   "outputs": [],
   "source": [
    "BUY_stream.stop()"
   ]
  }
 ],
 "metadata": {
  "kernelspec": {
   "display_name": "Python 3",
   "language": "python",
   "name": "python3"
  },
  "language_info": {
   "codemirror_mode": {
    "name": "ipython",
    "version": 3
   },
   "file_extension": ".py",
   "mimetype": "text/x-python",
   "name": "python",
   "nbconvert_exporter": "python",
   "pygments_lexer": "ipython3",
   "version": "3.8.8"
  }
 },
 "nbformat": 4,
 "nbformat_minor": 5
}
