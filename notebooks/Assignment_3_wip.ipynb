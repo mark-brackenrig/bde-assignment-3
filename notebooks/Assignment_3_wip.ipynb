{
 "cells": [
  {
   "cell_type": "markdown",
   "id": "09aad9dc",
   "metadata": {},
   "source": [
    "## Part 1 - Produce Data\n",
    "We elected to use the datagen connector to generate fake data for this assignment. The topic we used was 'stocktrades. The steps were as follows:\n",
    "*  Open a browser and go to http://localhost:9021/\n",
    "*  Select the available cluster\n",
    "*  On the menu bar, select Connect\n",
    "*  Click on the connect-default cluster in the Connect Clusters list.\n",
    "*  Click on Add connector\n",
    "*  Select DatagenConnector\n",
    "*  Enter connector_stock_trades in the Name field\n",
    "\n",
    "Then:\n",
    "Generate a data stream with following configurations:\n",
    "```\n",
    "{\n",
    "  \"name\": \"connector_stock_trades\",\n",
    "  \"connector.class\": \"io.confluent.kafka.connect.datagen.DatagenConnector\",\n",
    "  \"key.converter\": \"org.apache.kafka.connect.storage.StringConverter\",\n",
    "  \"kafka.topic\": \"stocktrades\",\n",
    "  \"max.interval\": \"100\",\n",
    "  \"quickstart\": \"Stock_Trades\"\n",
    "}\n",
    "```\n"
   ]
  },
  {
   "cell_type": "markdown",
   "id": "4863630e",
   "metadata": {},
   "source": [
    "## Part 2 - Using Ksql to create at least 2 streams with filtering from topics\n",
    "\n",
    "To begin, you need to create a stream called stocktrades with no filtering in place."
   ]
  },
  {
   "cell_type": "raw",
   "id": "4c3a0af7",
   "metadata": {},
   "source": [
    "CREATE STREAM STOCKTRADES\n",
    "   (SIDE STRING, QUANTITY INTEGER, SYMBOL STRING, PRICE INTEGER, ACCOUNT STRING, USERID STRING)\n",
    "       WITH (KAFKA_TOPIC='stocktrades', VALUE_FORMAT='AVRO');"
   ]
  },
  {
   "cell_type": "markdown",
   "id": "d1c003ed",
   "metadata": {},
   "source": [
    "### Create JSON Stream\n",
    "In order for this to play nicely with spark, we need to mimic the raw stream as a json formatted stream."
   ]
  },
  {
   "cell_type": "raw",
   "id": "30f1687f",
   "metadata": {},
   "source": [
    "CREATE STREAM STOCKTRADES_JSON WITH (KAFKA_TOPIC='STOCKTRADES_JSON', VALUE_FORMAT='JSON') AS SELECT\n",
    "* FROM STOCKTRADES STOCKTRADES\n",
    "EMIT CHANGES;"
   ]
  },
  {
   "cell_type": "markdown",
   "id": "915e2efc",
   "metadata": {},
   "source": [
    "### Stream 1 - Sell Stream\n",
    "It may be in the interest of the business to view only streams where the stock was sold and not bought. This would be useful in identifying which shares should be taken as a 'short' position"
   ]
  },
  {
   "cell_type": "raw",
   "id": "e5e71fc1",
   "metadata": {},
   "source": [
    "CREATE STREAM SELL_TRADES WITH (KAFKA_TOPIC='SELL_TRADES', VALUE_FORMAT='JSON') AS SELECT\n",
    "  STOCKTRADES_JSON.QUANTITY QUANTITY,\n",
    "  STOCKTRADES_JSON.SYMBOL SYMBOL,\n",
    "  STOCKTRADES_JSON.PRICE PRICE,\n",
    "  STOCKTRADES_JSON.ACCOUNT ACCOUNT,\n",
    "  STOCKTRADES_JSON.USERID USERID\n",
    "FROM STOCKTRADES_JSON STOCKTRADES_JSON\n",
    "WHERE (STOCKTRADES_JSON.SIDE = 'SELL')\n",
    "EMIT CHANGES;\n"
   ]
  },
  {
   "cell_type": "markdown",
   "id": "6b63abe8",
   "metadata": {},
   "source": [
    "### Stream 2 - Buy Stream\n",
    "It may also be interesting to the business to see trades that were large buys."
   ]
  },
  {
   "cell_type": "raw",
   "id": "ed68cb08",
   "metadata": {},
   "source": [
    "CREATE STREAM BUY_TRADES WITH (KAFKA_TOPIC='BUY_TRADES', VALUE_FORMAT='JSON') AS SELECT\n",
    "  STOCKTRADES_JSON.QUANTITY QUANTITY,\n",
    "  STOCKTRADES_JSON.SYMBOL SYMBOL,\n",
    "  STOCKTRADES_JSON.PRICE PRICE,\n",
    "  STOCKTRADES_JSON.ACCOUNT ACCOUNT,\n",
    "  STOCKTRADES_JSON.USERID USERID\n",
    "FROM STOCKTRADES_JSON STOCKTRADES_JSON\n",
    "WHERE (STOCKTRADES_JSON.SIDE = 'BUY')\n",
    "EMIT CHANGES;"
   ]
  },
  {
   "cell_type": "markdown",
   "id": "1f1094f7",
   "metadata": {},
   "source": [
    "### Table 1 - Aggregated Buy Trades\n"
   ]
  },
  {
   "cell_type": "raw",
   "id": "81a593fc",
   "metadata": {},
   "source": [
    "CREATE TABLE AGG_BUY_ORDERS WITH (KAFKA_TOPIC='AGG_BUY_ORDERS', VALUE_FORMAT='JSON') AS SELECT\n",
    "  BUY_TRADES.SYMBOL SYMBOL,\n",
    "  SUM(BUY_TRADES.QUANTITY) QUANTITY_AGG,\n",
    "  AVG(BUY_TRADES.PRICE) PRICE_AVG,\n",
    "  SUM((BUY_TRADES.QUANTITY * BUY_TRADES.PRICE)) VALUE_TRADED\n",
    "FROM BUY_TRADES BUY_TRADES\n",
    "WINDOW TUMBLING ( SIZE 60 SECONDS )\n",
    "GROUP BY BUY_TRADES.SYMBOL\n",
    "EMIT CHANGES;\n"
   ]
  },
  {
   "cell_type": "markdown",
   "id": "d68df910",
   "metadata": {},
   "source": [
    "### Table 2 - Aggregated Sell Trades"
   ]
  },
  {
   "cell_type": "raw",
   "id": "022a3227",
   "metadata": {
    "pycharm": {
     "name": "#%% raw\n"
    }
   },
   "source": [
    "CREATE TABLE AGG_SELL_ORDERS WITH (KAFKA_TOPIC='AGG_SELL_ORDERS', VALUE_FORMAT='JSON') AS SELECT\n",
    "  SELL_TRADES.SYMBOL SYMBOL,\n",
    "  SUM(SELL_TRADES.QUANTITY) QUANTITY_AGG,\n",
    "  AVG(SELL_TRADES.PRICE) PRICE_AVG,\n",
    "  SUM((SELL_TRADES.QUANTITY * SELL_TRADES.PRICE)) VALUE_TRADED\n",
    "FROM SELL_TRADES SELL_TRADES\n",
    "WINDOW TUMBLING ( SIZE 60 SECONDS )\n",
    "GROUP BY SELL_TRADES.SYMBOL\n",
    "EMIT CHANGES;"
   ]
  },
  {
   "cell_type": "markdown",
   "id": "d1111f2f",
   "metadata": {
    "pycharm": {
     "name": "#%% md\n"
    }
   },
   "source": [
    "## Part 3 - Consume/Transform data with Spark Streaming"
   ]
  },
  {
   "cell_type": "code",
   "execution_count": 1,
   "id": "2c66e548",
   "metadata": {},
   "outputs": [],
   "source": [
    "from pyspark.sql import SparkSession\n",
    "from IPython.display import display, clear_output\n",
    "import time\n",
    "from pyspark.sql import functions as F\n",
    "from pyspark.sql.types import StructType,StringType, StructField, IntegerType, FloatType, BinaryType"
   ]
  },
  {
   "cell_type": "code",
   "execution_count": 2,
   "id": "7d13d8ef",
   "metadata": {},
   "outputs": [],
   "source": [
    "spark = SparkSession.builder \\\n",
    "        .appName('kafka') \\\n",
    "        .getOrCreate()"
   ]
  },
  {
   "cell_type": "code",
   "execution_count": 3,
   "id": "f82aa7e2",
   "metadata": {
    "pycharm": {
     "name": "#%%\n"
    }
   },
   "outputs": [
    {
     "data": {
      "text/plain": [
       "'3.1.1'"
      ]
     },
     "execution_count": 3,
     "metadata": {},
     "output_type": "execute_result"
    }
   ],
   "source": [
    "spark.version"
   ]
  },
  {
   "cell_type": "code",
   "execution_count": 4,
   "id": "8f166580",
   "metadata": {},
   "outputs": [
    {
     "data": {
      "text/plain": [
       "'3.2.0'"
      ]
     },
     "execution_count": 4,
     "metadata": {},
     "output_type": "execute_result"
    }
   ],
   "source": [
    "spark._jvm.org.apache.hadoop.util.VersionInfo.getVersion()"
   ]
  },
  {
   "cell_type": "markdown",
   "id": "c8e280e3",
   "metadata": {
    "pycharm": {
     "name": "#%% md\n"
    }
   },
   "source": [
    "## Raw Data Streams"
   ]
  },
  {
   "cell_type": "code",
   "execution_count": 34,
   "id": "51056e68",
   "metadata": {},
   "outputs": [],
   "source": [
    "stream_df = spark \\\n",
    "  .readStream \\\n",
    "  .format(\"kafka\") \\\n",
    "  .option(\"kafka.bootstrap.servers\", \"broker:29092\") \\\n",
    "  .option(\"startingOffsets\", \"earliest\") \\\n",
    "  .option(\"subscribe\", \"STOCKTRADES_JSON\") \\\n",
    "  .load()"
   ]
  },
  {
   "cell_type": "code",
   "execution_count": 35,
   "id": "9aca8956",
   "metadata": {},
   "outputs": [
    {
     "name": "stdout",
     "output_type": "stream",
     "text": [
      "root\n",
      " |-- key: binary (nullable = true)\n",
      " |-- value: binary (nullable = true)\n",
      " |-- topic: string (nullable = true)\n",
      " |-- partition: integer (nullable = true)\n",
      " |-- offset: long (nullable = true)\n",
      " |-- timestamp: timestamp (nullable = true)\n",
      " |-- timestampType: integer (nullable = true)\n",
      "\n"
     ]
    }
   ],
   "source": [
    "stream_df.printSchema()"
   ]
  },
  {
   "cell_type": "code",
   "execution_count": 36,
   "id": "33c558f2",
   "metadata": {},
   "outputs": [],
   "source": [
    "raw_stream = stream_df \\\n",
    "    .writeStream \\\n",
    "    .format(\"memory\") \\\n",
    "    .queryName(\"raw_stocktrades_view\") \\\n",
    "    .start()"
   ]
  },
  {
   "cell_type": "code",
   "execution_count": 37,
   "id": "c31a1667",
   "metadata": {
    "pycharm": {
     "name": "#%%\n"
    }
   },
   "outputs": [
    {
     "name": "stdout",
     "output_type": "stream",
     "text": [
      "+----+--------------------+\n",
      "| key|               value|\n",
      "+----+--------------------+\n",
      "|null|[7B 22 53 49 44 4...|\n",
      "|null|[7B 22 53 49 44 4...|\n",
      "|null|[7B 22 53 49 44 4...|\n",
      "|null|[7B 22 53 49 44 4...|\n",
      "|null|[7B 22 53 49 44 4...|\n",
      "|null|[7B 22 53 49 44 4...|\n",
      "|null|[7B 22 53 49 44 4...|\n",
      "|null|[7B 22 53 49 44 4...|\n",
      "|null|[7B 22 53 49 44 4...|\n",
      "|null|[7B 22 53 49 44 4...|\n",
      "|null|[7B 22 53 49 44 4...|\n",
      "|null|[7B 22 53 49 44 4...|\n",
      "|null|[7B 22 53 49 44 4...|\n",
      "|null|[7B 22 53 49 44 4...|\n",
      "|null|[7B 22 53 49 44 4...|\n",
      "|null|[7B 22 53 49 44 4...|\n",
      "|null|[7B 22 53 49 44 4...|\n",
      "|null|[7B 22 53 49 44 4...|\n",
      "|null|[7B 22 53 49 44 4...|\n",
      "|null|[7B 22 53 49 44 4...|\n",
      "+----+--------------------+\n",
      "only showing top 20 rows\n",
      "\n"
     ]
    },
    {
     "data": {
      "text/plain": [
       "None"
      ]
     },
     "metadata": {},
     "output_type": "display_data"
    }
   ],
   "source": [
    "clear_output(wait=True)\n",
    "display(spark.sql('SELECT key, value FROM raw_stocktrades_view').show(20))\n",
    "time.sleep(1)"
   ]
  },
  {
   "cell_type": "code",
   "execution_count": 38,
   "id": "9724637c",
   "metadata": {},
   "outputs": [],
   "source": [
    "raw_stream.stop()"
   ]
  },
  {
   "cell_type": "markdown",
   "id": "40f1ef02",
   "metadata": {
    "pycharm": {
     "name": "#%% md\n"
    }
   },
   "source": [
    "### Convert Key Value pairs to strings"
   ]
  },
  {
   "cell_type": "code",
   "execution_count": 39,
   "id": "9761037c",
   "metadata": {},
   "outputs": [],
   "source": [
    "string_stream_df = stream_df \\\n",
    "    .withColumn(\"key\", stream_df[\"key\"].cast(StringType())) \\\n",
    "      .withColumn('value', stream_df[\"value\"].cast(StringType()))"
   ]
  },
  {
   "cell_type": "code",
   "execution_count": 40,
   "id": "824ed16e",
   "metadata": {},
   "outputs": [],
   "source": [
    "string_stream = string_stream_df \\\n",
    "    .writeStream \\\n",
    "    .format(\"memory\") \\\n",
    "    .queryName(\"string_stocktrades_view\") \\\n",
    "    .start()"
   ]
  },
  {
   "cell_type": "code",
   "execution_count": 41,
   "id": "05f54341",
   "metadata": {
    "pycharm": {
     "name": "#%%\n"
    }
   },
   "outputs": [
    {
     "name": "stdout",
     "output_type": "stream",
     "text": [
      "+----+--------------------+\n",
      "| key|               value|\n",
      "+----+--------------------+\n",
      "|null|{\"SIDE\":\"SELL\",\"Q...|\n",
      "|null|{\"SIDE\":\"BUY\",\"QU...|\n",
      "|null|{\"SIDE\":\"BUY\",\"QU...|\n",
      "|null|{\"SIDE\":\"BUY\",\"QU...|\n",
      "|null|{\"SIDE\":\"SELL\",\"Q...|\n",
      "|null|{\"SIDE\":\"SELL\",\"Q...|\n",
      "|null|{\"SIDE\":\"BUY\",\"QU...|\n",
      "|null|{\"SIDE\":\"BUY\",\"QU...|\n",
      "|null|{\"SIDE\":\"BUY\",\"QU...|\n",
      "|null|{\"SIDE\":\"BUY\",\"QU...|\n",
      "|null|{\"SIDE\":\"BUY\",\"QU...|\n",
      "|null|{\"SIDE\":\"SELL\",\"Q...|\n",
      "|null|{\"SIDE\":\"SELL\",\"Q...|\n",
      "|null|{\"SIDE\":\"SELL\",\"Q...|\n",
      "|null|{\"SIDE\":\"BUY\",\"QU...|\n",
      "|null|{\"SIDE\":\"SELL\",\"Q...|\n",
      "|null|{\"SIDE\":\"SELL\",\"Q...|\n",
      "|null|{\"SIDE\":\"SELL\",\"Q...|\n",
      "|null|{\"SIDE\":\"SELL\",\"Q...|\n",
      "|null|{\"SIDE\":\"BUY\",\"QU...|\n",
      "+----+--------------------+\n",
      "only showing top 20 rows\n",
      "\n"
     ]
    },
    {
     "data": {
      "text/plain": [
       "None"
      ]
     },
     "metadata": {},
     "output_type": "display_data"
    }
   ],
   "source": [
    "clear_output(wait=True)\n",
    "display(spark.sql('SELECT key, value FROM string_stocktrades_view').show(20))\n",
    "time.sleep(1)"
   ]
  },
  {
   "cell_type": "code",
   "execution_count": 42,
   "id": "a021156c",
   "metadata": {},
   "outputs": [],
   "source": [
    "string_stream.stop()"
   ]
  },
  {
   "cell_type": "markdown",
   "id": "7bfd9d39",
   "metadata": {
    "pycharm": {
     "name": "#%% md\n"
    }
   },
   "source": [
    "## Transformation"
   ]
  },
  {
   "cell_type": "code",
   "execution_count": 43,
   "id": "cc07ccf0",
   "metadata": {},
   "outputs": [],
   "source": [
    "schema_stocktrades =  StructType([\n",
    "        StructField(\"SIDE\", StringType(),  True),\n",
    "        StructField(\"QUANTITY\", IntegerType(),  True),\n",
    "        StructField(\"PRICE\", IntegerType(),  True),\n",
    "        StructField(\"SYMBOL\", StringType(),  True),\n",
    "        StructField(\"ACCOUNT\", StringType(), True),\n",
    "         StructField(\"USERID\", StringType(), True)\n",
    "])"
   ]
  },
  {
   "cell_type": "code",
   "execution_count": 44,
   "id": "a9c61b2c",
   "metadata": {},
   "outputs": [],
   "source": [
    "json_stream_df = string_stream_df\\\n",
    "    .withColumn(\"value\", F.from_json(\"value\", schema_stocktrades))"
   ]
  },
  {
   "cell_type": "code",
   "execution_count": 45,
   "id": "50e239ae",
   "metadata": {},
   "outputs": [
    {
     "name": "stdout",
     "output_type": "stream",
     "text": [
      "root\n",
      " |-- key: string (nullable = true)\n",
      " |-- value: struct (nullable = true)\n",
      " |    |-- SIDE: string (nullable = true)\n",
      " |    |-- QUANTITY: integer (nullable = true)\n",
      " |    |-- PRICE: integer (nullable = true)\n",
      " |    |-- SYMBOL: string (nullable = true)\n",
      " |    |-- ACCOUNT: string (nullable = true)\n",
      " |    |-- USERID: string (nullable = true)\n",
      " |-- topic: string (nullable = true)\n",
      " |-- partition: integer (nullable = true)\n",
      " |-- offset: long (nullable = true)\n",
      " |-- timestamp: timestamp (nullable = true)\n",
      " |-- timestampType: integer (nullable = true)\n",
      "\n"
     ]
    }
   ],
   "source": [
    "json_stream_df.printSchema()"
   ]
  },
  {
   "cell_type": "code",
   "execution_count": 48,
   "id": "066dd845",
   "metadata": {},
   "outputs": [],
   "source": [
    "json_stream = json_stream_df \\\n",
    "    .writeStream \\\n",
    "    .format(\"memory\") \\\n",
    "    .queryName(\"extract_stocktrades_view\") \\\n",
    "    .start()"
   ]
  },
  {
   "cell_type": "code",
   "execution_count": 49,
   "id": "34b9383c",
   "metadata": {
    "pycharm": {
     "name": "#%%\n"
    }
   },
   "outputs": [
    {
     "name": "stdout",
     "output_type": "stream",
     "text": [
      "+----+----------------------------------------+----------------+---------+------+-----------------------+-------------+\n",
      "|key |value                                   |topic           |partition|offset|timestamp              |timestampType|\n",
      "+----+----------------------------------------+----------------+---------+------+-----------------------+-------------+\n",
      "|null|{SELL, 3679, 432, ZXZZT, XYZ789, User_2}|STOCKTRADES_JSON|0        |0     |2021-06-06 07:37:35.324|0            |\n",
      "|null|{BUY, 4955, 73, ZTEST, ABC123, User_9}  |STOCKTRADES_JSON|0        |1     |2021-06-06 07:37:35.382|0            |\n",
      "|null|{BUY, 4014, 821, ZJZZT, XYZ789, User_8} |STOCKTRADES_JSON|0        |2     |2021-06-06 07:37:35.417|0            |\n",
      "|null|{BUY, 161, 928, ZVV, XYZ789, User_1}    |STOCKTRADES_JSON|0        |3     |2021-06-06 07:37:35.458|0            |\n",
      "|null|{SELL, 2099, 947, ZTEST, ABC123, User_4}|STOCKTRADES_JSON|0        |4     |2021-06-06 07:37:35.503|0            |\n",
      "|null|{SELL, 3337, 731, ZVV, XYZ789, User_1}  |STOCKTRADES_JSON|0        |5     |2021-06-06 07:37:35.555|0            |\n",
      "|null|{BUY, 1030, 773, ZBZX, LMN456, User_7}  |STOCKTRADES_JSON|0        |6     |2021-06-06 07:37:35.626|0            |\n",
      "|null|{BUY, 2928, 136, ZTEST, ABC123, User_8} |STOCKTRADES_JSON|0        |7     |2021-06-06 07:37:35.635|0            |\n",
      "|null|{BUY, 1710, 528, ZJZZT, ABC123, User_8} |STOCKTRADES_JSON|0        |8     |2021-06-06 07:37:35.669|0            |\n",
      "|null|{BUY, 1133, 614, ZTEST, ABC123, User_3} |STOCKTRADES_JSON|0        |9     |2021-06-06 07:37:35.691|0            |\n",
      "|null|{BUY, 1008, 203, ZVV, ABC123, User_6}   |STOCKTRADES_JSON|0        |10    |2021-06-06 07:37:35.731|0            |\n",
      "|null|{SELL, 2732, 974, ZJZZT, ABC123, User_6}|STOCKTRADES_JSON|0        |11    |2021-06-06 07:37:35.768|0            |\n",
      "|null|{SELL, 1116, 355, ZVV, ABC123, User_4}  |STOCKTRADES_JSON|0        |12    |2021-06-06 07:37:35.77 |0            |\n",
      "|null|{SELL, 290, 730, ZJZZT, XYZ789, User_8} |STOCKTRADES_JSON|0        |13    |2021-06-06 07:37:35.859|0            |\n",
      "|null|{BUY, 832, 129, ZXZZT, LMN456, User_7}  |STOCKTRADES_JSON|0        |14    |2021-06-06 07:37:35.952|0            |\n",
      "|null|{SELL, 2711, 793, ZTEST, LMN456, User_8}|STOCKTRADES_JSON|0        |15    |2021-06-06 07:37:36.02 |0            |\n",
      "|null|{SELL, 388, 839, ZTEST, LMN456, User_9} |STOCKTRADES_JSON|0        |16    |2021-06-06 07:37:36.054|0            |\n",
      "|null|{SELL, 1907, 768, ZVZZT, XYZ789, User_2}|STOCKTRADES_JSON|0        |17    |2021-06-06 07:37:36.13 |0            |\n",
      "|null|{SELL, 2814, 685, ZJZZT, ABC123, User_8}|STOCKTRADES_JSON|0        |18    |2021-06-06 07:37:36.226|0            |\n",
      "|null|{BUY, 2678, 743, ZBZX, LMN456, User_1}  |STOCKTRADES_JSON|0        |19    |2021-06-06 07:37:36.311|0            |\n",
      "+----+----------------------------------------+----------------+---------+------+-----------------------+-------------+\n",
      "only showing top 20 rows\n",
      "\n"
     ]
    },
    {
     "data": {
      "text/plain": [
       "None"
      ]
     },
     "metadata": {},
     "output_type": "display_data"
    }
   ],
   "source": [
    "clear_output(wait=True)\n",
    "display(spark.sql('SELECT * FROM extract_stocktrades_view').show(20, False))\n",
    "time.sleep(1)"
   ]
  },
  {
   "cell_type": "code",
   "execution_count": 50,
   "id": "e9879833",
   "metadata": {},
   "outputs": [],
   "source": [
    "json_stream.stop()"
   ]
  },
  {
   "cell_type": "markdown",
   "id": "288f63ec",
   "metadata": {
    "pycharm": {
     "name": "#%% md\n"
    }
   },
   "source": [
    "### Flatten Data"
   ]
  },
  {
   "cell_type": "code",
   "execution_count": 53,
   "id": "fceb0b5c",
   "metadata": {},
   "outputs": [],
   "source": [
    "stocktrades_stream_df = json_stream_df \\\n",
    "    .select( \\\n",
    "        F.col(\"key\").alias(\"event_key\"), \\\n",
    "        F.col(\"topic\").alias(\"event_topic\"), \\\n",
    "        F.col(\"timestamp\").alias(\"event_timestamp\"), \\\n",
    "        \"value.side\", \\\n",
    "        \"value.quantity\", \\\n",
    "        \"value.price\", \\\n",
    "        \"value.symbol\", \\\n",
    "        \"value.account\", \\\n",
    "        \"value.userid\"\n",
    "    )"
   ]
  },
  {
   "cell_type": "code",
   "execution_count": 54,
   "id": "9f053b0f",
   "metadata": {},
   "outputs": [
    {
     "name": "stdout",
     "output_type": "stream",
     "text": [
      "root\n",
      " |-- event_key: string (nullable = true)\n",
      " |-- event_topic: string (nullable = true)\n",
      " |-- event_timestamp: timestamp (nullable = true)\n",
      " |-- SIDE: string (nullable = true)\n",
      " |-- QUANTITY: integer (nullable = true)\n",
      " |-- price: integer (nullable = true)\n",
      " |-- symbol: string (nullable = true)\n",
      " |-- account: string (nullable = true)\n",
      " |-- userid: string (nullable = true)\n",
      "\n"
     ]
    }
   ],
   "source": [
    "stocktrades_stream_df.printSchema()"
   ]
  },
  {
   "cell_type": "code",
   "execution_count": 55,
   "id": "8f263f8a",
   "metadata": {},
   "outputs": [],
   "source": [
    "stocktrades_stream = stocktrades_stream_df \\\n",
    "    .writeStream \\\n",
    "    .format(\"memory\") \\\n",
    "    .queryName(\"stocktrades_view\") \\\n",
    "    .start()"
   ]
  },
  {
   "cell_type": "code",
   "execution_count": 56,
   "id": "6edaaccc",
   "metadata": {
    "pycharm": {
     "name": "#%%\n"
    }
   },
   "outputs": [
    {
     "name": "stdout",
     "output_type": "stream",
     "text": [
      "+---------+----------------+--------------------+----+--------+-----+------+-------+------+\n",
      "|event_key|     event_topic|     event_timestamp|SIDE|QUANTITY|price|symbol|account|userid|\n",
      "+---------+----------------+--------------------+----+--------+-----+------+-------+------+\n",
      "|     null|STOCKTRADES_JSON|2021-06-06 07:37:...|SELL|    3679|  432| ZXZZT| XYZ789|User_2|\n",
      "|     null|STOCKTRADES_JSON|2021-06-06 07:37:...| BUY|    4955|   73| ZTEST| ABC123|User_9|\n",
      "|     null|STOCKTRADES_JSON|2021-06-06 07:37:...| BUY|    4014|  821| ZJZZT| XYZ789|User_8|\n",
      "|     null|STOCKTRADES_JSON|2021-06-06 07:37:...| BUY|     161|  928|   ZVV| XYZ789|User_1|\n",
      "|     null|STOCKTRADES_JSON|2021-06-06 07:37:...|SELL|    2099|  947| ZTEST| ABC123|User_4|\n",
      "|     null|STOCKTRADES_JSON|2021-06-06 07:37:...|SELL|    3337|  731|   ZVV| XYZ789|User_1|\n",
      "|     null|STOCKTRADES_JSON|2021-06-06 07:37:...| BUY|    1030|  773|  ZBZX| LMN456|User_7|\n",
      "|     null|STOCKTRADES_JSON|2021-06-06 07:37:...| BUY|    2928|  136| ZTEST| ABC123|User_8|\n",
      "|     null|STOCKTRADES_JSON|2021-06-06 07:37:...| BUY|    1710|  528| ZJZZT| ABC123|User_8|\n",
      "|     null|STOCKTRADES_JSON|2021-06-06 07:37:...| BUY|    1133|  614| ZTEST| ABC123|User_3|\n",
      "|     null|STOCKTRADES_JSON|2021-06-06 07:37:...| BUY|    1008|  203|   ZVV| ABC123|User_6|\n",
      "|     null|STOCKTRADES_JSON|2021-06-06 07:37:...|SELL|    2732|  974| ZJZZT| ABC123|User_6|\n",
      "|     null|STOCKTRADES_JSON|2021-06-06 07:37:...|SELL|    1116|  355|   ZVV| ABC123|User_4|\n",
      "|     null|STOCKTRADES_JSON|2021-06-06 07:37:...|SELL|     290|  730| ZJZZT| XYZ789|User_8|\n",
      "|     null|STOCKTRADES_JSON|2021-06-06 07:37:...| BUY|     832|  129| ZXZZT| LMN456|User_7|\n",
      "|     null|STOCKTRADES_JSON|2021-06-06 07:37:...|SELL|    2711|  793| ZTEST| LMN456|User_8|\n",
      "|     null|STOCKTRADES_JSON|2021-06-06 07:37:...|SELL|     388|  839| ZTEST| LMN456|User_9|\n",
      "|     null|STOCKTRADES_JSON|2021-06-06 07:37:...|SELL|    1907|  768| ZVZZT| XYZ789|User_2|\n",
      "|     null|STOCKTRADES_JSON|2021-06-06 07:37:...|SELL|    2814|  685| ZJZZT| ABC123|User_8|\n",
      "|     null|STOCKTRADES_JSON|2021-06-06 07:37:...| BUY|    2678|  743|  ZBZX| LMN456|User_1|\n",
      "+---------+----------------+--------------------+----+--------+-----+------+-------+------+\n",
      "only showing top 20 rows\n",
      "\n"
     ]
    },
    {
     "data": {
      "text/plain": [
       "None"
      ]
     },
     "metadata": {},
     "output_type": "display_data"
    }
   ],
   "source": [
    "clear_output(wait=True)\n",
    "display(spark.sql('SELECT * FROM stocktrades_view').show(20))\n",
    "time.sleep(1)"
   ]
  },
  {
   "cell_type": "code",
   "execution_count": 57,
   "id": "f3c7a425",
   "metadata": {},
   "outputs": [],
   "source": [
    "stocktrades_stream.stop()"
   ]
  },
  {
   "cell_type": "markdown",
   "id": "ef558cb3",
   "metadata": {
    "pycharm": {
     "name": "#%% md\n"
    }
   },
   "source": [
    "## Create neater function to generate stream\n",
    "This function generates a stream from stocktrades with one line of code so its easier to call in later components"
   ]
  },
  {
   "cell_type": "code",
   "execution_count": null,
   "id": "d946c020",
   "metadata": {
    "collapsed": false,
    "jupyter": {
     "outputs_hidden": false
    },
    "pycharm": {
     "name": "#%%\n"
    }
   },
   "outputs": [],
   "source": [
    "def generate_stocktrades_stream():\n",
    "    # Define the Spark Stream\n",
    "    stream_df = spark \\\n",
    "  .readStream \\\n",
    "  .format(\"kafka\") \\\n",
    "  .option(\"kafka.bootstrap.servers\", \"broker:29092\") \\\n",
    "  .option(\"startingOffsets\", \"earliest\") \\\n",
    "  .option(\"subscribe\", \"STOCKTRADES_JSON\") \\\n",
    "  .load()\n",
    "    # Convert to string types\n",
    "    string_stream_df = stream_df \\\n",
    "    .withColumn(\"key\", stream_df[\"key\"].cast(StringType())) \\\n",
    "      .withColumn('value', stream_df[\"value\"].cast(StringType()))\n",
    "    \n",
    "    # Define the Schema\n",
    "    schema_stocktrades =  StructType([\n",
    "        StructField(\"SIDE\", StringType(),  True),\n",
    "        StructField(\"QUANTITY\", IntegerType(),  True),\n",
    "        StructField(\"PRICE\", IntegerType(),  True),\n",
    "        StructField(\"SYMBOL\", StringType(),  True),\n",
    "        StructField(\"ACCOUNT\", StringType(), True),\n",
    "         StructField(\"USERID\", StringType(), True)\n",
    "])\n",
    "    # Convert the string type to json\n",
    "    json_stream_df = string_stream_df\\\n",
    "    .withColumn(\"value\", F.from_json(\"value\", schema_stocktrades))\n",
    "    stocktrades_stream_df = json_stream_df \\\n",
    "    .select( \\\n",
    "        F.col(\"key\").alias(\"event_key\"), \\\n",
    "        F.col(\"topic\").alias(\"event_topic\"), \\\n",
    "        F.col(\"timestamp\").alias(\"event_timestamp\"), \\\n",
    "        \"value.side\", \\\n",
    "        \"value.quantity\", \\\n",
    "        \"value.price\", \\\n",
    "        \"value.symbol\", \\\n",
    "        \"value.account\", \\\n",
    "        \"value.userid\"\n",
    "    )\n",
    "    return stocktrades_stream_df \\\n",
    "    .writeStream \\\n",
    "    .format(\"memory\") \\\n",
    "    .queryName(\"stocktrades_view\") \\\n",
    "    .start()"
   ]
  },
  {
   "cell_type": "code",
   "execution_count": null,
   "outputs": [],
   "source": [
    "stocktrades_stream = generate_stocktrades_stream()"
   ],
   "metadata": {
    "collapsed": false,
    "pycharm": {
     "name": "#%%\n"
    }
   }
  },
  {
   "cell_type": "code",
   "execution_count": null,
   "outputs": [],
   "source": [
    "clear_output(wait=True)\n",
    "display(spark.sql('SELECT * FROM stocktrades_view').show(20))\n",
    "time.sleep(1)"
   ],
   "metadata": {
    "collapsed": false,
    "pycharm": {
     "name": "#%%\n"
    }
   }
  },
  {
   "cell_type": "code",
   "execution_count": null,
   "id": "39bbd98e",
   "metadata": {
    "collapsed": false,
    "jupyter": {
     "outputs_hidden": false
    },
    "pycharm": {
     "name": "#%%\n"
    }
   },
   "outputs": [],
   "source": [
    "stocktrades_stream = generate_stocktrades_stream()"
   ]
  },
  {
   "cell_type": "code",
   "execution_count": 68,
   "id": "2d7d7d8a",
   "metadata": {},
   "outputs": [],
   "source": [
    "clear_output(wait=True)\n",
    "display(spark.sql('SELECT * FROM stocktrades_view').show(20))\n",
    "time.sleep(1)"
   ]
  },
  {
   "cell_type": "code",
   "execution_count": 65,
   "id": "1c786908",
   "metadata": {},
   "outputs": [],
   "source": [
    "stocktrades_stream = generate_stocktrades_stream()"
   ]
  },
  {
   "cell_type": "code",
   "execution_count": 66,
   "id": "78e3b27d",
   "metadata": {},
   "outputs": [
    {
     "name": "stdout",
     "output_type": "stream",
     "text": [
      "+---------+----------------+--------------------+----+--------+-----+------+-------+------+\n",
      "|event_key|     event_topic|     event_timestamp|side|quantity|price|symbol|account|userid|\n",
      "+---------+----------------+--------------------+----+--------+-----+------+-------+------+\n",
      "|     null|STOCKTRADES_JSON|2021-06-06 07:37:...|SELL|    3679|  432| ZXZZT| XYZ789|User_2|\n",
      "|     null|STOCKTRADES_JSON|2021-06-06 07:37:...| BUY|    4955|   73| ZTEST| ABC123|User_9|\n",
      "|     null|STOCKTRADES_JSON|2021-06-06 07:37:...| BUY|    4014|  821| ZJZZT| XYZ789|User_8|\n",
      "|     null|STOCKTRADES_JSON|2021-06-06 07:37:...| BUY|     161|  928|   ZVV| XYZ789|User_1|\n",
      "|     null|STOCKTRADES_JSON|2021-06-06 07:37:...|SELL|    2099|  947| ZTEST| ABC123|User_4|\n",
      "|     null|STOCKTRADES_JSON|2021-06-06 07:37:...|SELL|    3337|  731|   ZVV| XYZ789|User_1|\n",
      "|     null|STOCKTRADES_JSON|2021-06-06 07:37:...| BUY|    1030|  773|  ZBZX| LMN456|User_7|\n",
      "|     null|STOCKTRADES_JSON|2021-06-06 07:37:...| BUY|    2928|  136| ZTEST| ABC123|User_8|\n",
      "|     null|STOCKTRADES_JSON|2021-06-06 07:37:...| BUY|    1710|  528| ZJZZT| ABC123|User_8|\n",
      "|     null|STOCKTRADES_JSON|2021-06-06 07:37:...| BUY|    1133|  614| ZTEST| ABC123|User_3|\n",
      "|     null|STOCKTRADES_JSON|2021-06-06 07:37:...| BUY|    1008|  203|   ZVV| ABC123|User_6|\n",
      "|     null|STOCKTRADES_JSON|2021-06-06 07:37:...|SELL|    2732|  974| ZJZZT| ABC123|User_6|\n",
      "|     null|STOCKTRADES_JSON|2021-06-06 07:37:...|SELL|    1116|  355|   ZVV| ABC123|User_4|\n",
      "|     null|STOCKTRADES_JSON|2021-06-06 07:37:...|SELL|     290|  730| ZJZZT| XYZ789|User_8|\n",
      "|     null|STOCKTRADES_JSON|2021-06-06 07:37:...| BUY|     832|  129| ZXZZT| LMN456|User_7|\n",
      "|     null|STOCKTRADES_JSON|2021-06-06 07:37:...|SELL|    2711|  793| ZTEST| LMN456|User_8|\n",
      "|     null|STOCKTRADES_JSON|2021-06-06 07:37:...|SELL|     388|  839| ZTEST| LMN456|User_9|\n",
      "|     null|STOCKTRADES_JSON|2021-06-06 07:37:...|SELL|    1907|  768| ZVZZT| XYZ789|User_2|\n",
      "|     null|STOCKTRADES_JSON|2021-06-06 07:37:...|SELL|    2814|  685| ZJZZT| ABC123|User_8|\n",
      "|     null|STOCKTRADES_JSON|2021-06-06 07:37:...| BUY|    2678|  743|  ZBZX| LMN456|User_1|\n",
      "+---------+----------------+--------------------+----+--------+-----+------+-------+------+\n",
      "only showing top 20 rows\n",
      "\n"
     ]
    },
    {
     "data": {
      "text/plain": [
       "None"
      ]
     },
     "metadata": {},
     "output_type": "display_data"
    }
   ],
   "source": [
    "clear_output(wait=True)\n",
    "display(spark.sql('SELECT * FROM stocktrades_view').show(20))\n",
    "time.sleep(1)"
   ]
  },
  {
   "cell_type": "code",
   "execution_count": 67,
   "id": "19b8ce03",
   "metadata": {},
   "outputs": [],
   "source": [
    "stocktrades_stream.stop()"
   ]
  },
  {
   "cell_type": "code",
   "execution_count": null,
   "id": "b6d6a13c",
   "metadata": {},
   "outputs": [],
   "source": []
  }
 ],
 "metadata": {
  "kernelspec": {
   "display_name": "Python 3",
   "language": "python",
   "name": "python3"
  },
  "language_info": {
   "codemirror_mode": {
    "name": "ipython",
    "version": 3
   },
   "file_extension": ".py",
   "mimetype": "text/x-python",
   "name": "python",
   "nbconvert_exporter": "python",
   "pygments_lexer": "ipython3",
   "version": "3.8.8"
  }
 },
 "nbformat": 4,
 "nbformat_minor": 5
}