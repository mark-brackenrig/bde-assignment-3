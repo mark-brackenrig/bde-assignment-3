{
 "cells": [
  {
   "cell_type": "markdown",
   "id": "1367be46",
   "metadata": {},
   "source": [
    "## Part 1 - Produce Data\n",
    "We elected to use the datagen connector to generate fake data for this assignment. The topic we used was 'stocktrades. The steps were as follows:\n",
    "*  Open a browser and go to http://localhost:9021/\n",
    "*  Select the available cluster\n",
    "*  On the menu bar, select Connect\n",
    "*  Click on the connect-default cluster in the Connect Clusters list.\n",
    "*  Click on Add connector\n",
    "*  Select DatagenConnector\n",
    "*  Enter connector_stock_trades in the Name field\n",
    "\n",
    "Then:\n",
    "Generate a data stream with following configurations:\n",
    "```\n",
    "{\n",
    "  \"name\": \"connector_stock_trades\",\n",
    "  \"connector.class\": \"io.confluent.kafka.connect.datagen.DatagenConnector\",\n",
    "  \"key.converter\": \"org.apache.kafka.connect.storage.StringConverter\",\n",
    "  \"kafka.topic\": \"stocktrades\",\n",
    "  \"max.interval\": \"100\",\n",
    "  \"quickstart\": \"Stock_Trades\"\n",
    "}\n",
    "```\n"
   ]
  },
  {
   "cell_type": "markdown",
   "id": "4e278ace",
   "metadata": {},
   "source": [
    "## Part 2 - Using Ksql to create at least 2 streams with filtering from topics\n",
    "\n",
    "To begin, you need to create a stream called stocktrades with no filtering in place."
   ]
  },
  {
   "cell_type": "raw",
   "id": "6106dcfb",
   "metadata": {},
   "source": [
    "CREATE STREAM STOCKTRADES\n",
    "   (SIDE STRING, QUANTITY INTEGER, SYMBOL STRING, PRICE INTEGER, ACCOUNT STRING, USERID STRING)\n",
    "       WITH (KAFKA_TOPIC='stocktrades', VALUE_FORMAT='AVRO');"
   ]
  },
  {
   "cell_type": "markdown",
   "id": "78cc062c",
   "metadata": {},
   "source": [
    "### Create JSON Stream\n",
    "In order for this to play nicely with spark, we need to mimic the raw stream as a json formatted stream."
   ]
  },
  {
   "cell_type": "raw",
   "id": "2d46f91b",
   "metadata": {},
   "source": [
    "CREATE STREAM STOCKTRADES_JSON WITH (KAFKA_TOPIC='STOCKTRADES_JSON', VALUE_FORMAT='JSON') AS SELECT\n",
    "* FROM STOCKTRADES STOCKTRADES\n",
    "EMIT CHANGES;"
   ]
  },
  {
   "cell_type": "markdown",
   "id": "adb45e43",
   "metadata": {},
   "source": [
    "### Stream 1 - Sell Stream\n",
    "It may be in the interest of the business to view only streams where the stock was sold and not bought. This would be useful in identifying which shares should be taken as a 'short' position"
   ]
  },
  {
   "cell_type": "raw",
   "id": "8e80bdac",
   "metadata": {},
   "source": [
    "CREATE STREAM SELL_TRADES WITH (KAFKA_TOPIC='SELL_TRADES', VALUE_FORMAT='JSON') AS SELECT\n",
    "  STOCKTRADES_JSON.QUANTITY QUANTITY,\n",
    "  STOCKTRADES_JSON.SYMBOL SYMBOL,\n",
    "  STOCKTRADES_JSON.PRICE PRICE,\n",
    "  STOCKTRADES_JSON.ACCOUNT ACCOUNT,\n",
    "  STOCKTRADES_JSON.USERID USERID\n",
    "FROM STOCKTRADES_JSON STOCKTRADES_JSON\n",
    "WHERE (STOCKTRADES_JSON.SIDE = 'SELL')\n",
    "EMIT CHANGES;\n"
   ]
  },
  {
   "cell_type": "markdown",
   "id": "5c16200e",
   "metadata": {},
   "source": [
    "### Stream 2 - Buy Stream\n",
    "It may also be interesting to the business to see trades that were large buys."
   ]
  },
  {
   "cell_type": "raw",
   "id": "600751d8",
   "metadata": {},
   "source": [
    "CREATE STREAM BUY_TRADES WITH (KAFKA_TOPIC='BUY_TRADES', VALUE_FORMAT='JSON') AS SELECT\n",
    "  STOCKTRADES_JSON.QUANTITY QUANTITY,\n",
    "  STOCKTRADES_JSON.SYMBOL SYMBOL,\n",
    "  STOCKTRADES_JSON.PRICE PRICE,\n",
    "  STOCKTRADES_JSON.ACCOUNT ACCOUNT,\n",
    "  STOCKTRADES_JSON.USERID USERID\n",
    "FROM STOCKTRADES_JSON STOCKTRADES_JSON\n",
    "WHERE (STOCKTRADES_JSON.SIDE = 'BUY')\n",
    "EMIT CHANGES;"
   ]
  },
  {
   "cell_type": "markdown",
   "id": "286b689c",
   "metadata": {},
   "source": [
    "### Table 1 - Aggregated Buy Trades\n"
   ]
  },
  {
   "cell_type": "raw",
   "id": "a4599765",
   "metadata": {},
   "source": [
    "CREATE TABLE AGG_BUY_ORDERS WITH (KAFKA_TOPIC='AGG_BUY_ORDERS', VALUE_FORMAT='JSON') AS SELECT\n",
    "  BUY_TRADES.SYMBOL SYMBOL,\n",
    "  SUM(BUY_TRADES.QUANTITY) QUANTITY_AGG,\n",
    "  AVG(BUY_TRADES.PRICE) PRICE_AVG,\n",
    "  SUM((BUY_TRADES.QUANTITY * BUY_TRADES.PRICE)) VALUE_TRADED\n",
    "FROM BUY_TRADES BUY_TRADES\n",
    "WINDOW TUMBLING ( SIZE 60 SECONDS )\n",
    "GROUP BY BUY_TRADES.SYMBOL\n",
    "EMIT CHANGES;\n"
   ]
  },
  {
   "cell_type": "markdown",
   "id": "86e74353",
   "metadata": {},
   "source": [
    "### Table 2 - Aggregated Sell Trades"
   ]
  },
  {
   "cell_type": "raw",
   "id": "e3fb19e5",
   "metadata": {
    "pycharm": {
     "name": "#%% raw\n"
    }
   },
   "source": [
    "CREATE TABLE AGG_SELL_ORDERS WITH (KAFKA_TOPIC='AGG_SELL_ORDERS', VALUE_FORMAT='JSON') AS SELECT\n",
    "  SELL_TRADES.SYMBOL SYMBOL,\n",
    "  SUM(SELL_TRADES.QUANTITY) QUANTITY_AGG,\n",
    "  AVG(SELL_TRADES.PRICE) PRICE_AVG,\n",
    "  SUM((SELL_TRADES.QUANTITY * SELL_TRADES.PRICE)) VALUE_TRADED\n",
    "FROM SELL_TRADES SELL_TRADES\n",
    "WINDOW TUMBLING ( SIZE 60 SECONDS )\n",
    "GROUP BY SELL_TRADES.SYMBOL\n",
    "EMIT CHANGES;"
   ]
  },
  {
   "cell_type": "markdown",
   "id": "ad58836f",
   "metadata": {
    "pycharm": {
     "name": "#%% md\n"
    }
   },
   "source": [
    "## Part 3 - Consume/Transform data with Spark Streaming\n",
    "\n",
    "### Set up Spark Session"
   ]
  },
  {
   "cell_type": "code",
   "execution_count": 1,
   "id": "e46b4c67",
   "metadata": {},
   "outputs": [],
   "source": [
    "from pyspark.sql import SparkSession\n",
    "from IPython.display import display, clear_output\n",
    "import time\n",
    "from pyspark.sql import functions as F\n",
    "from pyspark.sql.types import StructType,StringType, StructField, IntegerType, FloatType, BinaryType"
   ]
  },
  {
   "cell_type": "code",
   "execution_count": 2,
   "id": "160b37d4",
   "metadata": {},
   "outputs": [],
   "source": [
    "spark = SparkSession.builder \\\n",
    "        .appName('kafka') \\\n",
    "        .getOrCreate()"
   ]
  },
  {
   "cell_type": "code",
   "execution_count": 3,
   "id": "a9725882",
   "metadata": {
    "pycharm": {
     "name": "#%%\n"
    }
   },
   "outputs": [
    {
     "data": {
      "text/plain": [
       "'3.1.1'"
      ]
     },
     "execution_count": 3,
     "metadata": {},
     "output_type": "execute_result"
    }
   ],
   "source": [
    "spark.version"
   ]
  },
  {
   "cell_type": "code",
   "execution_count": 4,
   "id": "1f87e187",
   "metadata": {},
   "outputs": [
    {
     "data": {
      "text/plain": [
       "'3.2.0'"
      ]
     },
     "execution_count": 4,
     "metadata": {},
     "output_type": "execute_result"
    }
   ],
   "source": [
    "spark._jvm.org.apache.hadoop.util.VersionInfo.getVersion()"
   ]
  },
  {
   "cell_type": "markdown",
   "id": "084e8dcb",
   "metadata": {
    "pycharm": {
     "name": "#%% md\n"
    }
   },
   "source": [
    "## Building a Stream\n",
    "The code below just walks through how the stream is built. A streamlined function is built for part 3a below.\n",
    "\n",
    "Firstly, we need to connect to our raw JSON stream 'STOCKTRADES_JSON'."
   ]
  },
  {
   "cell_type": "code",
   "execution_count": 5,
   "id": "84790c3a",
   "metadata": {},
   "outputs": [],
   "source": [
    "stream_df = spark \\\n",
    "  .readStream \\\n",
    "  .format(\"kafka\") \\\n",
    "  .option(\"kafka.bootstrap.servers\", \"broker:29092\") \\\n",
    "  .option(\"startingOffsets\", \"earliest\") \\\n",
    "  .option(\"subscribe\", \"STOCKTRADES_JSON\") \\\n",
    "  .load()"
   ]
  },
  {
   "cell_type": "code",
   "execution_count": 6,
   "id": "da16792e",
   "metadata": {},
   "outputs": [
    {
     "name": "stdout",
     "output_type": "stream",
     "text": [
      "root\n",
      " |-- key: binary (nullable = true)\n",
      " |-- value: binary (nullable = true)\n",
      " |-- topic: string (nullable = true)\n",
      " |-- partition: integer (nullable = true)\n",
      " |-- offset: long (nullable = true)\n",
      " |-- timestamp: timestamp (nullable = true)\n",
      " |-- timestampType: integer (nullable = true)\n",
      "\n"
     ]
    }
   ],
   "source": [
    "stream_df.printSchema()"
   ]
  },
  {
   "cell_type": "markdown",
   "id": "2bae7bb9",
   "metadata": {},
   "source": [
    "create a stream to view the output."
   ]
  },
  {
   "cell_type": "code",
   "execution_count": 7,
   "id": "101750a5",
   "metadata": {},
   "outputs": [],
   "source": [
    "raw_stream = stream_df \\\n",
    "    .writeStream \\\n",
    "    .format(\"memory\") \\\n",
    "    .queryName(\"raw_stocktrades_view\") \\\n",
    "    .start()"
   ]
  },
  {
   "cell_type": "code",
   "execution_count": 8,
   "id": "5ea43bec",
   "metadata": {
    "pycharm": {
     "name": "#%%\n"
    }
   },
   "outputs": [
    {
     "name": "stdout",
     "output_type": "stream",
     "text": [
      "+---+-----+\n",
      "|key|value|\n",
      "+---+-----+\n",
      "+---+-----+\n",
      "\n"
     ]
    },
    {
     "data": {
      "text/plain": [
       "None"
      ]
     },
     "metadata": {},
     "output_type": "display_data"
    }
   ],
   "source": [
    "clear_output(wait=True)\n",
    "display(spark.sql('SELECT key, value FROM raw_stocktrades_view').show(20))\n",
    "time.sleep(1)"
   ]
  },
  {
   "cell_type": "markdown",
   "id": "d424ce7a",
   "metadata": {},
   "source": [
    "Despite the key being NULL, the key is equivalent to the `value.symbol` field as shown in confluent. We are happy to proceed without this data."
   ]
  },
  {
   "cell_type": "code",
   "execution_count": 9,
   "id": "7e4d0e41",
   "metadata": {},
   "outputs": [],
   "source": [
    "raw_stream.stop()"
   ]
  },
  {
   "cell_type": "markdown",
   "id": "b68366e1",
   "metadata": {
    "pycharm": {
     "name": "#%% md\n"
    }
   },
   "source": [
    "### Convert Key Value pairs to strings\n",
    "Converting to strings allows us to read the actual content of the key and value. Above the values are in hexadecimal binary, which doesnt make sesne to a human."
   ]
  },
  {
   "cell_type": "code",
   "execution_count": 12,
   "id": "cb6462a1",
   "metadata": {},
   "outputs": [],
   "source": [
    "string_stream_df = stream_df \\\n",
    "    .withColumn(\"key\", stream_df[\"key\"].cast(StringType())) \\\n",
    "      .withColumn('value', stream_df[\"value\"].cast(StringType()))"
   ]
  },
  {
   "cell_type": "code",
   "execution_count": 13,
   "id": "40318434",
   "metadata": {},
   "outputs": [],
   "source": [
    "string_stream = string_stream_df \\\n",
    "    .writeStream \\\n",
    "    .format(\"memory\") \\\n",
    "    .queryName(\"string_stocktrades_view\") \\\n",
    "    .start()"
   ]
  },
  {
   "cell_type": "code",
   "execution_count": 15,
   "id": "a639935b",
   "metadata": {
    "pycharm": {
     "name": "#%%\n"
    }
   },
   "outputs": [
    {
     "name": "stdout",
     "output_type": "stream",
     "text": [
      "+----+--------------------+\n",
      "| key|               value|\n",
      "+----+--------------------+\n",
      "|null|{\"SIDE\":\"BUY\",\"QU...|\n",
      "|null|{\"SIDE\":\"SELL\",\"Q...|\n",
      "|null|{\"SIDE\":\"SELL\",\"Q...|\n",
      "|null|{\"SIDE\":\"BUY\",\"QU...|\n",
      "|null|{\"SIDE\":\"BUY\",\"QU...|\n",
      "|null|{\"SIDE\":\"SELL\",\"Q...|\n",
      "|null|{\"SIDE\":\"BUY\",\"QU...|\n",
      "|null|{\"SIDE\":\"BUY\",\"QU...|\n",
      "|null|{\"SIDE\":\"SELL\",\"Q...|\n",
      "|null|{\"SIDE\":\"SELL\",\"Q...|\n",
      "|null|{\"SIDE\":\"SELL\",\"Q...|\n",
      "|null|{\"SIDE\":\"SELL\",\"Q...|\n",
      "|null|{\"SIDE\":\"SELL\",\"Q...|\n",
      "|null|{\"SIDE\":\"SELL\",\"Q...|\n",
      "|null|{\"SIDE\":\"BUY\",\"QU...|\n",
      "|null|{\"SIDE\":\"BUY\",\"QU...|\n",
      "|null|{\"SIDE\":\"SELL\",\"Q...|\n",
      "|null|{\"SIDE\":\"SELL\",\"Q...|\n",
      "|null|{\"SIDE\":\"SELL\",\"Q...|\n",
      "|null|{\"SIDE\":\"BUY\",\"QU...|\n",
      "+----+--------------------+\n",
      "only showing top 20 rows\n",
      "\n"
     ]
    },
    {
     "data": {
      "text/plain": [
       "None"
      ]
     },
     "metadata": {},
     "output_type": "display_data"
    }
   ],
   "source": [
    "clear_output(wait=True)\n",
    "display(spark.sql('SELECT key, value FROM string_stocktrades_view').show(20))\n",
    "time.sleep(1)"
   ]
  },
  {
   "cell_type": "code",
   "execution_count": 16,
   "id": "74e54c33",
   "metadata": {},
   "outputs": [],
   "source": [
    "string_stream.stop()"
   ]
  },
  {
   "cell_type": "markdown",
   "id": "7c525ff3",
   "metadata": {
    "pycharm": {
     "name": "#%% md\n"
    }
   },
   "source": [
    "## Transformation\n",
    "\n",
    "For future parts, we will need the data in a tidy format, not a JSON format. To do this, we need to outline the JSON structure of the data. and use the inbuilt `from_json` function from Spark to read in the data."
   ]
  },
  {
   "cell_type": "code",
   "execution_count": 17,
   "id": "10de4493",
   "metadata": {},
   "outputs": [],
   "source": [
    "schema_stocktrades =  StructType([\n",
    "        StructField(\"SIDE\", StringType(),  True),\n",
    "        StructField(\"QUANTITY\", IntegerType(),  True),\n",
    "        StructField(\"PRICE\", IntegerType(),  True),\n",
    "        StructField(\"SYMBOL\", StringType(),  True),\n",
    "        StructField(\"ACCOUNT\", StringType(), True),\n",
    "         StructField(\"USERID\", StringType(), True)\n",
    "])"
   ]
  },
  {
   "cell_type": "code",
   "execution_count": 18,
   "id": "e24679a5",
   "metadata": {},
   "outputs": [],
   "source": [
    "json_stream_df = string_stream_df\\\n",
    "    .withColumn(\"value\", F.from_json(\"value\", schema_stocktrades))"
   ]
  },
  {
   "cell_type": "code",
   "execution_count": 19,
   "id": "18fc5ce4",
   "metadata": {},
   "outputs": [
    {
     "name": "stdout",
     "output_type": "stream",
     "text": [
      "root\n",
      " |-- key: string (nullable = true)\n",
      " |-- value: struct (nullable = true)\n",
      " |    |-- SIDE: string (nullable = true)\n",
      " |    |-- QUANTITY: integer (nullable = true)\n",
      " |    |-- PRICE: integer (nullable = true)\n",
      " |    |-- SYMBOL: string (nullable = true)\n",
      " |    |-- ACCOUNT: string (nullable = true)\n",
      " |    |-- USERID: string (nullable = true)\n",
      " |-- topic: string (nullable = true)\n",
      " |-- partition: integer (nullable = true)\n",
      " |-- offset: long (nullable = true)\n",
      " |-- timestamp: timestamp (nullable = true)\n",
      " |-- timestampType: integer (nullable = true)\n",
      "\n"
     ]
    }
   ],
   "source": [
    "json_stream_df.printSchema()"
   ]
  },
  {
   "cell_type": "code",
   "execution_count": 20,
   "id": "422fba1a",
   "metadata": {},
   "outputs": [],
   "source": [
    "json_stream = json_stream_df \\\n",
    "    .writeStream \\\n",
    "    .format(\"memory\") \\\n",
    "    .queryName(\"extract_stocktrades_view\") \\\n",
    "    .start()"
   ]
  },
  {
   "cell_type": "code",
   "execution_count": 24,
   "id": "78750a58",
   "metadata": {
    "pycharm": {
     "name": "#%%\n"
    }
   },
   "outputs": [
    {
     "name": "stdout",
     "output_type": "stream",
     "text": [
      "+----+----------------------------------------+----------------+---------+------+-----------------------+-------------+\n",
      "|key |value                                   |topic           |partition|offset|timestamp              |timestampType|\n",
      "+----+----------------------------------------+----------------+---------+------+-----------------------+-------------+\n",
      "|null|{BUY, 1934, 893, ZTEST, ABC123, User_8} |STOCKTRADES_JSON|0        |0     |2021-06-11 00:40:34.802|0            |\n",
      "|null|{SELL, 1401, 379, ZVV, ABC123, User_4}  |STOCKTRADES_JSON|0        |1     |2021-06-11 00:40:34.837|0            |\n",
      "|null|{SELL, 2310, 848, ZJZZT, LMN456, User_6}|STOCKTRADES_JSON|0        |2     |2021-06-11 00:40:34.897|0            |\n",
      "|null|{BUY, 35, 845, ZWZZT, LMN456, User_2}   |STOCKTRADES_JSON|0        |3     |2021-06-11 00:40:34.989|0            |\n",
      "|null|{BUY, 3883, 503, ZBZX, ABC123, User_8}  |STOCKTRADES_JSON|0        |4     |2021-06-11 00:40:35.077|0            |\n",
      "|null|{SELL, 2137, 88, ZWZZT, ABC123, User_5} |STOCKTRADES_JSON|0        |5     |2021-06-11 00:40:35.108|0            |\n",
      "|null|{BUY, 3459, 21, ZBZX, XYZ789, User_6}   |STOCKTRADES_JSON|0        |6     |2021-06-11 00:40:35.138|0            |\n",
      "|null|{BUY, 828, 253, ZBZX, XYZ789, User_5}   |STOCKTRADES_JSON|0        |7     |2021-06-11 00:40:35.206|0            |\n",
      "|null|{SELL, 3058, 791, ZVV, LMN456, User_7}  |STOCKTRADES_JSON|0        |8     |2021-06-11 00:40:35.293|0            |\n",
      "|null|{SELL, 937, 399, ZXZZT, ABC123, User_6} |STOCKTRADES_JSON|0        |9     |2021-06-11 00:40:35.346|0            |\n",
      "|null|{SELL, 1856, 348, ZBZX, LMN456, User_9} |STOCKTRADES_JSON|0        |10    |2021-06-11 00:40:35.374|0            |\n",
      "|null|{SELL, 3680, 168, ZBZX, XYZ789, User_1} |STOCKTRADES_JSON|0        |11    |2021-06-11 00:40:35.459|0            |\n",
      "|null|{SELL, 3488, 920, ZTEST, LMN456, User_6}|STOCKTRADES_JSON|0        |12    |2021-06-11 00:40:35.473|0            |\n",
      "|null|{SELL, 1134, 690, ZBZX, XYZ789, User_9} |STOCKTRADES_JSON|0        |13    |2021-06-11 00:40:35.495|0            |\n",
      "|null|{BUY, 4767, 657, ZWZZT, ABC123, User_9} |STOCKTRADES_JSON|0        |14    |2021-06-11 00:40:35.565|0            |\n",
      "|null|{BUY, 2685, 662, ZWZZT, XYZ789, User_2} |STOCKTRADES_JSON|0        |15    |2021-06-11 00:40:35.57 |0            |\n",
      "|null|{SELL, 4504, 822, ZVZZT, XYZ789, User_7}|STOCKTRADES_JSON|0        |16    |2021-06-11 00:40:35.617|0            |\n",
      "|null|{SELL, 1806, 194, ZTEST, ABC123, User_3}|STOCKTRADES_JSON|0        |17    |2021-06-11 00:40:35.638|0            |\n",
      "|null|{SELL, 4687, 882, ZJZZT, LMN456, User_9}|STOCKTRADES_JSON|0        |18    |2021-06-11 00:40:35.735|0            |\n",
      "|null|{BUY, 4561, 428, ZJZZT, XYZ789, User_9} |STOCKTRADES_JSON|0        |19    |2021-06-11 00:40:35.789|0            |\n",
      "+----+----------------------------------------+----------------+---------+------+-----------------------+-------------+\n",
      "only showing top 20 rows\n",
      "\n"
     ]
    },
    {
     "data": {
      "text/plain": [
       "None"
      ]
     },
     "metadata": {},
     "output_type": "display_data"
    }
   ],
   "source": [
    "clear_output(wait=True)\n",
    "display(spark.sql('SELECT * FROM extract_stocktrades_view').show(20, False))\n",
    "time.sleep(1)"
   ]
  },
  {
   "cell_type": "code",
   "execution_count": 25,
   "id": "574db027",
   "metadata": {},
   "outputs": [],
   "source": [
    "json_stream.stop()"
   ]
  },
  {
   "cell_type": "markdown",
   "id": "5135ee95",
   "metadata": {
    "pycharm": {
     "name": "#%% md\n"
    }
   },
   "source": [
    "### Flatten Data\n",
    "Finally, we need to separate the data that is in the value field into individual columns."
   ]
  },
  {
   "cell_type": "code",
   "execution_count": 26,
   "id": "7fe09636",
   "metadata": {},
   "outputs": [],
   "source": [
    "stocktrades_stream_df = json_stream_df \\\n",
    "    .select( \\\n",
    "        F.col(\"key\").alias(\"event_key\"), \\\n",
    "        F.col(\"topic\").alias(\"event_topic\"), \\\n",
    "        F.col(\"timestamp\").alias(\"event_timestamp\"), \\\n",
    "        \"value.side\", \\\n",
    "        \"value.quantity\", \\\n",
    "        \"value.price\", \\\n",
    "        \"value.symbol\", \\\n",
    "        \"value.account\", \\\n",
    "        \"value.userid\"\n",
    "    )"
   ]
  },
  {
   "cell_type": "code",
   "execution_count": 27,
   "id": "c1d26743",
   "metadata": {},
   "outputs": [
    {
     "name": "stdout",
     "output_type": "stream",
     "text": [
      "root\n",
      " |-- event_key: string (nullable = true)\n",
      " |-- event_topic: string (nullable = true)\n",
      " |-- event_timestamp: timestamp (nullable = true)\n",
      " |-- side: string (nullable = true)\n",
      " |-- quantity: integer (nullable = true)\n",
      " |-- price: integer (nullable = true)\n",
      " |-- symbol: string (nullable = true)\n",
      " |-- account: string (nullable = true)\n",
      " |-- userid: string (nullable = true)\n",
      "\n"
     ]
    }
   ],
   "source": [
    "stocktrades_stream_df.printSchema()"
   ]
  },
  {
   "cell_type": "code",
   "execution_count": 28,
   "id": "e87cb0a1",
   "metadata": {},
   "outputs": [],
   "source": [
    "stocktrades_stream = stocktrades_stream_df \\\n",
    "    .writeStream \\\n",
    "    .format(\"memory\") \\\n",
    "    .queryName(\"stocktrades_view\") \\\n",
    "    .start()"
   ]
  },
  {
   "cell_type": "code",
   "execution_count": 32,
   "id": "2d45f0e5",
   "metadata": {
    "pycharm": {
     "name": "#%%\n"
    }
   },
   "outputs": [
    {
     "name": "stdout",
     "output_type": "stream",
     "text": [
      "+---------+----------------+--------------------+----+--------+-----+------+-------+------+\n",
      "|event_key|     event_topic|     event_timestamp|side|quantity|price|symbol|account|userid|\n",
      "+---------+----------------+--------------------+----+--------+-----+------+-------+------+\n",
      "|     null|STOCKTRADES_JSON|2021-06-11 00:40:...| BUY|    1934|  893| ZTEST| ABC123|User_8|\n",
      "|     null|STOCKTRADES_JSON|2021-06-11 00:40:...|SELL|    1401|  379|   ZVV| ABC123|User_4|\n",
      "|     null|STOCKTRADES_JSON|2021-06-11 00:40:...|SELL|    2310|  848| ZJZZT| LMN456|User_6|\n",
      "|     null|STOCKTRADES_JSON|2021-06-11 00:40:...| BUY|      35|  845| ZWZZT| LMN456|User_2|\n",
      "|     null|STOCKTRADES_JSON|2021-06-11 00:40:...| BUY|    3883|  503|  ZBZX| ABC123|User_8|\n",
      "|     null|STOCKTRADES_JSON|2021-06-11 00:40:...|SELL|    2137|   88| ZWZZT| ABC123|User_5|\n",
      "|     null|STOCKTRADES_JSON|2021-06-11 00:40:...| BUY|    3459|   21|  ZBZX| XYZ789|User_6|\n",
      "|     null|STOCKTRADES_JSON|2021-06-11 00:40:...| BUY|     828|  253|  ZBZX| XYZ789|User_5|\n",
      "|     null|STOCKTRADES_JSON|2021-06-11 00:40:...|SELL|    3058|  791|   ZVV| LMN456|User_7|\n",
      "|     null|STOCKTRADES_JSON|2021-06-11 00:40:...|SELL|     937|  399| ZXZZT| ABC123|User_6|\n",
      "|     null|STOCKTRADES_JSON|2021-06-11 00:40:...|SELL|    1856|  348|  ZBZX| LMN456|User_9|\n",
      "|     null|STOCKTRADES_JSON|2021-06-11 00:40:...|SELL|    3680|  168|  ZBZX| XYZ789|User_1|\n",
      "|     null|STOCKTRADES_JSON|2021-06-11 00:40:...|SELL|    3488|  920| ZTEST| LMN456|User_6|\n",
      "|     null|STOCKTRADES_JSON|2021-06-11 00:40:...|SELL|    1134|  690|  ZBZX| XYZ789|User_9|\n",
      "|     null|STOCKTRADES_JSON|2021-06-11 00:40:...| BUY|    4767|  657| ZWZZT| ABC123|User_9|\n",
      "|     null|STOCKTRADES_JSON|2021-06-11 00:40:...| BUY|    2685|  662| ZWZZT| XYZ789|User_2|\n",
      "|     null|STOCKTRADES_JSON|2021-06-11 00:40:...|SELL|    4504|  822| ZVZZT| XYZ789|User_7|\n",
      "|     null|STOCKTRADES_JSON|2021-06-11 00:40:...|SELL|    1806|  194| ZTEST| ABC123|User_3|\n",
      "|     null|STOCKTRADES_JSON|2021-06-11 00:40:...|SELL|    4687|  882| ZJZZT| LMN456|User_9|\n",
      "|     null|STOCKTRADES_JSON|2021-06-11 00:40:...| BUY|    4561|  428| ZJZZT| XYZ789|User_9|\n",
      "+---------+----------------+--------------------+----+--------+-----+------+-------+------+\n",
      "only showing top 20 rows\n",
      "\n"
     ]
    },
    {
     "data": {
      "text/plain": [
       "None"
      ]
     },
     "metadata": {},
     "output_type": "display_data"
    }
   ],
   "source": [
    "clear_output(wait=True)\n",
    "display(spark.sql('SELECT * FROM stocktrades_view').show(20))\n",
    "time.sleep(1)"
   ]
  },
  {
   "cell_type": "code",
   "execution_count": 33,
   "id": "8063844c",
   "metadata": {},
   "outputs": [],
   "source": [
    "stocktrades_stream.stop()"
   ]
  },
  {
   "cell_type": "markdown",
   "id": "9d3f9bcd",
   "metadata": {
    "pycharm": {
     "name": "#%% md\n"
    }
   },
   "source": [
    "## Part 3a - Build at least 2 Spark Streaming dataframes\n",
    "This function generates a stream from stocktrades with one line of code so its easier to call in later components. It is equivalent to the structure outlined above. "
   ]
  },
  {
   "cell_type": "code",
   "execution_count": 5,
   "id": "8bab9054",
   "metadata": {
    "collapsed": false,
    "jupyter": {
     "outputs_hidden": false
    },
    "pycharm": {
     "name": "#%%\n"
    }
   },
   "outputs": [],
   "source": [
    "def generate_stocktrades_stream(keep_stream = False):\n",
    "    \n",
    "    # Define the raw Spark Stream\n",
    "    stream_df = spark \\\n",
    "      .readStream \\\n",
    "      .format(\"kafka\") \\\n",
    "      .option(\"kafka.bootstrap.servers\", \"broker:29092\") \\\n",
    "      .option(\"startingOffsets\", \"latest\") \\\n",
    "      .option(\"subscribe\", \"STOCKTRADES_JSON\") \\\n",
    "      .load()\n",
    "    \n",
    "    # Convert to string types for JSON conversion\n",
    "    string_stream_df = stream_df \\\n",
    "        .withColumn(\"key\", stream_df[\"key\"].cast(StringType())) \\\n",
    "        .withColumn('value', stream_df[\"value\"].cast(StringType()))\n",
    "    \n",
    "    # Define the Schema for the end JSON format\n",
    "    schema_stocktrades =  StructType([\n",
    "        StructField(\"SIDE\", StringType(),  True),\n",
    "        StructField(\"QUANTITY\", IntegerType(),  True),\n",
    "        StructField(\"PRICE\", IntegerType(),  True),\n",
    "        StructField(\"SYMBOL\", StringType(),  True),\n",
    "        StructField(\"ACCOUNT\", StringType(), True),\n",
    "        StructField(\"USERID\", StringType(), True)\n",
    "])\n",
    "    # Convert the string type to json format stream\n",
    "    json_stream_df = string_stream_df\\\n",
    "    .withColumn(\"value\", F.from_json(\"value\", schema_stocktrades))\n",
    "    stocktrades_stream_df = json_stream_df \\\n",
    "    .select( \\\n",
    "        F.col(\"key\").alias(\"event_key\"), \\\n",
    "        F.col(\"topic\").alias(\"event_topic\"), \\\n",
    "        F.col(\"timestamp\").alias(\"event_timestamp\"), \\\n",
    "        \"value.side\", \\\n",
    "        \"value.quantity\", \\\n",
    "        \"value.price\", \\\n",
    "        \"value.symbol\", \\\n",
    "        \"value.account\", \\\n",
    "        \"value.userid\"\n",
    "    )\n",
    "    \n",
    "    # Export a queryable view od the stream\n",
    "    \n",
    "    if not keep_stream:\n",
    "        return stocktrades_stream_df \\\n",
    "        .writeStream \\\n",
    "        .format(\"memory\") \\\n",
    "        .queryName(\"stocktrades_view\") \\\n",
    "        .start()\n",
    "    else:\n",
    "        return stocktrades_stream_df \\\n",
    "        .writeStream \\\n",
    "        .format(\"memory\") \\\n",
    "        .queryName(\"stocktrades_view\") \\\n",
    "        .start(), stocktrades_stream_df"
   ]
  },
  {
   "cell_type": "code",
   "execution_count": 11,
   "id": "2c17730e",
   "metadata": {},
   "outputs": [],
   "source": [
    "stocktrades_stream = generate_stocktrades_stream()"
   ]
  },
  {
   "cell_type": "code",
   "execution_count": 12,
   "id": "cbd15ba5",
   "metadata": {},
   "outputs": [
    {
     "name": "stdout",
     "output_type": "stream",
     "text": [
      "+---------+----------------+--------------------+----+--------+-----+------+-------+------+\n",
      "|event_key|     event_topic|     event_timestamp|side|quantity|price|symbol|account|userid|\n",
      "+---------+----------------+--------------------+----+--------+-----+------+-------+------+\n",
      "|     null|STOCKTRADES_JSON|2021-06-11 07:09:...| BUY|    3765|  589| ZJZZT| ABC123|User_7|\n",
      "|     null|STOCKTRADES_JSON|2021-06-11 07:09:...|SELL|    1090|  207| ZVZZT| ABC123|User_5|\n",
      "|     null|STOCKTRADES_JSON|2021-06-11 07:09:...|SELL|    1387|  942| ZTEST| ABC123|User_4|\n",
      "|     null|STOCKTRADES_JSON|2021-06-11 07:09:...|SELL|    2727|  902| ZWZZT| LMN456|User_6|\n",
      "+---------+----------------+--------------------+----+--------+-----+------+-------+------+\n",
      "\n"
     ]
    },
    {
     "data": {
      "text/plain": [
       "None"
      ]
     },
     "metadata": {},
     "output_type": "display_data"
    }
   ],
   "source": [
    "clear_output(wait=True)\n",
    "display(spark.sql('SELECT * FROM stocktrades_view').show(20))\n",
    "time.sleep(1)"
   ]
  },
  {
   "cell_type": "code",
   "execution_count": 13,
   "id": "9715d99d",
   "metadata": {},
   "outputs": [],
   "source": [
    "stocktrades_stream.stop()"
   ]
  },
  {
   "cell_type": "markdown",
   "id": "0865f022",
   "metadata": {},
   "source": [
    "### Second Query"
   ]
  },
  {
   "cell_type": "code",
   "execution_count": 14,
   "id": "af6ef549",
   "metadata": {},
   "outputs": [],
   "source": [
    "# Create function to stream filtered streams from Kafka as streaming dataframes\n",
    "def generate_side_stream(SIDE):\n",
    "    '''\n",
    "    This function generates a stream for the BUY and SELL topics.\n",
    "    \n",
    "    @param SIDE: 'BUY' OR 'SELL'\n",
    "    '''\n",
    "    # Create string for source\n",
    "    source_stream = SIDE + \"_TRADES\"\n",
    "    # Define the raw Spark Stream\n",
    "    \n",
    "    stream_df = spark \\\n",
    "      .readStream \\\n",
    "      .format(\"kafka\") \\\n",
    "      .option(\"kafka.bootstrap.servers\", \"broker:29092\") \\\n",
    "      .option(\"startingOffsets\", \"latest\") \\\n",
    "      .option(\"subscribe\", source_stream) \\\n",
    "      .load()\n",
    "    \n",
    "    # Convert to string types for JSON conversion\n",
    "    string_stream_df = stream_df \\\n",
    "        .withColumn(\"key\", stream_df[\"key\"].cast(StringType())) \\\n",
    "        .withColumn('value', stream_df[\"value\"].cast(StringType()))\n",
    "    \n",
    "    # Define the Schema for the end JSON format\n",
    "    schema_stocktrades =  StructType([\n",
    "        StructField(\"QUANTITY\", IntegerType(),  True),\n",
    "        StructField(\"PRICE\", IntegerType(),  True),\n",
    "        StructField(\"SYMBOL\", StringType(),  True),\n",
    "        StructField(\"ACCOUNT\", StringType(), True),\n",
    "        StructField(\"USERID\", StringType(), True)\n",
    "])\n",
    "    # Convert the string type to json format stream\n",
    "    json_stream_df = string_stream_df\\\n",
    "    .withColumn(\"value\", F.from_json(\"value\", schema_stocktrades))\n",
    "    stocktrades_stream_df = json_stream_df \\\n",
    "    .select( \\\n",
    "        F.col(\"key\").alias(\"event_key\"), \\\n",
    "        F.col(\"topic\").alias(\"event_topic\"), \\\n",
    "        F.col(\"timestamp\").alias(\"event_timestamp\"), \\\n",
    "        \"value.quantity\", \\\n",
    "        \"value.price\", \\\n",
    "        \"value.symbol\", \\\n",
    "        \"value.account\", \\\n",
    "        \"value.userid\"\n",
    "    )\n",
    "    \n",
    "    # Export a queryable view od the stream\n",
    "    return stocktrades_stream_df \\\n",
    "    .writeStream \\\n",
    "    .format(\"memory\") \\\n",
    "    .queryName(SIDE + '_view') \\\n",
    "    .start()"
   ]
  },
  {
   "cell_type": "code",
   "execution_count": 15,
   "id": "1e162328",
   "metadata": {},
   "outputs": [],
   "source": [
    "# Create views of the buy and sell streams\n",
    "BUY_stream = generate_side_stream('BUY')\n",
    "SELL_stream = generate_side_stream('SELL')"
   ]
  },
  {
   "cell_type": "code",
   "execution_count": 16,
   "id": "9016924e",
   "metadata": {},
   "outputs": [
    {
     "name": "stdout",
     "output_type": "stream",
     "text": [
      "+---------+-----------+--------------------+--------+-----+------+-------+------+\n",
      "|event_key|event_topic|     event_timestamp|quantity|price|symbol|account|userid|\n",
      "+---------+-----------+--------------------+--------+-----+------+-------+------+\n",
      "|     null| BUY_TRADES|2021-06-11 07:09:...|    2366|  269| ZJZZT| ABC123|User_6|\n",
      "|     null| BUY_TRADES|2021-06-11 07:09:...|    2677|  997| ZJZZT| LMN456|User_7|\n",
      "|     null| BUY_TRADES|2021-06-11 07:09:...|    1417|  236| ZTEST| LMN456|User_5|\n",
      "|     null| BUY_TRADES|2021-06-11 07:09:...|    4237|  906|  ZBZX| ABC123|User_9|\n",
      "|     null| BUY_TRADES|2021-06-11 07:09:...|    1884|  739| ZWZZT| LMN456|User_7|\n",
      "|     null| BUY_TRADES|2021-06-11 07:09:...|    2545|  576| ZVZZT| XYZ789|User_2|\n",
      "|     null| BUY_TRADES|2021-06-11 07:09:...|    1073|  772| ZTEST| LMN456|User_3|\n",
      "|     null| BUY_TRADES|2021-06-11 07:09:...|    4572|  993|  ZBZX| ABC123|User_1|\n",
      "+---------+-----------+--------------------+--------+-----+------+-------+------+\n",
      "\n"
     ]
    },
    {
     "data": {
      "text/plain": [
       "None"
      ]
     },
     "metadata": {},
     "output_type": "display_data"
    }
   ],
   "source": [
    "# Show results (limit 20) of stream\n",
    "clear_output(wait=True)\n",
    "display(spark.sql('SELECT * FROM BUY_view').show(20))\n",
    "time.sleep(1)"
   ]
  },
  {
   "cell_type": "code",
   "execution_count": 17,
   "id": "06b5a08f",
   "metadata": {},
   "outputs": [
    {
     "name": "stdout",
     "output_type": "stream",
     "text": [
      "+---------+-----------+--------------------+--------+-----+------+-------+------+\n",
      "|event_key|event_topic|     event_timestamp|quantity|price|symbol|account|userid|\n",
      "+---------+-----------+--------------------+--------+-----+------+-------+------+\n",
      "|     null|SELL_TRADES|2021-06-11 07:09:...|    1116|  578| ZTEST| ABC123|User_1|\n",
      "|     null|SELL_TRADES|2021-06-11 07:09:...|    2942|  172| ZVZZT| LMN456|User_7|\n",
      "|     null|SELL_TRADES|2021-06-11 07:09:...|    4191|  254| ZVZZT| ABC123|User_1|\n",
      "|     null|SELL_TRADES|2021-06-11 07:09:...|    2499|  802| ZWZZT| LMN456|User_5|\n",
      "|     null|SELL_TRADES|2021-06-11 07:09:...|    3006|  280| ZWZZT| LMN456|User_3|\n",
      "|     null|SELL_TRADES|2021-06-11 07:09:...|     236|  429| ZVZZT| XYZ789|User_6|\n",
      "|     null|SELL_TRADES|2021-06-11 07:09:...|    3329|  270|  ZBZX| ABC123|User_6|\n",
      "|     null|SELL_TRADES|2021-06-11 07:09:...|    3458|  871| ZVZZT| ABC123|User_6|\n",
      "|     null|SELL_TRADES|2021-06-11 07:09:...|    2769|  912|   ZVV| LMN456|User_2|\n",
      "|     null|SELL_TRADES|2021-06-11 07:09:...|    3481|  111| ZJZZT| XYZ789|User_9|\n",
      "|     null|SELL_TRADES|2021-06-11 07:09:...|    1046|  243| ZXZZT| ABC123|User_3|\n",
      "|     null|SELL_TRADES|2021-06-11 07:09:...|    3801|  595| ZVZZT| XYZ789|User_3|\n",
      "|     null|SELL_TRADES|2021-06-11 07:09:...|    1711|  632| ZVZZT| ABC123|User_9|\n",
      "|     null|SELL_TRADES|2021-06-11 07:09:...|    2665|  318| ZXZZT| ABC123|User_1|\n",
      "|     null|SELL_TRADES|2021-06-11 07:09:...|    4177|  847| ZTEST| LMN456|User_5|\n",
      "|     null|SELL_TRADES|2021-06-11 07:09:...|    2256|  305| ZWZZT| ABC123|User_7|\n",
      "|     null|SELL_TRADES|2021-06-11 07:09:...|    4572|  827|  ZBZX| LMN456|User_9|\n",
      "|     null|SELL_TRADES|2021-06-11 07:09:...|    4460|  632| ZWZZT| XYZ789|User_2|\n",
      "|     null|SELL_TRADES|2021-06-11 07:09:...|    4273|  675| ZXZZT| XYZ789|User_3|\n",
      "|     null|SELL_TRADES|2021-06-11 07:09:...|    4690|  711| ZVZZT| XYZ789|User_2|\n",
      "+---------+-----------+--------------------+--------+-----+------+-------+------+\n",
      "only showing top 20 rows\n",
      "\n"
     ]
    },
    {
     "data": {
      "text/plain": [
       "None"
      ]
     },
     "metadata": {},
     "output_type": "display_data"
    }
   ],
   "source": [
    "# Show results (limit 20) of stream\n",
    "clear_output(wait=True)\n",
    "display(spark.sql('SELECT * FROM SELL_view').show(20))\n",
    "time.sleep(1)"
   ]
  },
  {
   "cell_type": "code",
   "execution_count": 18,
   "id": "943131ea",
   "metadata": {},
   "outputs": [],
   "source": [
    "# Stop the two streams\n",
    "BUY_stream.stop()\n",
    "SELL_stream.stop()"
   ]
  },
  {
   "cell_type": "markdown",
   "id": "6a5c74c9",
   "metadata": {},
   "source": [
    "## Part 3b - Build 1 window stream with a watermark"
   ]
  },
  {
   "cell_type": "code",
   "execution_count": 19,
   "id": "aca038bd",
   "metadata": {},
   "outputs": [],
   "source": [
    "# Restart the raw data data frame\n",
    "raw_stream, raw_stream_df = generate_stocktrades_stream(True)\n",
    "\n",
    "# Create parameters for the window stream\n",
    "window_duration = '60 seconds'\n",
    "slide_duration = '10 seconds'\n",
    "time.sleep(10)"
   ]
  },
  {
   "cell_type": "code",
   "execution_count": 20,
   "id": "b20d0f56",
   "metadata": {},
   "outputs": [],
   "source": [
    "# Create the windowed stream (this groups by symbol and then counts the numbers of trades in the window, quantity of shares traded and the average price traded)\n",
    "windowed_agg_df = raw_stream_df \\\n",
    "    .withWatermark('event_timestamp', '1 minutes') \\\n",
    "    .groupBy(F.window(raw_stream_df.event_timestamp, window_duration, slide_duration), raw_stream_df.symbol) \\\n",
    "    .agg(F.count('SYMBOL').alias('no_trades'), \\\n",
    "    F.sum('QUANTITY').alias('tot_quantity'), \\\n",
    "    F.avg('PRICE').alias('avg_price') \\\n",
    "     )"
   ]
  },
  {
   "cell_type": "code",
   "execution_count": 21,
   "id": "90f80c54",
   "metadata": {},
   "outputs": [],
   "source": [
    "# Export the stream as a qeuryable view\n",
    "windowed_agg_stream = windowed_agg_df \\\n",
    "                        .writeStream \\\n",
    "                        .format(\"memory\") \\\n",
    "                        .outputMode(\"Complete\") \\\n",
    "                        .queryName(\"windowed_view\") \\\n",
    "                        .start()"
   ]
  },
  {
   "cell_type": "code",
   "execution_count": 22,
   "id": "74aa8bf5",
   "metadata": {},
   "outputs": [
    {
     "name": "stdout",
     "output_type": "stream",
     "text": [
      "+--------------------+------+---------+------------+------------------+\n",
      "|              window|symbol|no_trades|tot_quantity|         avg_price|\n",
      "+--------------------+------+---------+------------+------------------+\n",
      "|{2021-06-11 07:09...| ZVZZT|       37|       96950| 524.2162162162163|\n",
      "|{2021-06-11 07:08...|  ZBZX|       10|       25396|             492.2|\n",
      "|{2021-06-11 07:09...|  ZBZX|       38|       99824|482.07894736842104|\n",
      "|{2021-06-11 07:08...|   ZVV|       16|       37495|          522.5625|\n",
      "|{2021-06-11 07:09...| ZTEST|       42|       93913| 541.3809523809524|\n",
      "|{2021-06-11 07:09...| ZXZZT|       51|      142049| 440.2549019607843|\n",
      "|{2021-06-11 07:09...| ZWZZT|       38|      100884| 549.7631578947369|\n",
      "|{2021-06-11 07:09...|  ZBZX|       39|      103859| 477.7435897435897|\n",
      "|{2021-06-11 07:09...| ZWZZT|       36|       95099| 537.5833333333334|\n",
      "|{2021-06-11 07:09...| ZWZZT|       38|      100884| 549.7631578947369|\n",
      "|{2021-06-11 07:09...| ZTEST|       42|       93913| 541.3809523809524|\n",
      "|{2021-06-11 07:09...|   ZVV|       46|      125861|476.30434782608694|\n",
      "|{2021-06-11 07:10...|   ZVV|        1|        4828|             568.0|\n",
      "|{2021-06-11 07:09...| ZJZZT|       46|      113652|             499.0|\n",
      "|{2021-06-11 07:08...| ZXZZT|       18|       50550|408.27777777777777|\n",
      "|{2021-06-11 07:10...| ZXZZT|        4|       12572|             204.5|\n",
      "|{2021-06-11 07:09...|   ZVV|       47|      130689|478.25531914893617|\n",
      "|{2021-06-11 07:09...| ZVZZT|       37|       96950| 524.2162162162163|\n",
      "|{2021-06-11 07:09...| ZXZZT|       51|      142049| 440.2549019607843|\n",
      "|{2021-06-11 07:09...| ZVZZT|       37|       96950| 524.2162162162163|\n",
      "+--------------------+------+---------+------------+------------------+\n",
      "only showing top 20 rows\n",
      "\n"
     ]
    },
    {
     "data": {
      "text/plain": [
       "None"
      ]
     },
     "metadata": {},
     "output_type": "display_data"
    }
   ],
   "source": [
    "clear_output(wait=True)\n",
    "display(spark.sql('SELECT * FROM windowed_view').show())\n",
    "time.sleep(1)"
   ]
  },
  {
   "cell_type": "code",
   "execution_count": 23,
   "id": "23f064a0",
   "metadata": {},
   "outputs": [],
   "source": [
    "raw_stream.stop()"
   ]
  },
  {
   "cell_type": "code",
   "execution_count": 24,
   "id": "b029bdcd",
   "metadata": {},
   "outputs": [],
   "source": [
    "windowed_agg_stream.stop()"
   ]
  },
  {
   "cell_type": "markdown",
   "id": "e3e00bb0",
   "metadata": {},
   "source": [
    "## Part 3c - Build at least 1 spark query"
   ]
  },
  {
   "cell_type": "code",
   "execution_count": 25,
   "id": "cf2eb2bf",
   "metadata": {},
   "outputs": [],
   "source": [
    "stocktrade_stream_df = generate_stocktrades_stream()"
   ]
  },
  {
   "cell_type": "code",
   "execution_count": 26,
   "id": "2cefa330",
   "metadata": {},
   "outputs": [],
   "source": [
    "query = \"select * from stocktrades_view WHERE price > 800\""
   ]
  },
  {
   "cell_type": "code",
   "execution_count": 27,
   "id": "54ff7c5a",
   "metadata": {},
   "outputs": [
    {
     "name": "stdout",
     "output_type": "stream",
     "text": [
      "+---------+----------------+--------------------+----+--------+-----+------+-------+------+\n",
      "|event_key|     event_topic|     event_timestamp|side|quantity|price|symbol|account|userid|\n",
      "+---------+----------------+--------------------+----+--------+-----+------+-------+------+\n",
      "|     null|STOCKTRADES_JSON| 2021-06-11 07:10:19| BUY|    3239|  976|   ZVV| LMN456|User_1|\n",
      "|     null|STOCKTRADES_JSON|2021-06-11 07:10:...| BUY|    1703|  963|   ZVV| LMN456|User_6|\n",
      "|     null|STOCKTRADES_JSON|2021-06-11 07:10:...|SELL|    3653|  801|  ZBZX| LMN456|User_3|\n",
      "|     null|STOCKTRADES_JSON|2021-06-11 07:10:...| BUY|    1273|  813|  ZBZX| LMN456|User_4|\n",
      "|     null|STOCKTRADES_JSON|2021-06-11 07:10:...| BUY|    3885|  988| ZWZZT| LMN456|User_8|\n",
      "|     null|STOCKTRADES_JSON|2021-06-11 07:10:...|SELL|    1337|  972|  ZBZX| XYZ789|User_4|\n",
      "|     null|STOCKTRADES_JSON|2021-06-11 07:10:...|SELL|    2297|  832| ZWZZT| ABC123|User_3|\n",
      "|     null|STOCKTRADES_JSON|2021-06-11 07:10:...| BUY|    1070|  985|   ZVV| LMN456|User_9|\n",
      "|     null|STOCKTRADES_JSON|2021-06-11 07:10:...|SELL|     159|  938|  ZBZX| XYZ789|User_2|\n",
      "|     null|STOCKTRADES_JSON|2021-06-11 07:10:...|SELL|    1323|  917| ZJZZT| LMN456|User_5|\n",
      "|     null|STOCKTRADES_JSON|2021-06-11 07:10:...|SELL|     645|  972| ZWZZT| ABC123|User_7|\n",
      "|     null|STOCKTRADES_JSON|2021-06-11 07:10:...| BUY|     744|  956| ZTEST| LMN456|User_8|\n",
      "|     null|STOCKTRADES_JSON|2021-06-11 07:10:...|SELL|     537|  984|  ZBZX| ABC123|User_4|\n",
      "|     null|STOCKTRADES_JSON|2021-06-11 07:10:...|SELL|    1932|  873| ZTEST| ABC123|User_8|\n",
      "+---------+----------------+--------------------+----+--------+-----+------+-------+------+\n",
      "\n"
     ]
    },
    {
     "data": {
      "text/plain": [
       "None"
      ]
     },
     "metadata": {},
     "output_type": "display_data"
    }
   ],
   "source": [
    "# Show results (limit 20) of stream\n",
    "clear_output(wait=True)\n",
    "display(spark.sql(query).show(20))\n",
    "time.sleep(1)"
   ]
  },
  {
   "cell_type": "code",
   "execution_count": 28,
   "id": "980055c0",
   "metadata": {},
   "outputs": [],
   "source": [
    "stocktrade_stream_df.stop()"
   ]
  },
  {
   "cell_type": "markdown",
   "id": "00510d08",
   "metadata": {},
   "source": [
    "## Part 3d - Export your spark queries into parquets stocktrade_stream"
   ]
  },
  {
   "cell_type": "code",
   "execution_count": 29,
   "id": "42208868",
   "metadata": {},
   "outputs": [],
   "source": [
    "stocktrade_stream_df, raw_stream_df = generate_stocktrades_stream(True)\n",
    "\n"
   ]
  },
  {
   "cell_type": "code",
   "execution_count": 30,
   "id": "3ca46e20",
   "metadata": {},
   "outputs": [
    {
     "data": {
      "text/plain": [
       "<pyspark.sql.streaming.StreamingQuery at 0x7f3cf0249bb0>"
      ]
     },
     "execution_count": 30,
     "metadata": {},
     "output_type": "execute_result"
    }
   ],
   "source": [
    "raw_stream_df.writeStream \\\n",
    "                .format(\"parquet\") \\\n",
    "                .option(\"header\", True) \\\n",
    "                .option(\"path\", \"../data/parquet_output\") \\\n",
    "                .option(\"checkpointLocation\", \"checkpoint/data\") \\\n",
    "                .outputMode(\"append\") \\\n",
    "                .trigger(once=True) \\\n",
    "                .start()"
   ]
  },
  {
   "cell_type": "code",
   "execution_count": 42,
   "id": "2378bd08",
   "metadata": {},
   "outputs": [],
   "source": [
    "stocktrade_stream_df.stop()"
   ]
  },
  {
   "cell_type": "markdown",
   "id": "d7e9db40",
   "metadata": {},
   "source": [
    "## Part 3e - build at least 1 visualisation which will be refreshed at regular interval"
   ]
  },
  {
   "cell_type": "code",
   "execution_count": 6,
   "id": "74538f16",
   "metadata": {},
   "outputs": [],
   "source": [
    "import time\n",
    "from IPython import display\n",
    "import matplotlib.pyplot as plt\n",
    "import seaborn as sns\n",
    "import pandas\n",
    "%matplotlib inline\n",
    "from pyspark.sql.functions import desc"
   ]
  },
  {
   "cell_type": "code",
   "execution_count": 7,
   "id": "3d4ecc0b",
   "metadata": {},
   "outputs": [],
   "source": [
    "def visualise(x = 10, sleep = 5):\n",
    "    '''\n",
    "    Function to create and update function as data streams in. Note that this function is set to update 10 times\n",
    "    Parameters:\n",
    "    @param x: Number of iterations for the chart to update\n",
    "    @param sleeep: Seconds between chart updates\n",
    "    \n",
    "    '''\n",
    "    stocktrades_stream_df= generate_stocktrades_stream()\n",
    "    count = 0\n",
    "    while count <= x:\n",
    "\n",
    "        time.sleep(sleep)\n",
    "        top_10_users = spark.sql('Select userid,sum(quantity) as quantity from stocktrades_view group by userid order by quantity desc limit 10' \n",
    "    )\n",
    "        top_10_df = top_10_users.toPandas()\n",
    "        display.clear_output(wait=True)\n",
    "        plt.figure( figsize = ( 10, 8 ) )\n",
    "        sns.barplot( x=\"quantity\", y=\"userid\", data=top_10_df)\n",
    "        plt.show()\n",
    "        count = count + 1\n",
    "        print(f'Count:{count}')\n",
    "    stocktrades_stream_df.stop()"
   ]
  },
  {
   "cell_type": "code",
   "execution_count": 8,
   "id": "7132dfb1",
   "metadata": {},
   "outputs": [
    {
     "data": {
      "image/png": "[encoded data removed]",
      "text/plain": [
       "<Figure size 720x576 with 1 Axes>"
      ]
     },
     "metadata": {
      "needs_background": "light"
     },
     "output_type": "display_data"
    },
    {
     "name": "stdout",
     "output_type": "stream",
     "text": [
      "Count:11\n"
     ]
    }
   ],
   "source": [
    "visualise()"
   ]
  },
  {
   "cell_type": "markdown",
   "id": "cd23af10",
   "metadata": {},
   "source": [
    "## Part 4 - Build ML model\n",
    "We believe it would be useful to predict whether a trade was a buy or sell trade based on the quantity, price account and stock code.\n",
    "\n",
    "### Read Data from Parquet Sink"
   ]
  },
  {
   "cell_type": "code",
   "execution_count": 10,
   "id": "ecc14a39",
   "metadata": {},
   "outputs": [],
   "source": [
    "parquetFile = spark.read.option(\"mergeSchema\", \"true\").parquet(\"../data/parquet_output\")"
   ]
  },
  {
   "cell_type": "code",
   "execution_count": 11,
   "id": "d10549af",
   "metadata": {},
   "outputs": [
    {
     "name": "stdout",
     "output_type": "stream",
     "text": [
      "+-------+---------+----------------+------+------------------+------------------+------+-------+------+\n",
      "|summary|event_key|     event_topic|  side|          quantity|             price|symbol|account|userid|\n",
      "+-------+---------+----------------+------+------------------+------------------+------+-------+------+\n",
      "|  count|        0|          215453|215453|            215453|            215453|215453| 215453|215453|\n",
      "|   mean|     null|            null|  null| 2501.367165924819| 501.9253851187962|  null|   null|  null|\n",
      "| stddev|     null|            null|  null|1443.2353946422181|287.13652806540324|  null|   null|  null|\n",
      "|    min|     null|STOCKTRADES_JSON|   BUY|                 1|                 5|  ZBZX| ABC123|User_1|\n",
      "|    max|     null|STOCKTRADES_JSON|  SELL|              4999|               999| ZXZZT| XYZ789|User_9|\n",
      "+-------+---------+----------------+------+------------------+------------------+------+-------+------+\n",
      "\n"
     ]
    }
   ],
   "source": [
    "parquetFile.describe().show()\n"
   ]
  },
  {
   "cell_type": "code",
   "execution_count": 12,
   "id": "41e99a30",
   "metadata": {},
   "outputs": [],
   "source": [
    "cat_cols = ['symbol','account','userid']\n",
    "cols = [\"side\",'quantity','price','symbol','account','userid']"
   ]
  },
  {
   "cell_type": "code",
   "execution_count": 13,
   "id": "021292f4",
   "metadata": {},
   "outputs": [],
   "source": [
    "df = parquetFile.select(cols)\n"
   ]
  },
  {
   "cell_type": "code",
   "execution_count": 14,
   "id": "8f32928f",
   "metadata": {},
   "outputs": [],
   "source": [
    "from pyspark.ml.feature import OneHotEncoder, StringIndexer, VectorAssembler"
   ]
  },
  {
   "cell_type": "code",
   "execution_count": 15,
   "id": "b901d19f",
   "metadata": {},
   "outputs": [],
   "source": [
    "stages = []\n",
    "for cat_col in cat_cols:\n",
    "    col_indexer = StringIndexer(inputCol=cat_col, outputCol=f\"{cat_col}_ind\")\n",
    "    col_encoder = OneHotEncoder(inputCols=[f\"{cat_col}_ind\"], outputCols=[f\"{cat_col}_ohe\"])\n",
    "    stages += [col_indexer, col_encoder]"
   ]
  },
  {
   "cell_type": "code",
   "execution_count": 16,
   "id": "c2d9a1a4",
   "metadata": {},
   "outputs": [],
   "source": [
    "num_cols = [\"quantity\",\"price\"]"
   ]
  },
  {
   "cell_type": "code",
   "execution_count": 17,
   "id": "cbde5c78",
   "metadata": {},
   "outputs": [],
   "source": [
    "cat_cols_ohe = [f\"{cat_col}_ohe\" for cat_col in cat_cols]"
   ]
  },
  {
   "cell_type": "code",
   "execution_count": 18,
   "id": "de1ab4bd",
   "metadata": {},
   "outputs": [],
   "source": [
    "assembler = VectorAssembler(inputCols=cat_cols_ohe + num_cols, outputCol=\"features\")"
   ]
  },
  {
   "cell_type": "code",
   "execution_count": 19,
   "id": "949b23b9",
   "metadata": {},
   "outputs": [],
   "source": [
    "stages += [assembler]\n"
   ]
  },
  {
   "cell_type": "code",
   "execution_count": 20,
   "id": "507ba6be",
   "metadata": {},
   "outputs": [],
   "source": [
    "from pyspark.ml import Pipeline"
   ]
  },
  {
   "cell_type": "code",
   "execution_count": 21,
   "id": "e0c53d0f",
   "metadata": {},
   "outputs": [],
   "source": [
    "pipeline = Pipeline(stages=stages)"
   ]
  },
  {
   "cell_type": "markdown",
   "id": "b2820d2d",
   "metadata": {},
   "source": [
    "### Build X Column"
   ]
  },
  {
   "cell_type": "code",
   "execution_count": 22,
   "id": "8a3d2c6b",
   "metadata": {},
   "outputs": [
    {
     "name": "stdout",
     "output_type": "stream",
     "text": [
      "+----+--------+-----+------+-------+------+\n",
      "|side|quantity|price|symbol|account|userid|\n",
      "+----+--------+-----+------+-------+------+\n",
      "|SELL|    4862|  443|   ZVV| XYZ789|User_6|\n",
      "|SELL|     933|  190| ZTEST| ABC123|User_4|\n",
      "|SELL|    1127|  136| ZVZZT| XYZ789|User_8|\n",
      "|SELL|    4565|  993| ZWZZT| LMN456|User_7|\n",
      "| BUY|    3645|  299| ZWZZT| ABC123|User_6|\n",
      "+----+--------+-----+------+-------+------+\n",
      "only showing top 5 rows\n",
      "\n"
     ]
    }
   ],
   "source": [
    "df.show(5)\n"
   ]
  },
  {
   "cell_type": "code",
   "execution_count": 23,
   "id": "533704a8",
   "metadata": {},
   "outputs": [],
   "source": [
    "pipeline_model = pipeline.fit(df)"
   ]
  },
  {
   "cell_type": "code",
   "execution_count": 24,
   "id": "4ae2a400",
   "metadata": {},
   "outputs": [],
   "source": [
    "df = pipeline_model.transform(df)"
   ]
  },
  {
   "cell_type": "code",
   "execution_count": 25,
   "id": "8355be3a",
   "metadata": {},
   "outputs": [
    {
     "name": "stdout",
     "output_type": "stream",
     "text": [
      "+----+--------+-----+------+-------+------+----------+-------------+-----------+-------------+----------+-------------+--------------------+\n",
      "|side|quantity|price|symbol|account|userid|symbol_ind|   symbol_ohe|account_ind|  account_ohe|userid_ind|   userid_ohe|            features|\n",
      "+----+--------+-----+------+-------+------+----------+-------------+-----------+-------------+----------+-------------+--------------------+\n",
      "|SELL|    4862|  443|   ZVV| XYZ789|User_6|       0.0|(6,[0],[1.0])|        0.0|(2,[0],[1.0])|       0.0|(8,[0],[1.0])|(18,[0,6,8,16,17]...|\n",
      "|SELL|     933|  190| ZTEST| ABC123|User_4|       2.0|(6,[2],[1.0])|        2.0|    (2,[],[])|       3.0|(8,[3],[1.0])|(18,[2,11,16,17],...|\n",
      "|SELL|    1127|  136| ZVZZT| XYZ789|User_8|       5.0|(6,[5],[1.0])|        0.0|(2,[0],[1.0])|       1.0|(8,[1],[1.0])|(18,[5,6,9,16,17]...|\n",
      "|SELL|    4565|  993| ZWZZT| LMN456|User_7|       4.0|(6,[4],[1.0])|        1.0|(2,[1],[1.0])|       5.0|(8,[5],[1.0])|(18,[4,7,13,16,17...|\n",
      "| BUY|    3645|  299| ZWZZT| ABC123|User_6|       4.0|(6,[4],[1.0])|        2.0|    (2,[],[])|       0.0|(8,[0],[1.0])|(18,[4,8,16,17],[...|\n",
      "+----+--------+-----+------+-------+------+----------+-------------+-----------+-------------+----------+-------------+--------------------+\n",
      "only showing top 5 rows\n",
      "\n"
     ]
    }
   ],
   "source": [
    "df.show(5)"
   ]
  },
  {
   "cell_type": "code",
   "execution_count": 65,
   "id": "b1777957",
   "metadata": {},
   "outputs": [],
   "source": [
    "pipeline_model.save('../models/pipeline_model')"
   ]
  },
  {
   "cell_type": "code",
   "execution_count": 26,
   "id": "5ae18a2c",
   "metadata": {},
   "outputs": [],
   "source": [
    "from pyspark.ml.feature import StandardScaler"
   ]
  },
  {
   "cell_type": "code",
   "execution_count": 27,
   "id": "43980b3e",
   "metadata": {},
   "outputs": [],
   "source": [
    "df = df.select(['features','side'])"
   ]
  },
  {
   "cell_type": "code",
   "execution_count": 28,
   "id": "67cdc97d",
   "metadata": {},
   "outputs": [
    {
     "name": "stdout",
     "output_type": "stream",
     "text": [
      "+--------------------+----+\n",
      "|            features|side|\n",
      "+--------------------+----+\n",
      "|(18,[0,6,8,16,17]...|SELL|\n",
      "|(18,[2,11,16,17],...|SELL|\n",
      "|(18,[5,6,9,16,17]...|SELL|\n",
      "|(18,[4,7,13,16,17...|SELL|\n",
      "|(18,[4,8,16,17],[...| BUY|\n",
      "+--------------------+----+\n",
      "only showing top 5 rows\n",
      "\n"
     ]
    }
   ],
   "source": [
    "df.show(5)"
   ]
  },
  {
   "cell_type": "markdown",
   "id": "a81fb523",
   "metadata": {},
   "source": [
    "### Scale X Features"
   ]
  },
  {
   "cell_type": "code",
   "execution_count": 29,
   "id": "1ff4951d",
   "metadata": {},
   "outputs": [],
   "source": [
    "xscaler = StandardScaler(inputCol=\"features\", outputCol=\"scaledFeatures\")"
   ]
  },
  {
   "cell_type": "code",
   "execution_count": 30,
   "id": "13e4afb6",
   "metadata": {},
   "outputs": [],
   "source": [
    "xscalerModel = xscaler.fit(df)"
   ]
  },
  {
   "cell_type": "code",
   "execution_count": 37,
   "id": "24c22711",
   "metadata": {},
   "outputs": [],
   "source": [
    "xscalerModel.write().overwrite().save(\"../models/xscaler\")"
   ]
  },
  {
   "cell_type": "code",
   "execution_count": 38,
   "id": "dddaacad",
   "metadata": {},
   "outputs": [],
   "source": [
    "df = xscalerModel.transform(df)"
   ]
  },
  {
   "cell_type": "code",
   "execution_count": 39,
   "id": "40bcdc9f",
   "metadata": {},
   "outputs": [
    {
     "name": "stdout",
     "output_type": "stream",
     "text": [
      "+--------------------+----+--------------------+\n",
      "|            features|side|      scaledFeatures|\n",
      "+--------------------+----+--------------------+\n",
      "|(18,[0,6,8,16,17]...|SELL|(18,[0,6,8,16,17]...|\n",
      "|(18,[2,11,16,17],...|SELL|(18,[2,11,16,17],...|\n",
      "|(18,[5,6,9,16,17]...|SELL|(18,[5,6,9,16,17]...|\n",
      "|(18,[4,7,13,16,17...|SELL|(18,[4,7,13,16,17...|\n",
      "|(18,[4,8,16,17],[...| BUY|(18,[4,8,16,17],[...|\n",
      "+--------------------+----+--------------------+\n",
      "only showing top 5 rows\n",
      "\n"
     ]
    }
   ],
   "source": [
    "df.show(5)"
   ]
  },
  {
   "cell_type": "markdown",
   "id": "5ba7e069",
   "metadata": {},
   "source": [
    "### Convert target Variable"
   ]
  },
  {
   "cell_type": "code",
   "execution_count": 40,
   "id": "9012f9cb",
   "metadata": {},
   "outputs": [],
   "source": [
    "yencoder = StringIndexer(inputCol='side', outputCol=\"target\")"
   ]
  },
  {
   "cell_type": "code",
   "execution_count": 41,
   "id": "8bc3415b",
   "metadata": {},
   "outputs": [],
   "source": [
    "y_coder = yencoder.fit(df)"
   ]
  },
  {
   "cell_type": "code",
   "execution_count": 42,
   "id": "91d00c00",
   "metadata": {},
   "outputs": [],
   "source": [
    "df = y_coder.transform(df)"
   ]
  },
  {
   "cell_type": "code",
   "execution_count": 67,
   "id": "0f3103b1",
   "metadata": {},
   "outputs": [],
   "source": [
    "y_coder.save('../models/y_coder')"
   ]
  },
  {
   "cell_type": "markdown",
   "id": "e108df12",
   "metadata": {},
   "source": [
    "### Split into Training and Test sets"
   ]
  },
  {
   "cell_type": "code",
   "execution_count": 43,
   "id": "dfdc4f11",
   "metadata": {},
   "outputs": [],
   "source": [
    "df_train, df_test = df.randomSplit([0.7,0.3], seed = 42)"
   ]
  },
  {
   "cell_type": "code",
   "execution_count": 44,
   "id": "289f38df",
   "metadata": {},
   "outputs": [
    {
     "name": "stdout",
     "output_type": "stream",
     "text": [
      "+--------------------+----+--------------------+------+\n",
      "|            features|side|      scaledFeatures|target|\n",
      "+--------------------+----+--------------------+------+\n",
      "|(18,[0,6,8,16,17]...| BUY|(18,[0,6,8,16,17]...|   1.0|\n",
      "|(18,[0,6,8,16,17]...|SELL|(18,[0,6,8,16,17]...|   0.0|\n",
      "|(18,[0,6,8,16,17]...|SELL|(18,[0,6,8,16,17]...|   0.0|\n",
      "|(18,[0,6,8,16,17]...| BUY|(18,[0,6,8,16,17]...|   1.0|\n",
      "|(18,[0,6,8,16,17]...| BUY|(18,[0,6,8,16,17]...|   1.0|\n",
      "|(18,[0,6,8,16,17]...| BUY|(18,[0,6,8,16,17]...|   1.0|\n",
      "|(18,[0,6,8,16,17]...| BUY|(18,[0,6,8,16,17]...|   1.0|\n",
      "|(18,[0,6,8,16,17]...|SELL|(18,[0,6,8,16,17]...|   0.0|\n",
      "|(18,[0,6,8,16,17]...|SELL|(18,[0,6,8,16,17]...|   0.0|\n",
      "|(18,[0,6,8,16,17]...| BUY|(18,[0,6,8,16,17]...|   1.0|\n",
      "|(18,[0,6,8,16,17]...| BUY|(18,[0,6,8,16,17]...|   1.0|\n",
      "|(18,[0,6,8,16,17]...| BUY|(18,[0,6,8,16,17]...|   1.0|\n",
      "|(18,[0,6,8,16,17]...| BUY|(18,[0,6,8,16,17]...|   1.0|\n",
      "|(18,[0,6,8,16,17]...|SELL|(18,[0,6,8,16,17]...|   0.0|\n",
      "|(18,[0,6,8,16,17]...|SELL|(18,[0,6,8,16,17]...|   0.0|\n",
      "|(18,[0,6,8,16,17]...| BUY|(18,[0,6,8,16,17]...|   1.0|\n",
      "|(18,[0,6,8,16,17]...| BUY|(18,[0,6,8,16,17]...|   1.0|\n",
      "|(18,[0,6,8,16,17]...| BUY|(18,[0,6,8,16,17]...|   1.0|\n",
      "|(18,[0,6,8,16,17]...| BUY|(18,[0,6,8,16,17]...|   1.0|\n",
      "|(18,[0,6,8,16,17]...| BUY|(18,[0,6,8,16,17]...|   1.0|\n",
      "+--------------------+----+--------------------+------+\n",
      "only showing top 20 rows\n",
      "\n"
     ]
    }
   ],
   "source": [
    "df_train.show()"
   ]
  },
  {
   "cell_type": "code",
   "execution_count": 45,
   "id": "9c898afe",
   "metadata": {},
   "outputs": [
    {
     "name": "stdout",
     "output_type": "stream",
     "text": [
      "+--------------------+----+--------------------+------+\n",
      "|            features|side|      scaledFeatures|target|\n",
      "+--------------------+----+--------------------+------+\n",
      "|(18,[0,6,8,16,17]...|SELL|(18,[0,6,8,16,17]...|   0.0|\n",
      "|(18,[0,6,8,16,17]...|SELL|(18,[0,6,8,16,17]...|   0.0|\n",
      "|(18,[0,6,8,16,17]...|SELL|(18,[0,6,8,16,17]...|   0.0|\n",
      "|(18,[0,6,8,16,17]...| BUY|(18,[0,6,8,16,17]...|   1.0|\n",
      "|(18,[0,6,8,16,17]...|SELL|(18,[0,6,8,16,17]...|   0.0|\n",
      "|(18,[0,6,8,16,17]...|SELL|(18,[0,6,8,16,17]...|   0.0|\n",
      "|(18,[0,6,8,16,17]...| BUY|(18,[0,6,8,16,17]...|   1.0|\n",
      "|(18,[0,6,8,16,17]...| BUY|(18,[0,6,8,16,17]...|   1.0|\n",
      "|(18,[0,6,8,16,17]...| BUY|(18,[0,6,8,16,17]...|   1.0|\n",
      "|(18,[0,6,8,16,17]...| BUY|(18,[0,6,8,16,17]...|   1.0|\n",
      "|(18,[0,6,8,16,17]...|SELL|(18,[0,6,8,16,17]...|   0.0|\n",
      "|(18,[0,6,8,16,17]...|SELL|(18,[0,6,8,16,17]...|   0.0|\n",
      "|(18,[0,6,8,16,17]...| BUY|(18,[0,6,8,16,17]...|   1.0|\n",
      "|(18,[0,6,8,16,17]...| BUY|(18,[0,6,8,16,17]...|   1.0|\n",
      "|(18,[0,6,8,16,17]...| BUY|(18,[0,6,8,16,17]...|   1.0|\n",
      "|(18,[0,6,8,16,17]...| BUY|(18,[0,6,8,16,17]...|   1.0|\n",
      "|(18,[0,6,8,16,17]...|SELL|(18,[0,6,8,16,17]...|   0.0|\n",
      "|(18,[0,6,8,16,17]...| BUY|(18,[0,6,8,16,17]...|   1.0|\n",
      "|(18,[0,6,8,16,17]...| BUY|(18,[0,6,8,16,17]...|   1.0|\n",
      "|(18,[0,6,8,16,17]...| BUY|(18,[0,6,8,16,17]...|   1.0|\n",
      "+--------------------+----+--------------------+------+\n",
      "only showing top 20 rows\n",
      "\n"
     ]
    }
   ],
   "source": [
    "df_test.show()"
   ]
  },
  {
   "cell_type": "markdown",
   "id": "41b807d5",
   "metadata": {},
   "source": [
    "### Train model"
   ]
  },
  {
   "cell_type": "code",
   "execution_count": 46,
   "id": "9acc3648",
   "metadata": {},
   "outputs": [],
   "source": [
    "from pyspark.ml.classification import LogisticRegression"
   ]
  },
  {
   "cell_type": "code",
   "execution_count": 49,
   "id": "7d282bd2",
   "metadata": {},
   "outputs": [],
   "source": [
    "lr = LogisticRegression(maxIter=10, regParam=0.3, elasticNetParam=0,featuresCol='scaledFeatures', labelCol = 'target')"
   ]
  },
  {
   "cell_type": "code",
   "execution_count": 50,
   "id": "93f05a3e",
   "metadata": {},
   "outputs": [],
   "source": [
    "lrModel = lr.fit(df_train)"
   ]
  },
  {
   "cell_type": "markdown",
   "id": "0b28089d",
   "metadata": {},
   "source": [
    "## Make predictions on Training Set"
   ]
  },
  {
   "cell_type": "code",
   "execution_count": 51,
   "id": "aa23aaef",
   "metadata": {},
   "outputs": [],
   "source": [
    "train_preds_dt = lrModel.transform(df_train)"
   ]
  },
  {
   "cell_type": "code",
   "execution_count": 52,
   "id": "d4e28ba3",
   "metadata": {},
   "outputs": [],
   "source": [
    "test_preds_dt = lrModel.transform(df_test)"
   ]
  },
  {
   "cell_type": "code",
   "execution_count": 53,
   "id": "306aa8f5",
   "metadata": {},
   "outputs": [],
   "source": [
    "from pyspark.mllib.evaluation import BinaryClassificationMetrics\n"
   ]
  },
  {
   "cell_type": "code",
   "execution_count": 54,
   "id": "2f24f349",
   "metadata": {},
   "outputs": [
    {
     "name": "stdout",
     "output_type": "stream",
     "text": [
      "+--------------------+----+--------------------+------+--------------------+--------------------+----------+\n",
      "|            features|side|      scaledFeatures|target|       rawPrediction|         probability|prediction|\n",
      "+--------------------+----+--------------------+------+--------------------+--------------------+----------+\n",
      "|(18,[0,6,8,16,17]...|SELL|(18,[0,6,8,16,17]...|   0.0|[-0.0162006184858...|[0.49594993395985...|       1.0|\n",
      "|(18,[0,6,8,16,17]...|SELL|(18,[0,6,8,16,17]...|   0.0|[-0.0158202228426...|[0.49604502677636...|       1.0|\n",
      "|(18,[0,6,8,16,17]...|SELL|(18,[0,6,8,16,17]...|   0.0|[-0.0186460485016...|[0.49533862292753...|       1.0|\n",
      "|(18,[0,6,8,16,17]...| BUY|(18,[0,6,8,16,17]...|   1.0|[-0.0169210430769...|[0.49576984016249...|       1.0|\n",
      "|(18,[0,6,8,16,17]...|SELL|(18,[0,6,8,16,17]...|   0.0|[-0.0176108557476...|[0.49559739984852...|       1.0|\n",
      "+--------------------+----+--------------------+------+--------------------+--------------------+----------+\n",
      "only showing top 5 rows\n",
      "\n"
     ]
    }
   ],
   "source": [
    "test_preds_dt.show(5)"
   ]
  },
  {
   "cell_type": "code",
   "execution_count": 55,
   "id": "95fd6225",
   "metadata": {},
   "outputs": [],
   "source": [
    "predictionAndLabels = test_preds_dt.rdd.map(lambda lp: (lp.prediction,float(lp.target)))\n"
   ]
  },
  {
   "cell_type": "code",
   "execution_count": 56,
   "id": "7e0e57ca",
   "metadata": {},
   "outputs": [],
   "source": [
    "metrics = BinaryClassificationMetrics(predictionAndLabels)"
   ]
  },
  {
   "cell_type": "code",
   "execution_count": 57,
   "id": "b691cace",
   "metadata": {},
   "outputs": [
    {
     "name": "stdout",
     "output_type": "stream",
     "text": [
      "Area under ROC = 0.5015155950064416\n"
     ]
    }
   ],
   "source": [
    "print(\"Area under ROC = %s\" % metrics.areaUnderROC)"
   ]
  },
  {
   "cell_type": "code",
   "execution_count": 58,
   "id": "b368eca1",
   "metadata": {},
   "outputs": [],
   "source": [
    "from pyspark.mllib.evaluation import MulticlassMetrics"
   ]
  },
  {
   "cell_type": "code",
   "execution_count": 59,
   "id": "0ecd3c50",
   "metadata": {},
   "outputs": [],
   "source": [
    "metrics = MulticlassMetrics(predictionAndLabels)"
   ]
  },
  {
   "cell_type": "code",
   "execution_count": 60,
   "id": "570a1d89",
   "metadata": {},
   "outputs": [
    {
     "name": "stdout",
     "output_type": "stream",
     "text": [
      "[[18048. 14439.]\n",
      " [17823. 14435.]]\n"
     ]
    }
   ],
   "source": [
    "print(metrics.confusionMatrix().toArray())"
   ]
  },
  {
   "cell_type": "code",
   "execution_count": 61,
   "id": "f0272c49",
   "metadata": {},
   "outputs": [],
   "source": [
    "lrModel.save(\"../models/lr_model\")"
   ]
  },
  {
   "cell_type": "markdown",
   "id": "ab0ec8ff",
   "metadata": {},
   "source": [
    "### Deploy Model as New Stream"
   ]
  },
  {
   "cell_type": "code",
   "execution_count": 73,
   "id": "e0e45c05",
   "metadata": {},
   "outputs": [],
   "source": [
    "from pyspark.ml.classification import LogisticRegressionModel\n",
    "from pyspark.ml import PipelineModel\n",
    "from pyspark.ml.feature import StandardScalerModel\n",
    "from pyspark.ml.feature import StringIndexerModel"
   ]
  },
  {
   "cell_type": "code",
   "execution_count": 93,
   "id": "1a424f0e",
   "metadata": {},
   "outputs": [],
   "source": [
    "def transform_data(input_df):\n",
    "    '''\n",
    "    Function to complete all necessary pre-model data transformations. \n",
    "    @param input_df: Input data\n",
    "    \n",
    "    Returns:\n",
    "    df (DataFrame): spark dataframe.\n",
    "    '''\n",
    "    ## Load Models\n",
    "    pipeline_model = PipelineModel.load('../models/pipeline_model')\n",
    "    xscalerModel = StandardScalerModel.load('../models/xscaler')\n",
    "    y_coder = StringIndexerModel.load('../models/y_coder')\n",
    "    print(\"Models Loaded\")\n",
    "    ## Outline Columns\n",
    "    cat_cols = ['symbol','account','userid']\n",
    "    cols = [\"side\",'quantity','price','symbol','account','userid']\n",
    "    print(\"DataFrame Subset complete\")\n",
    "    ## Transform data\n",
    "    df = pipeline_model.transform(input_df)\n",
    "    print(\"Variable Cleaning Complete\")\n",
    "    df = xscalerModel.transform(df)\n",
    "    print(\"X variables scaled\")\n",
    "    df = y_coder.transform(df)\n",
    "    print(\"Complete\")\n",
    "    return df\n",
    "\n",
    "    "
   ]
  },
  {
   "cell_type": "code",
   "execution_count": 155,
   "id": "48b806ec",
   "metadata": {
    "tags": []
   },
   "outputs": [],
   "source": [
    "def generate_spark_stream(input_df, cols):\n",
    "    '''\n",
    "    This function predicts the output on the data stream and writes back into Kafka\n",
    "    '''\n",
    "    ## Load LG Model\n",
    "    lrModel = LogisticRegressionModel.load(\"../models/lr_model\")\n",
    "    df = transform_data(input_df)\n",
    "    df = lrModel.transform(df)\n",
    "    df \\\n",
    "      .select(F.col('symbol').cast(StringType()).alias('key'),F.to_json(F.struct([F.col(c).alias(c) for c in cols])).alias('value')) \\\n",
    "      .writeStream \\\n",
    "      .format(\"kafka\") \\\n",
    "      .option(\"kafka.bootstrap.servers\", \"broker:29092\") \\\n",
    "      .option(\"checkpointLocation\", \"checkpoint/data\") \\\n",
    "      .option(\"topic\", \"prediction_topic\") \\\n",
    "      .start()\n",
    "    "
   ]
  },
  {
   "cell_type": "code",
   "execution_count": 161,
   "id": "c4df5fb9",
   "metadata": {},
   "outputs": [],
   "source": [
    "stocktrade_stream_df, raw_stream_df = generate_stocktrades_stream(True)"
   ]
  },
  {
   "cell_type": "code",
   "execution_count": 162,
   "id": "4ab7d4a4",
   "metadata": {},
   "outputs": [],
   "source": [
    "cols = [ 'side',\n",
    " 'quantity',\n",
    " 'price',\n",
    " 'symbol',\n",
    " 'account',\n",
    " 'userid',\n",
    " 'probability',\n",
    " 'prediction']"
   ]
  },
  {
   "cell_type": "code",
   "execution_count": 163,
   "id": "0b8e4659",
   "metadata": {},
   "outputs": [
    {
     "name": "stdout",
     "output_type": "stream",
     "text": [
      "Models Loaded\n",
      "DataFrame Subset complete\n",
      "Variable Cleaning Complete\n",
      "X variables scaled\n",
      "Complete\n"
     ]
    }
   ],
   "source": [
    "generate_spark_stream(raw_stream_df, cols)"
   ]
  },
  {
   "cell_type": "code",
   "execution_count": 158,
   "id": "dcf1ed2d",
   "metadata": {},
   "outputs": [],
   "source": [
    "stocktrade_stream_df.stop()"
   ]
  },
  {
   "cell_type": "code",
   "execution_count": null,
   "id": "b0ae9b31",
   "metadata": {},
   "outputs": [],
   "source": []
  }
 ],
 "metadata": {
  "kernelspec": {
   "display_name": "Python 3",
   "language": "python",
   "name": "python3"
  },
  "language_info": {
   "codemirror_mode": {
    "name": "ipython",
    "version": 3
   },
   "file_extension": ".py",
   "mimetype": "text/x-python",
   "name": "python",
   "nbconvert_exporter": "python",
   "pygments_lexer": "ipython3",
   "version": "3.8.8"
  }
 },
 "nbformat": 4,
 "nbformat_minor": 5
}
