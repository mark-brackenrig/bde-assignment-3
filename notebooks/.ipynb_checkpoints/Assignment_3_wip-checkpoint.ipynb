{
 "cells": [
  {
   "cell_type": "markdown",
   "id": "467479db",
   "metadata": {},
   "source": [
    "## Part 1 - Produce Data\n",
    "We elected to use the datagen connector to generate fake data for this assignment. The topic we used was 'stocktrades. The steps were as follows:\n",
    "*  Open a browser and go to http://localhost:9021/\n",
    "*  Select the available cluster\n",
    "*  On the menu bar, select Connect\n",
    "*  Click on the connect-default cluster in the Connect Clusters list.\n",
    "*  Click on Add connector\n",
    "*  Select DatagenConnector\n",
    "*  Enter connector_stock_trades in the Name field\n",
    "\n",
    "Then:\n",
    "Generate a data stream with following configurations:\n",
    "```\n",
    "Key converter class: org.apache.kafka.connect.storage.StringConverter\n",
    "kafka.topic: stocktrades\n",
    "max.interval: 100\n",
    "quickstart: Stock_Trades\n",
    "value converter class: org.apache.kafka.connect.json.JsonConverter\n",
    "```\n"
   ]
  },
  {
   "cell_type": "markdown",
   "id": "1bd2964a",
   "metadata": {},
   "source": [
    "## Part 2 - Using Ksql to create at least 2 streams with filtering from topics\n",
    "\n",
    "To begin, you need to create a stream called stocktrades with no filtering in place."
   ]
  },
  {
   "cell_type": "code",
   "execution_count": null,
   "id": "1994d78e",
   "metadata": {},
   "outputs": [],
   "source": [
    "CREATE STREAM STOCKTRADES\n",
    "   (SIDE STRING, QUANTITY INTEGER, SYMBOL STRING, PRICE INTEGER, ACCOUNT STRING, USERID STRING)\n",
    "       WITH (KAFKA_TOPIC='stocktrades', VALUE_FORMAT='AVRO');"
   ]
  },
  {
   "cell_type": "markdown",
   "id": "4e2b5532",
   "metadata": {},
   "source": [
    "### Stream 1 - Sell Stream\n",
    "It may be in the interest of the business to view only streams where the stock was sold and not bought. This would be useful in identifying which shares should be taken as a 'short' position"
   ]
  },
  {
   "cell_type": "code",
   "execution_count": null,
   "id": "a50864ba",
   "metadata": {},
   "outputs": [],
   "source": [
    "CREATE STREAM SELL_TRADES WITH (KAFKA_TOPIC='SELL_TRADES', PARTITIONS=1, REPLICAS=1) AS SELECT\n",
    "  STOCKTRADES.QUANTITY QUANTITY,\n",
    "  STOCKTRADES.SYMBOL SYMBOL,\n",
    "  STOCKTRADES.PRICE PRICE,\n",
    "  STOCKTRADES.ACCOUNT ACCOUNT,\n",
    "  STOCKTRADES.USERID USERID\n",
    "FROM STOCKTRADES STOCKTRADES\n",
    "WHERE (STOCKTRADES.SIDE = 'SELL')\n",
    "EMIT CHANGES;\n"
   ]
  },
  {
   "cell_type": "markdown",
   "id": "cac6d2cc",
   "metadata": {},
   "source": [
    "### Stream 2 - Buy Stream\n",
    "It may also be interesting to the business to see trades that were large buys."
   ]
  },
  {
   "cell_type": "code",
   "execution_count": null,
   "id": "9d63af64",
   "metadata": {},
   "outputs": [],
   "source": [
    "CREATE STREAM BUY_TRADES WITH (KAFKA_TOPIC='BUY_TRADES', PARTITIONS=1, REPLICAS=1) AS SELECT\n",
    "  STOCKTRADES.QUANTITY QUANTITY,\n",
    "  STOCKTRADES.SYMBOL SYMBOL,\n",
    "  STOCKTRADES.PRICE PRICE,\n",
    "  STOCKTRADES.ACCOUNT ACCOUNT,\n",
    "  STOCKTRADES.USERID USERID\n",
    "FROM STOCKTRADES STOCKTRADES\n",
    "WHERE (STOCKTRADES.SIDE = 'BUY')\n",
    "EMIT CHANGES;"
   ]
  },
  {
   "cell_type": "markdown",
   "id": "eec70e77",
   "metadata": {},
   "source": [
    "### Table 1 - Aggregated Buy Trades\n"
   ]
  },
  {
   "cell_type": "code",
   "execution_count": null,
   "id": "51499a7a",
   "metadata": {},
   "outputs": [],
   "source": [
    "CREATE TABLE AGG_BUY_ORDERS WITH (KAFKA_TOPIC='AGG_BUY_ORDERS', PARTITIONS=1, REPLICAS=1) AS SELECT\n",
    "  BUY_TRADES.SYMBOL SYMBOL,\n",
    "  SUM(BUY_TRADES.QUANTITY) QUANTITY_AGG,\n",
    "  AVG(BUY_TRADES.PRICE) PRICE_AVG,\n",
    "  SUM((BUY_TRADES.QUANTITY * BUY_TRADES.PRICE)) VALUE_TRADED\n",
    "FROM BUY_TRADES BUY_TRADES\n",
    "WINDOW TUMBLING ( SIZE 60 SECONDS )\n",
    "GROUP BY BUY_TRADES.SYMBOL\n",
    "EMIT CHANGES;\n"
   ]
  },
  {
   "cell_type": "markdown",
   "id": "801af1dc",
   "metadata": {},
   "source": [
    "### Table 2 - Aggregated Sell Trades"
   ]
  },
  {
   "cell_type": "code",
   "execution_count": null,
   "id": "0108dfa6",
   "metadata": {},
   "outputs": [],
   "source": [
    "CREATE TABLE AGG_SELL_ORDERS WITH (KAFKA_TOPIC='AGG_SELL_ORDERS', PARTITIONS=1, REPLICAS=1) AS SELECT\n",
    "  SELL_TRADES.SYMBOL SYMBOL,\n",
    "  SUM(SELL_TRADES.QUANTITY) QUANTITY_AGG,\n",
    "  AVG(SELL_TRADES.PRICE) PRICE_AVG,\n",
    "  SUM((SELL_TRADES.QUANTITY * SELL_TRADES.PRICE)) VALUE_TRADED\n",
    "FROM SELL_TRADES SELL_TRADES\n",
    "WINDOW TUMBLING ( SIZE 60 SECONDS )\n",
    "GROUP BY SELL_TRADES.SYMBOL\n",
    "EMIT CHANGES;"
   ]
  },
  {
   "cell_type": "markdown",
   "id": "3d473347",
   "metadata": {},
   "source": [
    "## Part 3 - Consume/Transform data with Spark Streaming"
   ]
  },
  {
   "cell_type": "code",
   "execution_count": 95,
   "id": "19ddd797",
   "metadata": {},
   "outputs": [],
   "source": [
    "from pyspark.sql import SparkSession\n",
    "from IPython.display import display, clear_output\n",
    "import time\n",
    "from pyspark.sql import functions as F\n",
    "from pyspark.sql.types import StructType,StringType, StructField, IntegerType, FloatType, BinaryType"
   ]
  },
  {
   "cell_type": "code",
   "execution_count": 96,
   "id": "c0582bbf",
   "metadata": {},
   "outputs": [],
   "source": [
    "spark = SparkSession.builder \\\n",
    "        .appName('kafka') \\\n",
    "        .getOrCreate()"
   ]
  },
  {
   "cell_type": "code",
   "execution_count": 97,
   "id": "c5df4b37",
   "metadata": {},
   "outputs": [
    {
     "data": {
      "text/plain": [
       "'3.1.1'"
      ]
     },
     "execution_count": 97,
     "metadata": {},
     "output_type": "execute_result"
    }
   ],
   "source": [
    "spark.version"
   ]
  },
  {
   "cell_type": "code",
   "execution_count": 98,
   "id": "1b1db958",
   "metadata": {},
   "outputs": [
    {
     "data": {
      "text/plain": [
       "'3.2.0'"
      ]
     },
     "execution_count": 98,
     "metadata": {},
     "output_type": "execute_result"
    }
   ],
   "source": [
    "spark._jvm.org.apache.hadoop.util.VersionInfo.getVersion()"
   ]
  },
  {
   "cell_type": "markdown",
   "id": "fe0b2c1e",
   "metadata": {},
   "source": [
    "## Raw Data Streams"
   ]
  },
  {
   "cell_type": "code",
   "execution_count": 99,
   "id": "555bb78c",
   "metadata": {},
   "outputs": [],
   "source": [
    "stream_df = spark \\\n",
    "  .readStream \\\n",
    "  .format(\"kafka\") \\\n",
    "  .option(\"kafka.bootstrap.servers\", \"broker:29092\") \\\n",
    "  .option(\"startingOffsets\", \"earliest\") \\\n",
    "  .option(\"subscribe\", \"stocktrades\") \\\n",
    "  .load()"
   ]
  },
  {
   "cell_type": "code",
   "execution_count": 100,
   "id": "122e68d8",
   "metadata": {},
   "outputs": [
    {
     "name": "stdout",
     "output_type": "stream",
     "text": [
      "root\n",
      " |-- key: binary (nullable = true)\n",
      " |-- value: binary (nullable = true)\n",
      " |-- topic: string (nullable = true)\n",
      " |-- partition: integer (nullable = true)\n",
      " |-- offset: long (nullable = true)\n",
      " |-- timestamp: timestamp (nullable = true)\n",
      " |-- timestampType: integer (nullable = true)\n",
      "\n"
     ]
    }
   ],
   "source": [
    "stream_df.printSchema()"
   ]
  },
  {
   "cell_type": "code",
   "execution_count": 101,
   "id": "8dd695ee",
   "metadata": {},
   "outputs": [],
   "source": [
    "raw_stream = stream_df \\\n",
    "    .writeStream \\\n",
    "    .format(\"memory\") \\\n",
    "    .queryName(\"raw_stocktrades_view\") \\\n",
    "    .start()"
   ]
  },
  {
   "cell_type": "code",
   "execution_count": 103,
   "id": "c3a5e304",
   "metadata": {},
   "outputs": [
    {
     "name": "stdout",
     "output_type": "stream",
     "text": [
      "+----------------+-------------------------------------------------------------------------------------------------------+\n",
      "|key             |value                                                                                                  |\n",
      "+----------------+-------------------------------------------------------------------------------------------------------+\n",
      "|[5A 56 5A 5A 54]|[00 00 00 00 01 08 53 45 4C 4C AE 12 0A 5A 56 5A 5A 54 D8 03 0C 4C 4D 4E 34 35 36 0C 55 73 65 72 5F 39]|\n",
      "|[5A 56 56]      |[00 00 00 00 01 08 53 45 4C 4C FC 1A 06 5A 56 56 CA 06 0C 41 42 43 31 32 33 0C 55 73 65 72 5F 35]      |\n",
      "|[5A 56 5A 5A 54]|[00 00 00 00 01 06 42 55 59 FA 29 0A 5A 56 5A 5A 54 B0 0A 0C 4C 4D 4E 34 35 36 0C 55 73 65 72 5F 33]   |\n",
      "|[5A 58 5A 5A 54]|[00 00 00 00 01 06 42 55 59 A4 01 0A 5A 58 5A 5A 54 E4 0B 0C 58 59 5A 37 38 39 0C 55 73 65 72 5F 38]   |\n",
      "|[5A 56 56]      |[00 00 00 00 01 08 53 45 4C 4C 8E 4C 06 5A 56 56 BA 0D 0C 58 59 5A 37 38 39 0C 55 73 65 72 5F 36]      |\n",
      "|[5A 4A 5A 5A 54]|[00 00 00 00 01 08 53 45 4C 4C E0 33 0A 5A 4A 5A 5A 54 CE 0C 0C 58 59 5A 37 38 39 0C 55 73 65 72 5F 35]|\n",
      "|[5A 4A 5A 5A 54]|[00 00 00 00 01 08 53 45 4C 4C C8 35 0A 5A 4A 5A 5A 54 AE 08 0C 4C 4D 4E 34 35 36 0C 55 73 65 72 5F 33]|\n",
      "|[5A 54 45 53 54]|[00 00 00 00 01 06 42 55 59 D0 1B 0A 5A 54 45 53 54 8C 02 0C 41 42 43 31 32 33 0C 55 73 65 72 5F 34]   |\n",
      "|[5A 57 5A 5A 54]|[00 00 00 00 01 06 42 55 59 BC 26 0A 5A 57 5A 5A 54 F4 0B 0C 58 59 5A 37 38 39 0C 55 73 65 72 5F 32]   |\n",
      "|[5A 56 5A 5A 54]|[00 00 00 00 01 08 53 45 4C 4C D8 2B 0A 5A 56 5A 5A 54 B2 0B 0C 4C 4D 4E 34 35 36 0C 55 73 65 72 5F 33]|\n",
      "|[5A 57 5A 5A 54]|[00 00 00 00 01 08 53 45 4C 4C 82 2E 0A 5A 57 5A 5A 54 A4 0C 0C 58 59 5A 37 38 39 0C 55 73 65 72 5F 38]|\n",
      "|[5A 42 5A 58]   |[00 00 00 00 01 08 53 45 4C 4C 8C 16 08 5A 42 5A 58 98 0E 0C 4C 4D 4E 34 35 36 0C 55 73 65 72 5F 38]   |\n",
      "|[5A 54 45 53 54]|[00 00 00 00 01 08 53 45 4C 4C D4 2A 0A 5A 54 45 53 54 F2 05 0C 4C 4D 4E 34 35 36 0C 55 73 65 72 5F 33]|\n",
      "|[5A 56 56]      |[00 00 00 00 01 06 42 55 59 A8 3F 06 5A 56 56 AE 0B 0C 4C 4D 4E 34 35 36 0C 55 73 65 72 5F 39]         |\n",
      "|[5A 57 5A 5A 54]|[00 00 00 00 01 06 42 55 59 C8 34 0A 5A 57 5A 5A 54 D8 04 0C 4C 4D 4E 34 35 36 0C 55 73 65 72 5F 35]   |\n",
      "|[5A 42 5A 58]   |[00 00 00 00 01 06 42 55 59 9E 10 08 5A 42 5A 58 1A 0C 4C 4D 4E 34 35 36 0C 55 73 65 72 5F 33]         |\n",
      "|[5A 56 56]      |[00 00 00 00 01 08 53 45 4C 4C DA 0F 06 5A 56 56 E4 0A 0C 41 42 43 31 32 33 0C 55 73 65 72 5F 38]      |\n",
      "|[5A 56 56]      |[00 00 00 00 01 06 42 55 59 80 3C 06 5A 56 56 B2 08 0C 41 42 43 31 32 33 0C 55 73 65 72 5F 38]         |\n",
      "|[5A 57 5A 5A 54]|[00 00 00 00 01 08 53 45 4C 4C 88 09 0A 5A 57 5A 5A 54 C8 04 0C 41 42 43 31 32 33 0C 55 73 65 72 5F 35]|\n",
      "|[5A 58 5A 5A 54]|[00 00 00 00 01 08 53 45 4C 4C D0 12 0A 5A 58 5A 5A 54 D8 06 0C 58 59 5A 37 38 39 0C 55 73 65 72 5F 31]|\n",
      "+----------------+-------------------------------------------------------------------------------------------------------+\n",
      "only showing top 20 rows\n",
      "\n"
     ]
    },
    {
     "data": {
      "text/plain": [
       "None"
      ]
     },
     "metadata": {},
     "output_type": "display_data"
    }
   ],
   "source": [
    "clear_output(wait=True)\n",
    "display(spark.sql('SELECT key, value FROM raw_stocktrades_view').show(20,False))\n",
    "time.sleep(1)"
   ]
  },
  {
   "cell_type": "code",
   "execution_count": 104,
   "id": "f6eec94b",
   "metadata": {},
   "outputs": [],
   "source": [
    "raw_stream.stop()"
   ]
  },
  {
   "cell_type": "markdown",
   "id": "6a7d4d07",
   "metadata": {},
   "source": [
    "### Convert Key Value pairs to strings"
   ]
  },
  {
   "cell_type": "code",
   "execution_count": 105,
   "id": "ce4df3a1",
   "metadata": {},
   "outputs": [],
   "source": [
    "binary_to_string = F.udf(lambda x: str(int.from_bytes(x, byteorder='big')), StringType())"
   ]
  },
  {
   "cell_type": "code",
   "execution_count": 106,
   "id": "5a1ed044",
   "metadata": {},
   "outputs": [],
   "source": [
    "string_stream_df = stream_df \\\n",
    "    .withColumn(\"key\", stream_df[\"key\"].cast(StringType())) \\\n",
    "      .withColumn('value', stream_df[\"value\"].cast(StringType()))"
   ]
  },
  {
   "cell_type": "code",
   "execution_count": 107,
   "id": "d3c79f01",
   "metadata": {},
   "outputs": [],
   "source": [
    "string_stream = string_stream_df \\\n",
    "    .writeStream \\\n",
    "    .format(\"memory\") \\\n",
    "    .queryName(\"string_stocktrades_view\") \\\n",
    "    .start()"
   ]
  },
  {
   "cell_type": "code",
   "execution_count": 108,
   "id": "4a33a0b0",
   "metadata": {},
   "outputs": [
    {
     "name": "stdout",
     "output_type": "stream",
     "text": [
      "+-----+----------------------------------+\n",
      "|key  |value                             |\n",
      "+-----+----------------------------------+\n",
      "|ZVZZT|\u0000\u0000\u0000\u0000SELL�\u0012\n",
      "ZVZZT�\u0003\f",
      "LMN456\f",
      "User_9|\n",
      "|ZVV  |\u0000\u0000\u0000\u0000SELL�\u001a\u0006ZVV�\u0006\f",
      "ABC123\f",
      "User_5  |\n",
      "|ZVZZT|\u0000\u0000\u0000\u0000\u0001\u0006BUY�)\n",
      "ZVZZT�\n",
      "\f",
      "LMN456\f",
      "User_3 |\n",
      "|ZXZZT|\u0000\u0000\u0000\u0000\u0001\u0006BUY�\u0001\n",
      "ZXZZT�\u000b",
      "\f",
      "XYZ789\f",
      "User_8 |\n",
      "\f",
      "XYZ789\f",
      "User_6  |\u0006ZVV�\n",
      "|ZJZZT|\u0000\u0000\u0000\u0000SELL�3\n",
      "ZJZZT�\f",
      "\f",
      "XYZ789\f",
      "User_5|\n",
      "|ZJZZT|\u0000\u0000\u0000\u0000SELL�5\n",
      "ZJZZT\f",
      "LMN456\f",
      "User_3|\n",
      "|ZTEST|\u0000\u0000\u0000\u0000\u0001\u0006BUY�\u001b\n",
      "ZTEST�\u0002\f",
      "ABC123\f",
      "User_4 |\n",
      "|ZWZZT|\u0000\u0000\u0000\u0000\u0001\u0006BUY�&\n",
      "ZWZZT�\u000b",
      "\f",
      "XYZ789\f",
      "User_2 |\n",
      "|ZVZZT|\u0000\u0000\u0000\u0000SELL�+\n",
      "ZVZZT�\u000b",
      "\f",
      "LMN456\f",
      "User_3|\n",
      "|ZWZZT|\u0000\u0000\u0000\u0000SELL�.\n",
      "ZWZZT�\f",
      "\f",
      "XYZ789\f",
      "User_8|\n",
      "|ZBZX |\u0000\u0000\u0000\u0000SELL�ZBZX�\u000e\f",
      "LMN456\f",
      "User_8 |\n",
      "|ZTEST|\u0000\u0000\u0000\u0000SELL�*\n",
      "ZTEST�\u0005\f",
      "LMN456\f",
      "User_3|\n",
      "|ZVV  |\u0000\u0000\u0000\u0000\u0001\u0006BUY�?\u0006ZVV�\u000b",
      "\f",
      "LMN456\f",
      "User_9   |\n",
      "|ZWZZT|\u0000\u0000\u0000\u0000\u0001\u0006BUY�4\n",
      "ZWZZT�\u0004\f",
      "LMN456\f",
      "User_5 |\n",
      "|ZBZX |\u0000\u0000\u0000\u0000\u0001\u0006BUY�ZBZX\u001a\f",
      "LMN456\f",
      "User_3   |\n",
      "|ZVV  |\u0000\u0000\u0000\u0000SELL�\u000f\u0006ZVV�\n",
      "\f",
      "ABC123\f",
      "User_8  |\n",
      "|ZVV  |\u0000\u0000\u0000\u0000\u0001\u0006BUY�<\u0006ZVV\f",
      "ABC123\f",
      "User_8   |\n",
      "|ZWZZT|\u0000\u0000\u0000\u0000SELL�\t\n",
      "ZWZZT�\u0004\f",
      "ABC123\f",
      "User_5|\n",
      "|ZXZZT|\u0000\u0000\u0000\u0000SELL�\u0012\n",
      "ZXZZT�\u0006\f",
      "XYZ789\f",
      "User_1|\n",
      "+-----+----------------------------------+\n",
      "only showing top 20 rows\n",
      "\n"
     ]
    },
    {
     "data": {
      "text/plain": [
       "None"
      ]
     },
     "metadata": {},
     "output_type": "display_data"
    }
   ],
   "source": [
    "clear_output(wait=True)\n",
    "display(spark.sql('SELECT key, value FROM string_stocktrades_view').show(20, False))\n",
    "time.sleep(1)"
   ]
  },
  {
   "cell_type": "code",
   "execution_count": 94,
   "id": "9f5bae87",
   "metadata": {},
   "outputs": [],
   "source": [
    "string_stream.stop()"
   ]
  },
  {
   "cell_type": "markdown",
   "id": "b5420a8c",
   "metadata": {},
   "source": [
    "## Transformation"
   ]
  },
  {
   "cell_type": "code",
   "execution_count": 79,
   "id": "92eb4262",
   "metadata": {},
   "outputs": [],
   "source": [
    "schema_stocktrades = StructType([\n",
    "        StructField(\"side\", StringType(),  True),\n",
    "        StructField(\"quantity\", IntegerType(),  True),\n",
    "        StructField(\"price\", IntegerType(),  True),\n",
    "        StructField(\"symbol\", StringType(),  True),\n",
    "        StructField(\"account\", StringType(), True),\n",
    "         StructField(\"\", StringType(), True)\n",
    "    \n",
    "])"
   ]
  },
  {
   "cell_type": "code",
   "execution_count": 80,
   "id": "e0b11b2e",
   "metadata": {},
   "outputs": [],
   "source": [
    "json_stream_df = string_stream_df\\\n",
    "    .withColumn(\"value\", F.from_json(\"value\", schema_stocktrades))"
   ]
  },
  {
   "cell_type": "code",
   "execution_count": 81,
   "id": "b50b498d",
   "metadata": {},
   "outputs": [
    {
     "name": "stdout",
     "output_type": "stream",
     "text": [
      "root\n",
      " |-- key: string (nullable = true)\n",
      " |-- value: struct (nullable = true)\n",
      " |    |-- side: string (nullable = true)\n",
      " |    |-- quantity: integer (nullable = true)\n",
      " |    |-- price: integer (nullable = true)\n",
      " |    |-- symbol: string (nullable = true)\n",
      " |    |-- account: string (nullable = true)\n",
      " |    |-- : string (nullable = true)\n",
      " |-- topic: string (nullable = true)\n",
      " |-- partition: integer (nullable = true)\n",
      " |-- offset: long (nullable = true)\n",
      " |-- timestamp: timestamp (nullable = true)\n",
      " |-- timestampType: integer (nullable = true)\n",
      "\n"
     ]
    }
   ],
   "source": [
    "json_stream_df.printSchema()"
   ]
  },
  {
   "cell_type": "code",
   "execution_count": 82,
   "id": "102bb6a2",
   "metadata": {},
   "outputs": [],
   "source": [
    "json_stream = json_stream_df \\\n",
    "    .writeStream \\\n",
    "    .format(\"memory\") \\\n",
    "    .queryName(\"extract_stocktrades_view\") \\\n",
    "    .start()"
   ]
  },
  {
   "cell_type": "code",
   "execution_count": 84,
   "id": "ac8644f9",
   "metadata": {},
   "outputs": [
    {
     "name": "stdout",
     "output_type": "stream",
     "text": [
      "+----+------------------------------------+----------+---------+------+-----------------------+-------------+\n",
      "|key |value                               |topic     |partition|offset|timestamp              |timestampType|\n",
      "+----+------------------------------------+----------+---------+------+-----------------------+-------------+\n",
      "|null|{null, null, null, null, null, null}|BUY_TRADES|0        |0     |2021-06-05 07:41:04.223|0            |\n",
      "|null|{null, null, null, null, null, null}|BUY_TRADES|0        |1     |2021-06-05 07:41:04.279|0            |\n",
      "|null|{null, null, null, null, null, null}|BUY_TRADES|0        |2     |2021-06-05 07:41:04.433|0            |\n",
      "|null|{null, null, null, null, null, null}|BUY_TRADES|0        |3     |2021-06-05 07:41:04.488|0            |\n",
      "|null|{null, null, null, null, null, null}|BUY_TRADES|0        |4     |2021-06-05 07:41:04.513|0            |\n",
      "|null|{null, null, null, null, null, null}|BUY_TRADES|0        |5     |2021-06-05 07:41:04.632|0            |\n",
      "|null|{null, null, null, null, null, null}|BUY_TRADES|0        |6     |2021-06-05 07:41:04.861|0            |\n",
      "|null|{null, null, null, null, null, null}|BUY_TRADES|0        |7     |2021-06-05 07:41:04.955|0            |\n",
      "|null|{null, null, null, null, null, null}|BUY_TRADES|0        |8     |2021-06-05 07:41:04.96 |0            |\n",
      "|null|{null, null, null, null, null, null}|BUY_TRADES|0        |9     |2021-06-05 07:41:05.002|0            |\n",
      "|null|{null, null, null, null, null, null}|BUY_TRADES|0        |10    |2021-06-05 07:41:05.151|0            |\n",
      "|null|{null, null, null, null, null, null}|BUY_TRADES|0        |11    |2021-06-05 07:41:05.308|0            |\n",
      "|null|{null, null, null, null, null, null}|BUY_TRADES|0        |12    |2021-06-05 07:41:05.317|0            |\n",
      "|null|{null, null, null, null, null, null}|BUY_TRADES|0        |13    |2021-06-05 07:41:05.418|0            |\n",
      "|null|{null, null, null, null, null, null}|BUY_TRADES|0        |14    |2021-06-05 07:41:05.509|0            |\n",
      "|null|{null, null, null, null, null, null}|BUY_TRADES|0        |15    |2021-06-05 07:41:05.541|0            |\n",
      "|null|{null, null, null, null, null, null}|BUY_TRADES|0        |16    |2021-06-05 07:41:05.897|0            |\n",
      "|null|{null, null, null, null, null, null}|BUY_TRADES|0        |17    |2021-06-05 07:41:05.997|0            |\n",
      "|null|{null, null, null, null, null, null}|BUY_TRADES|0        |18    |2021-06-05 07:41:06.096|0            |\n",
      "|null|{null, null, null, null, null, null}|BUY_TRADES|0        |19    |2021-06-05 07:41:06.288|0            |\n",
      "+----+------------------------------------+----------+---------+------+-----------------------+-------------+\n",
      "only showing top 20 rows\n",
      "\n"
     ]
    },
    {
     "data": {
      "text/plain": [
       "None"
      ]
     },
     "metadata": {},
     "output_type": "display_data"
    }
   ],
   "source": [
    "clear_output(wait=True)\n",
    "display(spark.sql('SELECT * FROM extract_stocktrades_view').show(20, False))\n",
    "time.sleep(1)"
   ]
  },
  {
   "cell_type": "code",
   "execution_count": 72,
   "id": "f480db5d",
   "metadata": {},
   "outputs": [],
   "source": [
    "json_stream.stop()"
   ]
  },
  {
   "cell_type": "code",
   "execution_count": 65,
   "id": "b238e71b",
   "metadata": {},
   "outputs": [],
   "source": [
    "spark.stop()"
   ]
  },
  {
   "cell_type": "code",
   "execution_count": null,
   "id": "a0dfd6d0",
   "metadata": {},
   "outputs": [],
   "source": []
  },
  {
   "cell_type": "code",
   "execution_count": 14,
   "id": "33d52714",
   "metadata": {},
   "outputs": [],
   "source": [
    "hex_string = '00 00 00 00 01 08 53 45 4C 4C AE 12 0A 5A 56 5A 5A 54 D8 03 0C 4C 4D 4E 34 35 36 0C 55 73 65 72 5F 39'"
   ]
  },
  {
   "cell_type": "code",
   "execution_count": 15,
   "id": "0df4d2df",
   "metadata": {},
   "outputs": [],
   "source": [
    "bytes_object = bytes.fromhex(hex_string)"
   ]
  },
  {
   "cell_type": "code",
   "execution_count": 18,
   "id": "bdcdb2be",
   "metadata": {},
   "outputs": [
    {
     "name": "stdout",
     "output_type": "stream",
     "text": [
      "b'\\x00\\x00\\x00\\x00\\x01\\x08SELL\\xae\\x12\\nZVZZT\\xd8\\x03\\x0cLMN456\\x0cUser_9'\n"
     ]
    }
   ],
   "source": [
    "print(bytes_object)"
   ]
  },
  {
   "cell_type": "code",
   "execution_count": 20,
   "id": "815b44a5",
   "metadata": {},
   "outputs": [
    {
     "data": {
      "text/plain": [
       "'\\x00\\x00\\x00\\x00\\x01'"
      ]
     },
     "execution_count": 20,
     "metadata": {},
     "output_type": "execute_result"
    }
   ],
   "source": [
    "b'\\x00\\x00\\x00\\x00\\x01'.decode(\"ASCII\")"
   ]
  },
  {
   "cell_type": "code",
   "execution_count": null,
   "id": "2566a7d8",
   "metadata": {},
   "outputs": [],
   "source": []
  }
 ],
 "metadata": {
  "kernelspec": {
   "display_name": "Python 3",
   "language": "python",
   "name": "python3"
  },
  "language_info": {
   "codemirror_mode": {
    "name": "ipython",
    "version": 3
   },
   "file_extension": ".py",
   "mimetype": "text/x-python",
   "name": "python",
   "nbconvert_exporter": "python",
   "pygments_lexer": "ipython3",
   "version": "3.8.8"
  }
 },
 "nbformat": 4,
 "nbformat_minor": 5
}
