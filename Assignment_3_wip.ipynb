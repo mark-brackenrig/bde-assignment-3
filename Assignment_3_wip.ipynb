{
 "cells": [
  {
   "cell_type": "markdown",
   "id": "e3ece582",
   "metadata": {},
   "source": [
    "## Part 1 - Produce Data\n",
    "We elected to use the datagen connector to generate fake data for this assignment. The topic we used was 'stocktrades. The steps were as follows:\n",
    "*  Open a browser and go to http://localhost:9021/\n",
    "*  Select the available cluster\n",
    "*  On the menu bar, select Connect\n",
    "*  Click on the connect-default cluster in the Connect Clusters list.\n",
    "*  Click on Add connector\n",
    "*  Select DatagenConnector\n",
    "*  Enter connector_stock_trades in the Name field\n",
    "\n",
    "Then:\n",
    "Generate a data stream with following configurations:\n",
    "```\n",
    "Key converter class: org.apache.kafka.connect.storage.StringConverter\n",
    "kafka.topic: stocktrades\n",
    "max.interval: 100\n",
    "quickstart: Stock_Trades\n",
    "```\n"
   ]
  },
  {
   "cell_type": "markdown",
   "id": "2b9d2bf1",
   "metadata": {},
   "source": [
    "## Part 2 - Using Ksql to create at least 2 streams with filtering from topics\n",
    "\n",
    "To begin, you need to create a stream called stocktrades with no filtering in place."
   ]
  },
  {
   "cell_type": "code",
   "execution_count": null,
   "id": "7a213f55",
   "metadata": {},
   "outputs": [],
   "source": [
    "CREATE STREAM STOCKTRADES\n",
    "   (SIDE STRING, QUANTITY INTEGER, SYMBOL STRING, PRICE INTEGER, ACCOUNT STRING, USERID STRING)\n",
    "       WITH (KAFKA_TOPIC='stocktrades', VALUE_FORMAT='AVRO');"
   ]
  },
  {
   "cell_type": "markdown",
   "id": "69044217",
   "metadata": {},
   "source": [
    "### Stream 1 - Sell Stream\n",
    "It may be in the interest of the business to view only streams where the stock was sold and not bought. This would be useful in identifying which shares should be taken as a 'short' position"
   ]
  },
  {
   "cell_type": "code",
   "execution_count": null,
   "id": "3f7dcc48",
   "metadata": {},
   "outputs": [],
   "source": [
    "CREATE STREAM SELL_TRADES WITH (KAFKA_TOPIC='SELL_TRADES', PARTITIONS=1, REPLICAS=1) AS SELECT\n",
    "  STOCKTRADES.QUANTITY QUANTITY,\n",
    "  STOCKTRADES.SYMBOL SYMBOL,\n",
    "  STOCKTRADES.PRICE PRICE,\n",
    "  STOCKTRADES.ACCOUNT ACCOUNT,\n",
    "  STOCKTRADES.USERID USERID\n",
    "FROM STOCKTRADES STOCKTRADES\n",
    "WHERE (STOCKTRADES.SIDE = 'SELL')\n",
    "EMIT CHANGES;\n"
   ]
  },
  {
   "cell_type": "markdown",
   "id": "e19aa661",
   "metadata": {},
   "source": [
    "### Stream 2 - Buy Stream\n",
    "It may also be interesting to the business to see trades that were large buys."
   ]
  },
  {
   "cell_type": "code",
   "execution_count": null,
   "id": "279ac197",
   "metadata": {},
   "outputs": [],
   "source": [
    "CREATE STREAM BUY_TRADES WITH (KAFKA_TOPIC='BUY_TRADES', PARTITIONS=1, REPLICAS=1) AS SELECT\n",
    "  STOCKTRADES.QUANTITY QUANTITY,\n",
    "  STOCKTRADES.SYMBOL SYMBOL,\n",
    "  STOCKTRADES.PRICE PRICE,\n",
    "  STOCKTRADES.ACCOUNT ACCOUNT,\n",
    "  STOCKTRADES.USERID USERID\n",
    "FROM STOCKTRADES STOCKTRADES\n",
    "WHERE (STOCKTRADES.SIDE = 'BUY')\n",
    "EMIT CHANGES;"
   ]
  },
  {
   "cell_type": "markdown",
   "id": "bc210878",
   "metadata": {},
   "source": [
    "### Table 1 - Aggregated Buy Trades\n"
   ]
  },
  {
   "cell_type": "code",
   "execution_count": null,
   "id": "82a8b12d",
   "metadata": {},
   "outputs": [],
   "source": [
    "CREATE TABLE AGG_BUY_ORDERS WITH (KAFKA_TOPIC='AGG_BUY_ORDERS', PARTITIONS=1, REPLICAS=1) AS SELECT\n",
    "  BUY_TRADES.SYMBOL SYMBOL,\n",
    "  SUM(BUY_TRADES.QUANTITY) QUANTITY_AGG,\n",
    "  AVG(BUY_TRADES.PRICE) PRICE_AVG,\n",
    "  SUM((BUY_TRADES.QUANTITY * BUY_TRADES.PRICE)) VALUE_TRADED\n",
    "FROM BUY_TRADES BUY_TRADES\n",
    "WINDOW TUMBLING ( SIZE 60 SECONDS )\n",
    "GROUP BY BUY_TRADES.SYMBOL\n",
    "EMIT CHANGES;\n"
   ]
  },
  {
   "cell_type": "markdown",
   "id": "ae681861",
   "metadata": {},
   "source": [
    "### Table 2 - Aggregated Sell Trades"
   ]
  },
  {
   "cell_type": "code",
   "execution_count": null,
   "id": "e193816d",
   "metadata": {},
   "outputs": [],
   "source": [
    "CREATE TABLE AGG_SELL_ORDERS WITH (KAFKA_TOPIC='AGG_SELL_ORDERS', PARTITIONS=1, REPLICAS=1) AS SELECT\n",
    "  SELL_TRADES.SYMBOL SYMBOL,\n",
    "  SUM(SELL_TRADES.QUANTITY) QUANTITY_AGG,\n",
    "  AVG(SELL_TRADES.PRICE) PRICE_AVG,\n",
    "  SUM((SELL_TRADES.QUANTITY * SELL_TRADES.PRICE)) VALUE_TRADED\n",
    "FROM SELL_TRADES SELL_TRADES\n",
    "WINDOW TUMBLING ( SIZE 60 SECONDS )\n",
    "GROUP BY SELL_TRADES.SYMBOL\n",
    "EMIT CHANGES;"
   ]
  },
  {
   "cell_type": "markdown",
   "id": "c0858673",
   "metadata": {},
   "source": [
    "## Part 3 - Consume/Transform data with Spark Streaming"
   ]
  },
  {
   "cell_type": "code",
   "execution_count": 143,
   "id": "be7fb67d",
   "metadata": {},
   "outputs": [],
   "source": [
    "from pyspark.sql import SparkSession\n",
    "from IPython.display import display, clear_output\n",
    "import time\n",
    "from pyspark.sql import functions as F\n",
    "from pyspark.sql.types import StructType,StringType, StructField, IntegerType, FloatType"
   ]
  },
  {
   "cell_type": "code",
   "execution_count": 144,
   "id": "88683cb2",
   "metadata": {},
   "outputs": [],
   "source": [
    "spark = SparkSession.builder \\\n",
    "        .appName('kafka') \\\n",
    "        .getOrCreate()"
   ]
  },
  {
   "cell_type": "code",
   "execution_count": 145,
   "id": "b0bf70cc",
   "metadata": {},
   "outputs": [
    {
     "data": {
      "text/plain": [
       "'3.1.1'"
      ]
     },
     "execution_count": 145,
     "metadata": {},
     "output_type": "execute_result"
    }
   ],
   "source": [
    "spark.version"
   ]
  },
  {
   "cell_type": "code",
   "execution_count": 146,
   "id": "4ae7d024",
   "metadata": {},
   "outputs": [
    {
     "data": {
      "text/plain": [
       "'3.2.0'"
      ]
     },
     "execution_count": 146,
     "metadata": {},
     "output_type": "execute_result"
    }
   ],
   "source": [
    "spark._jvm.org.apache.hadoop.util.VersionInfo.getVersion()"
   ]
  },
  {
   "cell_type": "markdown",
   "id": "7fa189db",
   "metadata": {},
   "source": [
    "## Raw Data Streams"
   ]
  },
  {
   "cell_type": "code",
   "execution_count": 147,
   "id": "8de4e78e",
   "metadata": {},
   "outputs": [],
   "source": [
    "stream_df = spark \\\n",
    "  .readStream \\\n",
    "  .format(\"kafka\") \\\n",
    "  .option(\"kafka.bootstrap.servers\", \"broker:29092\") \\\n",
    "  .option(\"startingOffsets\", \"earliest\") \\\n",
    "  .option(\"subscribe\", \"stocktrades\") \\\n",
    "  .load()"
   ]
  },
  {
   "cell_type": "code",
   "execution_count": 148,
   "id": "9373eb18",
   "metadata": {},
   "outputs": [
    {
     "name": "stdout",
     "output_type": "stream",
     "text": [
      "root\n",
      " |-- key: binary (nullable = true)\n",
      " |-- value: binary (nullable = true)\n",
      " |-- topic: string (nullable = true)\n",
      " |-- partition: integer (nullable = true)\n",
      " |-- offset: long (nullable = true)\n",
      " |-- timestamp: timestamp (nullable = true)\n",
      " |-- timestampType: integer (nullable = true)\n",
      "\n"
     ]
    }
   ],
   "source": [
    "stream_df.printSchema()"
   ]
  },
  {
   "cell_type": "code",
   "execution_count": 149,
   "id": "6fb1b330",
   "metadata": {},
   "outputs": [],
   "source": [
    "raw_stream = stream_df \\\n",
    "    .writeStream \\\n",
    "    .format(\"memory\") \\\n",
    "    .queryName(\"raw_stocktrades_view\") \\\n",
    "    .start()"
   ]
  },
  {
   "cell_type": "code",
   "execution_count": 151,
   "id": "972fbbd4",
   "metadata": {},
   "outputs": [
    {
     "name": "stdout",
     "output_type": "stream",
     "text": [
      "+----------------+-------------------------------------------------------------------------------------------------------+\n",
      "|key             |VALUE                                                                                                  |\n",
      "+----------------+-------------------------------------------------------------------------------------------------------+\n",
      "|[5A 56 5A 5A 54]|[00 00 00 00 01 06 42 55 59 90 0B 0A 5A 56 5A 5A 54 BE 0E 0C 41 42 43 31 32 33 0C 55 73 65 72 5F 31]   |\n",
      "|[5A 56 5A 5A 54]|[00 00 00 00 01 06 42 55 59 96 38 0A 5A 56 5A 5A 54 92 01 0C 4C 4D 4E 34 35 36 0C 55 73 65 72 5F 38]   |\n",
      "|[5A 57 5A 5A 54]|[00 00 00 00 01 08 53 45 4C 4C AE 29 0A 5A 57 5A 5A 54 D6 06 0C 41 42 43 31 32 33 0C 55 73 65 72 5F 32]|\n",
      "|[5A 4A 5A 5A 54]|[00 00 00 00 01 06 42 55 59 B8 29 0A 5A 4A 5A 5A 54 AC 06 0C 58 59 5A 37 38 39 0C 55 73 65 72 5F 38]   |\n",
      "|[5A 56 5A 5A 54]|[00 00 00 00 01 06 42 55 59 D0 43 0A 5A 56 5A 5A 54 84 0F 0C 58 59 5A 37 38 39 0C 55 73 65 72 5F 34]   |\n",
      "|[5A 58 5A 5A 54]|[00 00 00 00 01 08 53 45 4C 4C B6 16 0A 5A 58 5A 5A 54 A4 02 0C 41 42 43 31 32 33 0C 55 73 65 72 5F 39]|\n",
      "|[5A 56 5A 5A 54]|[00 00 00 00 01 08 53 45 4C 4C FE 23 0A 5A 56 5A 5A 54 C0 02 0C 4C 4D 4E 34 35 36 0C 55 73 65 72 5F 35]|\n",
      "|[5A 42 5A 58]   |[00 00 00 00 01 08 53 45 4C 4C D6 3D 08 5A 42 5A 58 AE 07 0C 4C 4D 4E 34 35 36 0C 55 73 65 72 5F 35]   |\n",
      "|[5A 56 5A 5A 54]|[00 00 00 00 01 06 42 55 59 80 1C 0A 5A 56 5A 5A 54 28 0C 41 42 43 31 32 33 0C 55 73 65 72 5F 33]      |\n",
      "|[5A 54 45 53 54]|[00 00 00 00 01 08 53 45 4C 4C AC 4A 0A 5A 54 45 53 54 A8 09 0C 58 59 5A 37 38 39 0C 55 73 65 72 5F 36]|\n",
      "|[5A 42 5A 58]   |[00 00 00 00 01 06 42 55 59 9C 07 08 5A 42 5A 58 B4 08 0C 41 42 43 31 32 33 0C 55 73 65 72 5F 38]      |\n",
      "|[5A 4A 5A 5A 54]|[00 00 00 00 01 08 53 45 4C 4C CA 28 0A 5A 4A 5A 5A 54 C2 07 0C 4C 4D 4E 34 35 36 0C 55 73 65 72 5F 37]|\n",
      "|[5A 4A 5A 5A 54]|[00 00 00 00 01 08 53 45 4C 4C CE 43 0A 5A 4A 5A 5A 54 A8 06 0C 58 59 5A 37 38 39 0C 55 73 65 72 5F 33]|\n",
      "|[5A 54 45 53 54]|[00 00 00 00 01 08 53 45 4C 4C 98 1C 0A 5A 54 45 53 54 9A 07 0C 4C 4D 4E 34 35 36 0C 55 73 65 72 5F 36]|\n",
      "|[5A 56 56]      |[00 00 00 00 01 08 53 45 4C 4C C4 3F 06 5A 56 56 B6 02 0C 4C 4D 4E 34 35 36 0C 55 73 65 72 5F 39]      |\n",
      "|[5A 42 5A 58]   |[00 00 00 00 01 08 53 45 4C 4C C8 3D 08 5A 42 5A 58 D2 01 0C 4C 4D 4E 34 35 36 0C 55 73 65 72 5F 32]   |\n",
      "|[5A 54 45 53 54]|[00 00 00 00 01 06 42 55 59 88 30 0A 5A 54 45 53 54 CA 0A 0C 4C 4D 4E 34 35 36 0C 55 73 65 72 5F 33]   |\n",
      "|[5A 57 5A 5A 54]|[00 00 00 00 01 08 53 45 4C 4C 96 28 0A 5A 57 5A 5A 54 F8 0C 0C 41 42 43 31 32 33 0C 55 73 65 72 5F 34]|\n",
      "|[5A 58 5A 5A 54]|[00 00 00 00 01 06 42 55 59 D8 26 0A 5A 58 5A 5A 54 96 0F 0C 58 59 5A 37 38 39 0C 55 73 65 72 5F 38]   |\n",
      "|[5A 58 5A 5A 54]|[00 00 00 00 01 06 42 55 59 52 0A 5A 58 5A 5A 54 8E 05 0C 41 42 43 31 32 33 0C 55 73 65 72 5F 31]      |\n",
      "+----------------+-------------------------------------------------------------------------------------------------------+\n",
      "only showing top 20 rows\n",
      "\n"
     ]
    },
    {
     "data": {
      "text/plain": [
       "None"
      ]
     },
     "metadata": {},
     "output_type": "display_data"
    }
   ],
   "source": [
    "clear_output(wait=True)\n",
    "display(spark.sql('SELECT key, VALUE FROM raw_stocktrades_view').show(20,False))\n",
    "time.sleep(1)"
   ]
  },
  {
   "cell_type": "code",
   "execution_count": 152,
   "id": "78ddc2c3",
   "metadata": {},
   "outputs": [],
   "source": [
    "raw_stream.stop()"
   ]
  },
  {
   "cell_type": "markdown",
   "id": "f4c2c688",
   "metadata": {},
   "source": [
    "### Convert Key Value pairs to strings"
   ]
  },
  {
   "cell_type": "code",
   "execution_count": 153,
   "id": "bd25a24f",
   "metadata": {},
   "outputs": [],
   "source": [
    "string_stream_df = stream_df \\\n",
    "    .withColumn(\"key\", stream_df[\"key\"].cast(StringType())) \\\n",
    "    .withColumn(\"value\", stream_df[\"value\"].cast(StringType()))"
   ]
  },
  {
   "cell_type": "code",
   "execution_count": 154,
   "id": "e73724b2",
   "metadata": {},
   "outputs": [],
   "source": [
    "string_stream = string_stream_df \\\n",
    "    .writeStream \\\n",
    "    .format(\"memory\") \\\n",
    "    .queryName(\"string_stocktrades_view\") \\\n",
    "    .start()"
   ]
  },
  {
   "cell_type": "code",
   "execution_count": 156,
   "id": "b98b9899",
   "metadata": {},
   "outputs": [
    {
     "name": "stdout",
     "output_type": "stream",
     "text": [
      "+-----+----------------------------------+\n",
      "|key  |value                             |\n",
      "+-----+----------------------------------+\n",
      "|ZVZZT|\u0000\u0000\u0000\u0000\u0001\u0006BUY�\u000b",
      "\n",
      "ZVZZT�\u000e\f",
      "ABC123\f",
      "User_1 |\n",
      "|ZVZZT|\u0000\u0000\u0000\u0000\u0001\u0006BUY�8\n",
      "ZVZZT�\u0001\f",
      "LMN456\f",
      "User_8 |\n",
      "|ZWZZT|\u0000\u0000\u0000\u0000SELL�)\n",
      "ZWZZT�\u0006\f",
      "ABC123\f",
      "User_2|\n",
      "|ZJZZT|\u0000\u0000\u0000\u0000\u0001\u0006BUY�)\n",
      "ZJZZT�\u0006\f",
      "XYZ789\f",
      "User_8 |\n",
      "|ZVZZT|\u0000\u0000\u0000\u0000\u0001\u0006BUY�C\n",
      "ZVZZT�\u000f\f",
      "XYZ789\f",
      "User_4 |\n",
      "|ZXZZT|\u0000\u0000\u0000\u0000SELL�\u0016\n",
      "ZXZZT�\u0002\f",
      "ABC123\f",
      "User_9|\n",
      "|ZVZZT|\u0000\u0000\u0000\u0000SELL�#\n",
      "ZVZZT�\u0002\f",
      "LMN456\f",
      "User_5|\n",
      "|ZBZX |\u0000\u0000\u0000\u0000SELL�ZBZX�\u0007\f",
      "LMN456\f",
      "User_5 |\n",
      "|ZVZZT|\u0000\u0000\u0000\u0000\u0001\u0006BUY�\u001c",
      "\n",
      "ZVZZT(\f",
      "ABC123\f",
      "User_3  |\n",
      "|ZTEST|\u0000\u0000\u0000\u0000SELL�J\n",
      "ZTEST�\t\f",
      "XYZ789\f",
      "User_6|\n",
      "|ZBZX |\u0000\u0000\u0000\u0000\u0001\u0006BUY�ZBZX\f",
      "ABC123\f",
      "User_8  |\n",
      "|ZJZZT|\u0000\u0000\u0000\u0000SELL�(\n",
      "ZJZZT�\u0007\f",
      "LMN456\f",
      "User_7|\n",
      "|ZJZZT|\u0000\u0000\u0000\u0000SELL�C\n",
      "ZJZZT�\u0006\f",
      "XYZ789\f",
      "User_3|\n",
      "|ZTEST|\u0000\u0000\u0000\u0000SELL�\u001c",
      "\n",
      "ZTEST�\u0007\f",
      "LMN456\f",
      "User_6|\n",
      "|ZVV  |\u0000\u0000\u0000\u0000SELL�?\u0006ZVV�\u0002\f",
      "LMN456\f",
      "User_9  |\n",
      "|ZBZX |\u0000\u0000\u0000\u0000SELL�ZBZX�\u0001\f",
      "LMN456\f",
      "User_2 |\n",
      "|ZTEST|\u0000\u0000\u0000\u0000\u0001\u0006BUY�0\n",
      "ZTEST�\n",
      "\f",
      "LMN456\f",
      "User_3 |\n",
      "|ZWZZT|\u0000\u0000\u0000\u0000SELL�(\n",
      "ZWZZT�\f",
      "\f",
      "ABC123\f",
      "User_4|\n",
      "|ZXZZT|\u0000\u0000\u0000\u0000\u0001\u0006BUY�&\n",
      "ZXZZT�\u000f\f",
      "XYZ789\f",
      "User_8 |\n",
      "|ZXZZT|\u0000\u0000\u0000\u0000\u0001\u0006BUYR\n",
      "ZXZZT�\u0005\f",
      "ABC123\f",
      "User_1  |\n",
      "+-----+----------------------------------+\n",
      "only showing top 20 rows\n",
      "\n"
     ]
    },
    {
     "data": {
      "text/plain": [
       "None"
      ]
     },
     "metadata": {},
     "output_type": "display_data"
    }
   ],
   "source": [
    "clear_output(wait=True)\n",
    "display(spark.sql('SELECT key, value FROM string_stocktrades_view').show(20, False))\n",
    "time.sleep(1)"
   ]
  },
  {
   "cell_type": "code",
   "execution_count": 157,
   "id": "fdc23d00",
   "metadata": {},
   "outputs": [],
   "source": [
    "string_stream.stop()"
   ]
  },
  {
   "cell_type": "markdown",
   "id": "2831b561",
   "metadata": {},
   "source": [
    "## Transformation"
   ]
  },
  {
   "cell_type": "code",
   "execution_count": 73,
   "id": "e29e7d37",
   "metadata": {},
   "outputs": [],
   "source": [
    "schema_stocktrades = StructType([\n",
    "        StructField(\"side\", StringType(),  True),\n",
    "        StructField(\"quantity\", IntegerType(),  True),\n",
    "        StructField(\"price\", IntegerType(),  True),\n",
    "        StructField(\"symbol\", StringType(),  True),\n",
    "        StructField(\"account\", StringType(), True),\n",
    "         StructField(\"\", StringType(), True)\n",
    "    \n",
    "])"
   ]
  },
  {
   "cell_type": "code",
   "execution_count": 74,
   "id": "c02a375c",
   "metadata": {},
   "outputs": [],
   "source": [
    "json_stream_df = string_stream_df\\\n",
    "    .withColumn(\"value\", F.from_json(\"value\", schema_stocktrades))"
   ]
  },
  {
   "cell_type": "code",
   "execution_count": 75,
   "id": "6aa37e69",
   "metadata": {},
   "outputs": [
    {
     "name": "stdout",
     "output_type": "stream",
     "text": [
      "root\n",
      " |-- key: string (nullable = true)\n",
      " |-- value: struct (nullable = true)\n",
      " |    |-- side: string (nullable = true)\n",
      " |    |-- quantity: integer (nullable = true)\n",
      " |    |-- price: integer (nullable = true)\n",
      " |    |-- symbol: string (nullable = true)\n",
      " |    |-- account: string (nullable = true)\n",
      " |    |-- userid: string (nullable = true)\n",
      " |-- topic: string (nullable = true)\n",
      " |-- partition: integer (nullable = true)\n",
      " |-- offset: long (nullable = true)\n",
      " |-- timestamp: timestamp (nullable = true)\n",
      " |-- timestampType: integer (nullable = true)\n",
      "\n"
     ]
    }
   ],
   "source": [
    "json_stream_df.printSchema()"
   ]
  },
  {
   "cell_type": "code",
   "execution_count": 68,
   "id": "e260e5fb",
   "metadata": {},
   "outputs": [],
   "source": [
    "json_stream = json_stream_df \\\n",
    "    .writeStream \\\n",
    "    .format(\"memory\") \\\n",
    "    .queryName(\"extract_stocktrades_view\") \\\n",
    "    .start()"
   ]
  },
  {
   "cell_type": "code",
   "execution_count": 71,
   "id": "58ad450b",
   "metadata": {},
   "outputs": [
    {
     "name": "stdout",
     "output_type": "stream",
     "text": [
      "+-----+--------------------+-----------+---------+------+--------------------+-------------+\n",
      "|  key|               value|      topic|partition|offset|           timestamp|timestampType|\n",
      "+-----+--------------------+-----------+---------+------+--------------------+-------------+\n",
      "|ZVZZT|{null, null, null...|stocktrades|        0|     0|2021-06-05 05:39:...|            0|\n",
      "|ZVZZT|{null, null, null...|stocktrades|        0|     1|2021-06-05 05:39:...|            0|\n",
      "|ZWZZT|{null, null, null...|stocktrades|        0|     2|2021-06-05 05:39:...|            0|\n",
      "|ZJZZT|{null, null, null...|stocktrades|        0|     3|2021-06-05 05:39:...|            0|\n",
      "|ZVZZT|{null, null, null...|stocktrades|        0|     4|2021-06-05 05:39:...|            0|\n",
      "|ZXZZT|{null, null, null...|stocktrades|        0|     5|2021-06-05 05:39:...|            0|\n",
      "|ZVZZT|{null, null, null...|stocktrades|        0|     6|2021-06-05 05:39:...|            0|\n",
      "| ZBZX|{null, null, null...|stocktrades|        0|     7|2021-06-05 05:39:...|            0|\n",
      "|ZVZZT|{null, null, null...|stocktrades|        0|     8|2021-06-05 05:39:...|            0|\n",
      "|ZTEST|{null, null, null...|stocktrades|        0|     9|2021-06-05 05:39:...|            0|\n",
      "| ZBZX|{null, null, null...|stocktrades|        0|    10|2021-06-05 05:39:...|            0|\n",
      "|ZJZZT|{null, null, null...|stocktrades|        0|    11|2021-06-05 05:39:...|            0|\n",
      "|ZJZZT|{null, null, null...|stocktrades|        0|    12|2021-06-05 05:39:...|            0|\n",
      "|ZTEST|{null, null, null...|stocktrades|        0|    13|2021-06-05 05:39:...|            0|\n",
      "|  ZVV|{null, null, null...|stocktrades|        0|    14|2021-06-05 05:39:...|            0|\n",
      "| ZBZX|{null, null, null...|stocktrades|        0|    15|2021-06-05 05:39:...|            0|\n",
      "|ZTEST|{null, null, null...|stocktrades|        0|    16|2021-06-05 05:39:...|            0|\n",
      "|ZWZZT|{null, null, null...|stocktrades|        0|    17|2021-06-05 05:39:...|            0|\n",
      "|ZXZZT|{null, null, null...|stocktrades|        0|    18|2021-06-05 05:39:...|            0|\n",
      "|ZXZZT|{null, null, null...|stocktrades|        0|    19|2021-06-05 05:39:...|            0|\n",
      "+-----+--------------------+-----------+---------+------+--------------------+-------------+\n",
      "only showing top 20 rows\n",
      "\n"
     ]
    },
    {
     "data": {
      "text/plain": [
       "None"
      ]
     },
     "metadata": {},
     "output_type": "display_data"
    }
   ],
   "source": [
    "clear_output(wait=True)\n",
    "display(spark.sql('SELECT * FROM extract_stocktrades_view').show(20))\n",
    "time.sleep(1)"
   ]
  },
  {
   "cell_type": "code",
   "execution_count": 72,
   "id": "9410e9af",
   "metadata": {},
   "outputs": [],
   "source": [
    "json_stream.stop()"
   ]
  },
  {
   "cell_type": "code",
   "execution_count": 142,
   "id": "c18c2bd0",
   "metadata": {},
   "outputs": [],
   "source": [
    "spark.stop()"
   ]
  },
  {
   "cell_type": "code",
   "execution_count": null,
   "id": "821ad5b2",
   "metadata": {},
   "outputs": [],
   "source": []
  }
 ],
 "metadata": {
  "kernelspec": {
   "display_name": "Python 3",
   "language": "python",
   "name": "python3"
  },
  "language_info": {
   "codemirror_mode": {
    "name": "ipython",
    "version": 3
   },
   "file_extension": ".py",
   "mimetype": "text/x-python",
   "name": "python",
   "nbconvert_exporter": "python",
   "pygments_lexer": "ipython3",
   "version": "3.8.8"
  }
 },
 "nbformat": 4,
 "nbformat_minor": 5
}
