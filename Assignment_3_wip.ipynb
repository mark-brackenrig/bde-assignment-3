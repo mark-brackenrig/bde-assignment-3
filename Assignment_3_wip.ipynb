{
 "cells": [
  {
   "cell_type": "markdown",
   "id": "1511b610",
   "metadata": {},
   "source": [
    "## Part 1 - Produce Data\n",
    "We elected to use the datagen connector to generate fake data for this assignment. The topic we used was 'stocktrades. The steps were as follows:\n",
    "*  Open a browser and go to http://localhost:9021/\n",
    "*  Select the available cluster\n",
    "*  On the menu bar, select Connect\n",
    "*  Click on the connect-default cluster in the Connect Clusters list.\n",
    "*  Click on Add connector\n",
    "*  Select DatagenConnector\n",
    "*  Enter connector_stock_trades in the Name field\n",
    "\n",
    "Then:\n",
    "Generate a data stream with following configurations:\n",
    "```\n",
    "Key converter class: org.apache.kafka.connect.storage.StringConverter\n",
    "kafka.topic: stocktrades\n",
    "max.interval: 100\n",
    "quickstart: Stock_Trades\n",
    "```\n"
   ]
  },
  {
   "cell_type": "markdown",
   "id": "c1265289",
   "metadata": {},
   "source": [
    "## Part 2 - Using Ksql to create at least 2 streams with filtering from topics\n",
    "\n",
    "To begin, you need to create a stream called stocktrades with no filtering in place."
   ]
  },
  {
   "cell_type": "code",
   "execution_count": null,
   "id": "4b5e8e69",
   "metadata": {},
   "outputs": [],
   "source": [
    "CREATE STREAM STOCKTRADES\n",
    "   (SIDE STRING, QUANTITY INTEGER, SYMBOL STRING, PRICE INTEGER, ACCOUNT STRING, USERID STRING)\n",
    "       WITH (KAFKA_TOPIC='stocktrades', VALUE_FORMAT='AVRO');"
   ]
  },
  {
   "cell_type": "markdown",
   "id": "d97a832f",
   "metadata": {},
   "source": [
    "### Stream 1 - Sell Stream\n",
    "It may be in the interest of the business to view only streams where the stock was sold and not bought. This would be useful in identifying which shares should be taken as a 'short' position"
   ]
  },
  {
   "cell_type": "code",
   "execution_count": null,
   "id": "20b24309",
   "metadata": {},
   "outputs": [],
   "source": [
    "CREATE STREAM SELL_TRADES WITH (KAFKA_TOPIC='SELL_TRADES', PARTITIONS=1, REPLICAS=1) AS SELECT\n",
    "  STOCKTRADES.QUANTITY QUANTITY,\n",
    "  STOCKTRADES.SYMBOL SYMBOL,\n",
    "  STOCKTRADES.PRICE PRICE,\n",
    "  STOCKTRADES.ACCOUNT ACCOUNT,\n",
    "  STOCKTRADES.USERID USERID\n",
    "FROM STOCKTRADES STOCKTRADES\n",
    "WHERE (STOCKTRADES.SIDE = 'SELL')\n",
    "EMIT CHANGES;\n"
   ]
  },
  {
   "cell_type": "markdown",
   "id": "6dc703cd",
   "metadata": {},
   "source": [
    "### Stream 2 - Buy Stream\n",
    "It may also be interesting to the business to see trades that were large buys."
   ]
  },
  {
   "cell_type": "code",
   "execution_count": null,
   "id": "457420c3",
   "metadata": {},
   "outputs": [],
   "source": [
    "CREATE STREAM BUY_TRADES WITH (KAFKA_TOPIC='BUY_TRADES', PARTITIONS=1, REPLICAS=1) AS SELECT\n",
    "  STOCKTRADES.QUANTITY QUANTITY,\n",
    "  STOCKTRADES.SYMBOL SYMBOL,\n",
    "  STOCKTRADES.PRICE PRICE,\n",
    "  STOCKTRADES.ACCOUNT ACCOUNT,\n",
    "  STOCKTRADES.USERID USERID\n",
    "FROM STOCKTRADES STOCKTRADES\n",
    "WHERE (STOCKTRADES.SIDE = 'BUY')\n",
    "EMIT CHANGES;"
   ]
  },
  {
   "cell_type": "markdown",
   "id": "c6e8dd0f",
   "metadata": {},
   "source": [
    "### Table 1 - Aggregated Buy Trades\n"
   ]
  },
  {
   "cell_type": "code",
   "execution_count": null,
   "id": "e80b72d6",
   "metadata": {},
   "outputs": [],
   "source": [
    "CREATE TABLE AGG_BUY_ORDERS WITH (KAFKA_TOPIC='AGG_BUY_ORDERS', PARTITIONS=1, REPLICAS=1) AS SELECT\n",
    "  BUY_TRADES.SYMBOL SYMBOL,\n",
    "  SUM(BUY_TRADES.QUANTITY) QUANTITY_AGG,\n",
    "  AVG(BUY_TRADES.PRICE) PRICE_AVG,\n",
    "  SUM((BUY_TRADES.QUANTITY * BUY_TRADES.PRICE)) VALUE_TRADED\n",
    "FROM BUY_TRADES BUY_TRADES\n",
    "WINDOW TUMBLING ( SIZE 60 SECONDS )\n",
    "GROUP BY BUY_TRADES.SYMBOL\n",
    "EMIT CHANGES;\n"
   ]
  },
  {
   "cell_type": "markdown",
   "id": "3a017b19",
   "metadata": {},
   "source": [
    "### Table 2 - Aggregated Sell Trades"
   ]
  },
  {
   "cell_type": "code",
   "execution_count": null,
   "id": "3b0ff586",
   "metadata": {},
   "outputs": [],
   "source": [
    "CREATE TABLE AGG_SELL_ORDERS WITH (KAFKA_TOPIC='AGG_SELL_ORDERS', PARTITIONS=1, REPLICAS=1) AS SELECT\n",
    "  SELL_TRADES.SYMBOL SYMBOL,\n",
    "  SUM(SELL_TRADES.QUANTITY) QUANTITY_AGG,\n",
    "  AVG(SELL_TRADES.PRICE) PRICE_AVG,\n",
    "  SUM((SELL_TRADES.QUANTITY * SELL_TRADES.PRICE)) VALUE_TRADED\n",
    "FROM SELL_TRADES SELL_TRADES\n",
    "WINDOW TUMBLING ( SIZE 60 SECONDS )\n",
    "GROUP BY SELL_TRADES.SYMBOL\n",
    "EMIT CHANGES;"
   ]
  },
  {
   "cell_type": "markdown",
   "id": "e341cd00",
   "metadata": {},
   "source": [
    "## Part 3 - Consume/Transform data with Spark Streaming"
   ]
  },
  {
   "cell_type": "code",
   "execution_count": 1,
   "id": "678c4807",
   "metadata": {},
   "outputs": [],
   "source": [
    "from pyspark.sql import SparkSession\n",
    "from IPython.display import display, clear_output\n",
    "import time\n",
    "from pyspark.sql import functions as F\n",
    "from pyspark.sql.types import StructType,StringType, StructField, IntegerType, FloatType"
   ]
  },
  {
   "cell_type": "code",
   "execution_count": 2,
   "id": "ec6027da",
   "metadata": {},
   "outputs": [],
   "source": [
    "spark = SparkSession.builder \\\n",
    "        .appName('kafka') \\\n",
    "        .getOrCreate()"
   ]
  },
  {
   "cell_type": "code",
   "execution_count": 3,
   "id": "28574e86",
   "metadata": {},
   "outputs": [
    {
     "data": {
      "text/plain": [
       "'3.1.1'"
      ]
     },
     "execution_count": 3,
     "metadata": {},
     "output_type": "execute_result"
    }
   ],
   "source": [
    "spark.version"
   ]
  },
  {
   "cell_type": "code",
   "execution_count": 4,
   "id": "e86f9763",
   "metadata": {},
   "outputs": [
    {
     "data": {
      "text/plain": [
       "'3.2.0'"
      ]
     },
     "execution_count": 4,
     "metadata": {},
     "output_type": "execute_result"
    }
   ],
   "source": [
    "spark._jvm.org.apache.hadoop.util.VersionInfo.getVersion()"
   ]
  },
  {
   "cell_type": "markdown",
   "id": "ef4649c3",
   "metadata": {},
   "source": [
    "## Raw Data Streams"
   ]
  },
  {
   "cell_type": "code",
   "execution_count": 5,
   "id": "2d26dfe5",
   "metadata": {},
   "outputs": [],
   "source": [
    "stream_df = spark \\\n",
    "  .readStream \\\n",
    "  .format(\"kafka\") \\\n",
    "  .option(\"kafka.bootstrap.servers\", \"broker:29092\") \\\n",
    "  .option(\"startingOffsets\", \"earliest\") \\\n",
    "  .option(\"subscribe\", \"stocktrades\") \\\n",
    "  .load()"
   ]
  },
  {
   "cell_type": "code",
   "execution_count": 6,
   "id": "5b5b4c8b",
   "metadata": {},
   "outputs": [
    {
     "name": "stdout",
     "output_type": "stream",
     "text": [
      "root\n",
      " |-- key: binary (nullable = true)\n",
      " |-- value: binary (nullable = true)\n",
      " |-- topic: string (nullable = true)\n",
      " |-- partition: integer (nullable = true)\n",
      " |-- offset: long (nullable = true)\n",
      " |-- timestamp: timestamp (nullable = true)\n",
      " |-- timestampType: integer (nullable = true)\n",
      "\n"
     ]
    }
   ],
   "source": [
    "stream_df.printSchema()"
   ]
  },
  {
   "cell_type": "code",
   "execution_count": 7,
   "id": "f512ac4b",
   "metadata": {},
   "outputs": [],
   "source": [
    "raw_stream = stream_df \\\n",
    "    .writeStream \\\n",
    "    .format(\"memory\") \\\n",
    "    .queryName(\"raw_stocktrades_view\") \\\n",
    "    .start()"
   ]
  },
  {
   "cell_type": "code",
   "execution_count": 9,
   "id": "e0cafa2c",
   "metadata": {},
   "outputs": [
    {
     "name": "stdout",
     "output_type": "stream",
     "text": [
      "+----------------+-------------------------------------------------------------------------------------------------------+\n",
      "|key             |VALUE                                                                                                  |\n",
      "+----------------+-------------------------------------------------------------------------------------------------------+\n",
      "|[5A 56 5A 5A 54]|[00 00 00 00 01 08 53 45 4C 4C AE 12 0A 5A 56 5A 5A 54 D8 03 0C 4C 4D 4E 34 35 36 0C 55 73 65 72 5F 39]|\n",
      "|[5A 56 56]      |[00 00 00 00 01 08 53 45 4C 4C FC 1A 06 5A 56 56 CA 06 0C 41 42 43 31 32 33 0C 55 73 65 72 5F 35]      |\n",
      "|[5A 56 5A 5A 54]|[00 00 00 00 01 06 42 55 59 FA 29 0A 5A 56 5A 5A 54 B0 0A 0C 4C 4D 4E 34 35 36 0C 55 73 65 72 5F 33]   |\n",
      "|[5A 58 5A 5A 54]|[00 00 00 00 01 06 42 55 59 A4 01 0A 5A 58 5A 5A 54 E4 0B 0C 58 59 5A 37 38 39 0C 55 73 65 72 5F 38]   |\n",
      "|[5A 56 56]      |[00 00 00 00 01 08 53 45 4C 4C 8E 4C 06 5A 56 56 BA 0D 0C 58 59 5A 37 38 39 0C 55 73 65 72 5F 36]      |\n",
      "|[5A 4A 5A 5A 54]|[00 00 00 00 01 08 53 45 4C 4C E0 33 0A 5A 4A 5A 5A 54 CE 0C 0C 58 59 5A 37 38 39 0C 55 73 65 72 5F 35]|\n",
      "|[5A 4A 5A 5A 54]|[00 00 00 00 01 08 53 45 4C 4C C8 35 0A 5A 4A 5A 5A 54 AE 08 0C 4C 4D 4E 34 35 36 0C 55 73 65 72 5F 33]|\n",
      "|[5A 54 45 53 54]|[00 00 00 00 01 06 42 55 59 D0 1B 0A 5A 54 45 53 54 8C 02 0C 41 42 43 31 32 33 0C 55 73 65 72 5F 34]   |\n",
      "|[5A 57 5A 5A 54]|[00 00 00 00 01 06 42 55 59 BC 26 0A 5A 57 5A 5A 54 F4 0B 0C 58 59 5A 37 38 39 0C 55 73 65 72 5F 32]   |\n",
      "|[5A 56 5A 5A 54]|[00 00 00 00 01 08 53 45 4C 4C D8 2B 0A 5A 56 5A 5A 54 B2 0B 0C 4C 4D 4E 34 35 36 0C 55 73 65 72 5F 33]|\n",
      "|[5A 57 5A 5A 54]|[00 00 00 00 01 08 53 45 4C 4C 82 2E 0A 5A 57 5A 5A 54 A4 0C 0C 58 59 5A 37 38 39 0C 55 73 65 72 5F 38]|\n",
      "|[5A 42 5A 58]   |[00 00 00 00 01 08 53 45 4C 4C 8C 16 08 5A 42 5A 58 98 0E 0C 4C 4D 4E 34 35 36 0C 55 73 65 72 5F 38]   |\n",
      "|[5A 54 45 53 54]|[00 00 00 00 01 08 53 45 4C 4C D4 2A 0A 5A 54 45 53 54 F2 05 0C 4C 4D 4E 34 35 36 0C 55 73 65 72 5F 33]|\n",
      "|[5A 56 56]      |[00 00 00 00 01 06 42 55 59 A8 3F 06 5A 56 56 AE 0B 0C 4C 4D 4E 34 35 36 0C 55 73 65 72 5F 39]         |\n",
      "|[5A 57 5A 5A 54]|[00 00 00 00 01 06 42 55 59 C8 34 0A 5A 57 5A 5A 54 D8 04 0C 4C 4D 4E 34 35 36 0C 55 73 65 72 5F 35]   |\n",
      "|[5A 42 5A 58]   |[00 00 00 00 01 06 42 55 59 9E 10 08 5A 42 5A 58 1A 0C 4C 4D 4E 34 35 36 0C 55 73 65 72 5F 33]         |\n",
      "|[5A 56 56]      |[00 00 00 00 01 08 53 45 4C 4C DA 0F 06 5A 56 56 E4 0A 0C 41 42 43 31 32 33 0C 55 73 65 72 5F 38]      |\n",
      "|[5A 56 56]      |[00 00 00 00 01 06 42 55 59 80 3C 06 5A 56 56 B2 08 0C 41 42 43 31 32 33 0C 55 73 65 72 5F 38]         |\n",
      "|[5A 57 5A 5A 54]|[00 00 00 00 01 08 53 45 4C 4C 88 09 0A 5A 57 5A 5A 54 C8 04 0C 41 42 43 31 32 33 0C 55 73 65 72 5F 35]|\n",
      "|[5A 58 5A 5A 54]|[00 00 00 00 01 08 53 45 4C 4C D0 12 0A 5A 58 5A 5A 54 D8 06 0C 58 59 5A 37 38 39 0C 55 73 65 72 5F 31]|\n",
      "+----------------+-------------------------------------------------------------------------------------------------------+\n",
      "only showing top 20 rows\n",
      "\n"
     ]
    },
    {
     "data": {
      "text/plain": [
       "None"
      ]
     },
     "metadata": {},
     "output_type": "display_data"
    }
   ],
   "source": [
    "clear_output(wait=True)\n",
    "display(spark.sql('SELECT key, VALUE FROM raw_stocktrades_view').show(20,False))\n",
    "time.sleep(1)"
   ]
  },
  {
   "cell_type": "code",
   "execution_count": 10,
   "id": "84796c71",
   "metadata": {},
   "outputs": [],
   "source": [
    "raw_stream.stop()"
   ]
  },
  {
   "cell_type": "markdown",
   "id": "b605d9f2",
   "metadata": {},
   "source": [
    "### Convert Key Value pairs to strings"
   ]
  },
  {
   "cell_type": "code",
   "execution_count": 39,
   "id": "d6e04b75",
   "metadata": {},
   "outputs": [],
   "source": [
    "binary_to_string = F.udf(lambda x: str(int.from_bytes(x, byteorder='big')), StringType())"
   ]
  },
  {
   "cell_type": "code",
   "execution_count": 44,
   "id": "9c1d910d",
   "metadata": {},
   "outputs": [],
   "source": [
    "string_stream_df = stream_df \\\n",
    "    .withColumn(\"key\", stream_df[\"key\"].cast(StringType())) \\\n",
    "      .withColumn('value', stream_df[\"value\"]).cast(Bin.cast(StringType()))"
   ]
  },
  {
   "cell_type": "code",
   "execution_count": 47,
   "id": "dcaf9876",
   "metadata": {},
   "outputs": [],
   "source": [
    "string_stream = string_stream_df \\\n",
    "    .writeStream \\\n",
    "    .format(\"memory\") \\\n",
    "    .queryName(\"string_stocktrades_view\") \\\n",
    "    .start()"
   ]
  },
  {
   "cell_type": "code",
   "execution_count": 49,
   "id": "1e614bf7",
   "metadata": {},
   "outputs": [
    {
     "name": "stdout",
     "output_type": "stream",
     "text": [
      "+-----+----------------------------------------------------------------------+\n",
      "|key  |value                                                                 |\n",
      "+-----+----------------------------------------------------------------------+\n",
      "|ZVZZT|7126195347898492234181621467505828596323144739168680206886391325548345|\n",
      "|ZVV  |108737111631781090597043072107626751258340209375487409574921789237    |\n",
      "|ZVZZT|27619108396887512334897440635604788762418100397534788568956829589299  |\n",
      "|ZXZZT|27619108394774967231825230825968580113572005927512098568858202431288  |\n",
      "|ZVV  |108737111631740007786017700405364745652537371279877226748512984886    |\n",
      "|ZJZZT|7126195347899721391386298706599022506412986030248073974192004997996341|\n",
      "|ZJZZT|7126195347899133104660548813513477639881931687571347375342452980473651|\n",
      "|ZTEST|27619108395856334397825418763012203914970118356183531965747433725748  |\n",
      "|ZWZZT|27619108395366989415450275524813582857906335254097475658415709773618  |\n",
      "|ZVZZT|7126195347899524465709365947769936121317154710773622087432057098755891|\n",
      "|ZWZZT|7126195347897416039188054106045748197838698045168040923546825306300216|\n",
      "|ZBZX |27836700577725230230401846180308217372176330774238577750336177594168  |\n",
      "|ZTEST|7126195347899426290213767339858055760804220812434239966331510855982899|\n",
      "|ZVV  |421434149091781370087773536883045256474561346147808958494170937       |\n",
      "|ZWZZT|27619108395662569492894783838332194309853497458031714234335218523957  |\n",
      "|ZBZX |421434149087971246735492415798076592778136472120456368075464499       |\n",
      "|ZVV  |108737111631768353610273733323275303222865038974984213675415592760    |\n",
      "|ZVV  |421434149076811208816593103593219130369672296292986175534292792       |\n",
      "|ZWZZT|7126195347897559614864038979008213456143448184725691579433606785949493|\n",
      "|ZXZZT|7126195347899325911755863929026317200362808015548428801942548754095921|\n",
      "+-----+----------------------------------------------------------------------+\n",
      "only showing top 20 rows\n",
      "\n"
     ]
    },
    {
     "data": {
      "text/plain": [
       "None"
      ]
     },
     "metadata": {},
     "output_type": "display_data"
    }
   ],
   "source": [
    "clear_output(wait=True)\n",
    "display(spark.sql('SELECT key, value FROM string_stocktrades_view').show(20, False))\n",
    "time.sleep(1)"
   ]
  },
  {
   "cell_type": "code",
   "execution_count": 46,
   "id": "aa870341",
   "metadata": {},
   "outputs": [],
   "source": [
    "string_stream.stop()"
   ]
  },
  {
   "cell_type": "markdown",
   "id": "5c89b148",
   "metadata": {},
   "source": [
    "## Transformation"
   ]
  },
  {
   "cell_type": "code",
   "execution_count": 73,
   "id": "dc73e48e",
   "metadata": {},
   "outputs": [],
   "source": [
    "schema_stocktrades = StructType([\n",
    "        StructField(\"side\", StringType(),  True),\n",
    "        StructField(\"quantity\", IntegerType(),  True),\n",
    "        StructField(\"price\", IntegerType(),  True),\n",
    "        StructField(\"symbol\", StringType(),  True),\n",
    "        StructField(\"account\", StringType(), True),\n",
    "         StructField(\"\", StringType(), True)\n",
    "    \n",
    "])"
   ]
  },
  {
   "cell_type": "code",
   "execution_count": 74,
   "id": "1cf24d38",
   "metadata": {},
   "outputs": [],
   "source": [
    "json_stream_df = string_stream_df\\\n",
    "    .withColumn(\"value\", F.from_json(\"value\", schema_stocktrades))"
   ]
  },
  {
   "cell_type": "code",
   "execution_count": 75,
   "id": "2cb29bea",
   "metadata": {},
   "outputs": [
    {
     "name": "stdout",
     "output_type": "stream",
     "text": [
      "root\n",
      " |-- key: string (nullable = true)\n",
      " |-- value: struct (nullable = true)\n",
      " |    |-- side: string (nullable = true)\n",
      " |    |-- quantity: integer (nullable = true)\n",
      " |    |-- price: integer (nullable = true)\n",
      " |    |-- symbol: string (nullable = true)\n",
      " |    |-- account: string (nullable = true)\n",
      " |    |-- userid: string (nullable = true)\n",
      " |-- topic: string (nullable = true)\n",
      " |-- partition: integer (nullable = true)\n",
      " |-- offset: long (nullable = true)\n",
      " |-- timestamp: timestamp (nullable = true)\n",
      " |-- timestampType: integer (nullable = true)\n",
      "\n"
     ]
    }
   ],
   "source": [
    "json_stream_df.printSchema()"
   ]
  },
  {
   "cell_type": "code",
   "execution_count": 68,
   "id": "67fefb7a",
   "metadata": {},
   "outputs": [],
   "source": [
    "json_stream = json_stream_df \\\n",
    "    .writeStream \\\n",
    "    .format(\"memory\") \\\n",
    "    .queryName(\"extract_stocktrades_view\") \\\n",
    "    .start()"
   ]
  },
  {
   "cell_type": "code",
   "execution_count": 71,
   "id": "e5744454",
   "metadata": {},
   "outputs": [
    {
     "name": "stdout",
     "output_type": "stream",
     "text": [
      "+-----+--------------------+-----------+---------+------+--------------------+-------------+\n",
      "|  key|               value|      topic|partition|offset|           timestamp|timestampType|\n",
      "+-----+--------------------+-----------+---------+------+--------------------+-------------+\n",
      "|ZVZZT|{null, null, null...|stocktrades|        0|     0|2021-06-05 05:39:...|            0|\n",
      "|ZVZZT|{null, null, null...|stocktrades|        0|     1|2021-06-05 05:39:...|            0|\n",
      "|ZWZZT|{null, null, null...|stocktrades|        0|     2|2021-06-05 05:39:...|            0|\n",
      "|ZJZZT|{null, null, null...|stocktrades|        0|     3|2021-06-05 05:39:...|            0|\n",
      "|ZVZZT|{null, null, null...|stocktrades|        0|     4|2021-06-05 05:39:...|            0|\n",
      "|ZXZZT|{null, null, null...|stocktrades|        0|     5|2021-06-05 05:39:...|            0|\n",
      "|ZVZZT|{null, null, null...|stocktrades|        0|     6|2021-06-05 05:39:...|            0|\n",
      "| ZBZX|{null, null, null...|stocktrades|        0|     7|2021-06-05 05:39:...|            0|\n",
      "|ZVZZT|{null, null, null...|stocktrades|        0|     8|2021-06-05 05:39:...|            0|\n",
      "|ZTEST|{null, null, null...|stocktrades|        0|     9|2021-06-05 05:39:...|            0|\n",
      "| ZBZX|{null, null, null...|stocktrades|        0|    10|2021-06-05 05:39:...|            0|\n",
      "|ZJZZT|{null, null, null...|stocktrades|        0|    11|2021-06-05 05:39:...|            0|\n",
      "|ZJZZT|{null, null, null...|stocktrades|        0|    12|2021-06-05 05:39:...|            0|\n",
      "|ZTEST|{null, null, null...|stocktrades|        0|    13|2021-06-05 05:39:...|            0|\n",
      "|  ZVV|{null, null, null...|stocktrades|        0|    14|2021-06-05 05:39:...|            0|\n",
      "| ZBZX|{null, null, null...|stocktrades|        0|    15|2021-06-05 05:39:...|            0|\n",
      "|ZTEST|{null, null, null...|stocktrades|        0|    16|2021-06-05 05:39:...|            0|\n",
      "|ZWZZT|{null, null, null...|stocktrades|        0|    17|2021-06-05 05:39:...|            0|\n",
      "|ZXZZT|{null, null, null...|stocktrades|        0|    18|2021-06-05 05:39:...|            0|\n",
      "|ZXZZT|{null, null, null...|stocktrades|        0|    19|2021-06-05 05:39:...|            0|\n",
      "+-----+--------------------+-----------+---------+------+--------------------+-------------+\n",
      "only showing top 20 rows\n",
      "\n"
     ]
    },
    {
     "data": {
      "text/plain": [
       "None"
      ]
     },
     "metadata": {},
     "output_type": "display_data"
    }
   ],
   "source": [
    "clear_output(wait=True)\n",
    "display(spark.sql('SELECT * FROM extract_stocktrades_view').show(20))\n",
    "time.sleep(1)"
   ]
  },
  {
   "cell_type": "code",
   "execution_count": 72,
   "id": "5efe0706",
   "metadata": {},
   "outputs": [],
   "source": [
    "json_stream.stop()"
   ]
  },
  {
   "cell_type": "code",
   "execution_count": 142,
   "id": "f1a7e536",
   "metadata": {},
   "outputs": [],
   "source": [
    "spark.stop()"
   ]
  },
  {
   "cell_type": "code",
   "execution_count": null,
   "id": "d4df41e6",
   "metadata": {},
   "outputs": [],
   "source": []
  },
  {
   "cell_type": "code",
   "execution_count": 14,
   "id": "2c9a0d16",
   "metadata": {},
   "outputs": [],
   "source": [
    "hex_string = '00 00 00 00 01 08 53 45 4C 4C AE 12 0A 5A 56 5A 5A 54 D8 03 0C 4C 4D 4E 34 35 36 0C 55 73 65 72 5F 39'"
   ]
  },
  {
   "cell_type": "code",
   "execution_count": 15,
   "id": "70d0061e",
   "metadata": {},
   "outputs": [],
   "source": [
    "bytes_object = bytes.fromhex(hex_string)"
   ]
  },
  {
   "cell_type": "code",
   "execution_count": 18,
   "id": "263fe107",
   "metadata": {},
   "outputs": [
    {
     "name": "stdout",
     "output_type": "stream",
     "text": [
      "b'\\x00\\x00\\x00\\x00\\x01\\x08SELL\\xae\\x12\\nZVZZT\\xd8\\x03\\x0cLMN456\\x0cUser_9'\n"
     ]
    }
   ],
   "source": [
    "print(bytes_object)"
   ]
  },
  {
   "cell_type": "code",
   "execution_count": 20,
   "id": "e77bca19",
   "metadata": {},
   "outputs": [
    {
     "data": {
      "text/plain": [
       "'\\x00\\x00\\x00\\x00\\x01'"
      ]
     },
     "execution_count": 20,
     "metadata": {},
     "output_type": "execute_result"
    }
   ],
   "source": [
    "b'\\x00\\x00\\x00\\x00\\x01'.decode(\"ASCII\")"
   ]
  },
  {
   "cell_type": "code",
   "execution_count": null,
   "id": "3e5de93a",
   "metadata": {},
   "outputs": [],
   "source": []
  }
 ],
 "metadata": {
  "kernelspec": {
   "display_name": "Python 3",
   "language": "python",
   "name": "python3"
  },
  "language_info": {
   "codemirror_mode": {
    "name": "ipython",
    "version": 3
   },
   "file_extension": ".py",
   "mimetype": "text/x-python",
   "name": "python",
   "nbconvert_exporter": "python",
   "pygments_lexer": "ipython3",
   "version": "3.8.8"
  }
 },
 "nbformat": 4,
 "nbformat_minor": 5
}
